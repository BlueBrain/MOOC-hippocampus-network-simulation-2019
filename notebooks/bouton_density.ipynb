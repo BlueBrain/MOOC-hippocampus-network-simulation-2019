{
 "cells": [
  {
   "cell_type": "markdown",
   "metadata": {},
   "source": [
    "## Bouton density"
   ]
  },
  {
   "cell_type": "markdown",
   "metadata": {},
   "source": [
    "First, some packages needs to be imported."
   ]
  },
  {
   "cell_type": "code",
   "execution_count": null,
   "metadata": {},
   "outputs": [],
   "source": [
    "import pandas as pd\n",
    "import numpy as np\n",
    "from scipy import stats\n",
    "import matplotlib.pyplot as plt\n",
    "import seaborn\n",
    "import json\n",
    "from pathlib import Path\n",
    "\n",
    "# package to work with the circuit\n",
    "from bluepysnap import Circuit\n",
    "from bluepysnap.bbp import Cell\n",
    "import neurom as nm"
   ]
  },
  {
   "cell_type": "markdown",
   "metadata": {},
   "source": [
    "Reading and preparing the data"
   ]
  },
  {
   "cell_type": "code",
   "execution_count": null,
   "metadata": {},
   "outputs": [],
   "source": [
    "circuit_path = '/home/data-bbp/20191017/circuit/circuit_config.json'\n",
    "circuit = Circuit(circuit_path)\n",
    "cells = circuit.nodes[\"hippocampus_neurons\"]\n",
    "conn = circuit.edges[\"hippocampus_neurons__hippocampus_neurons__chemical\"]"
   ]
  },
  {
   "cell_type": "code",
   "execution_count": null,
   "metadata": {},
   "outputs": [],
   "source": [
    "sample = 500\n",
    "mtypes = cells.property_values(Cell.MTYPE)"
   ]
  },
  {
   "cell_type": "code",
   "execution_count": null,
   "metadata": {},
   "outputs": [],
   "source": [
    "df = pd.DataFrame(index=mtypes, columns=['mean', 'std'])"
   ]
  },
  {
   "cell_type": "code",
   "execution_count": null,
   "metadata": {},
   "outputs": [],
   "source": [
    "def sample_bouton_density(circuit, sample, group=None, synapses_per_bouton=1.0):\n",
    "    def _calc_bouton_density(gid, synapses_per_bouton):\n",
    "        synapse_count = len(conn.efferent_edges(gid))\n",
    "        axon_length = nm.get(\n",
    "            'neurite_lengths', cells.morph.get(gid, False), neurite_type=nm.AXON\n",
    "        )[0]\n",
    "        return (1.0 * synapse_count / synapses_per_bouton) / axon_length\n",
    "\n",
    "    gids = cells.ids(group)\n",
    "    print(f\" number of cells {len(gids)}\")\n",
    "    if len(gids) > sample:\n",
    "        gids = np.random.choice(gids, size=sample, replace=False)\n",
    "    return np.array([_calc_bouton_density(gid, synapses_per_bouton) for gid in gids])\n",
    "\n",
    "\n",
    "for i, mtype in enumerate(mtypes, 1):\n",
    "    print(f\"{mtype}, {i}/{len(mtypes)} mtypes\")\n",
    "    data = sample_bouton_density(circuit, sample, group={Cell.MTYPE: mtype, Cell.REGION: {'$regex': 'mc2.*'}}, synapses_per_bouton=1.15) \n",
    "    if len(data) == 0:\n",
    "        print(f\" {mtype}: no button to sample mean and std will be set to 0\")\n",
    "    df.loc[mtype]['mean'] = data.mean() if len(data) != 0 else 0\n",
    "    df.loc[mtype]['std'] = data.std() if len(data) != 0 else 0\n",
    "\n",
    "df.head(len(mtypes))"
   ]
  },
  {
   "cell_type": "code",
   "execution_count": null,
   "metadata": {},
   "outputs": [],
   "source": [
    "fig, ax = plt.subplots()\n",
    "\n",
    "labels = mtypes\n",
    "ind = np.arange(len(labels))\n",
    "width = 0.75\n",
    "\n",
    "s = ax.bar(ind, df['mean'], width, yerr=df.loc[mtype]['std'])\n",
    "\n",
    "ax.set_xlabel('mtype')\n",
    "ax.set_ylabel('density (um^-1)')\n",
    "ax.set_title('Bouton density')\n",
    "ax.set_xticks(ind)\n",
    "ax.set_xticklabels(labels, rotation='vertical')\n",
    "\n",
    "fig.tight_layout()\n",
    "\n",
    "fig.show()"
   ]
  },
  {
   "cell_type": "code",
   "execution_count": null,
   "metadata": {},
   "outputs": [],
   "source": [
    "# reference biological dataset\n",
    "bio_path = '/home/data-bbp/20191017/circuit/bioname/bouton_density_20190131.tsv'"
   ]
  },
  {
   "cell_type": "code",
   "execution_count": null,
   "metadata": {},
   "outputs": [],
   "source": [
    "data = pd.read_csv(bio_path, names=['mtype', 'bio_mean', 'bio_std'], skiprows=2, usecols=[0,1,2], delim_whitespace=True)\n",
    "data.head()"
   ]
  },
  {
   "cell_type": "code",
   "execution_count": null,
   "metadata": {},
   "outputs": [],
   "source": [
    "selected = data['mtype'].values\n",
    "data['mod_mean'] = df.loc[selected]['mean'].values\n",
    "data['mod_std'] = df.loc[selected]['std'].values\n",
    "data.head()"
   ]
  },
  {
   "cell_type": "code",
   "execution_count": null,
   "metadata": {},
   "outputs": [],
   "source": [
    "plt.close('all')\n",
    "\n",
    "x = data['mod_mean'].values\n",
    "y = data['bio_mean'].values\n",
    "# remove nan value from the array\n",
    "# l = np.linspace(0, max(x[~np.isnan(x)].max(), y.max()), 50)\n",
    "l = np.linspace(0, max(x.max(), y.max()), 50)\n",
    "fig, ax = plt.subplots()\n",
    "fig.suptitle('Bouton density')\n",
    "ax.plot(x, y, 'o')\n",
    "ax.errorbar(x, y, xerr=data['mod_std'].values, yerr=data['bio_std'].values, fmt='o', ecolor='g', capthick=2)\n",
    "ax.plot(l, l, 'k--')\n",
    "ax.set_xlabel('Model (um^-1)')\n",
    "ax.set_ylabel('Experiment (um^-1)')\n",
    "\n",
    "fig.show()"
   ]
  },
  {
   "cell_type": "code",
   "execution_count": null,
   "metadata": {
    "jupyter": {
     "outputs_hidden": true
    }
   },
   "outputs": [],
   "source": [
    "# Work here"
   ]
  },
  {
   "cell_type": "markdown",
   "metadata": {},
   "source": [
    "### Exercise #1\n",
    "Calculate the average bouton density in an interneuron and a neuron in general. Store the answer in ans_1a and ans_1b.\n",
    "\n",
    "__Hint__: to query gids of interneurons use Cell.SYNAPSE_CLASS. When you query all the interneurons, you do not need any filters.\n",
    "\n",
    "### Exercise #2\n",
    "Calculate bouton density not in the central column. Is it lower, bigger or the same of the bouton density calculated in the central column? Why?"
   ]
  },
  {
   "cell_type": "code",
   "execution_count": null,
   "metadata": {},
   "outputs": [],
   "source": [
    "# This is to generate the answers to paste in the submission box below.\n",
    "# Run this and copy-paste the output into the box below\n",
    "print(json.dumps(dict([(\"ans_1a\", ans_1a),\n",
    "                       (\"ans_1b\", ans_1b),\n",
    "                       (\"ans_2a\", ans_2a),\n",
    "                       (\"ans_2b\", ans_2b)])))"
   ]
  },
  {
   "cell_type": "code",
   "execution_count": null,
   "metadata": {},
   "outputs": [],
   "source": [
    "!pip -q install -i https://bbpteam.epfl.ch/repository/devpi/simple/ single-cell-mooc-client==0.0.5 \n",
    "import single_cell_mooc_client as sc_mc\n",
    "s = sc_mc.Submission(hideToken=True)"
   ]
  },
  {
   "cell_type": "code",
   "execution_count": null,
   "metadata": {},
   "outputs": [],
   "source": [
    "s.show_submission(ROLLBACK, TOKEN)"
   ]
  }
 ],
 "metadata": {
  "kernelspec": {
   "display_name": "Python 3",
   "language": "python",
   "name": "python3"
  },
  "language_info": {
   "codemirror_mode": {
    "name": "ipython",
    "version": 3
   },
   "file_extension": ".py",
   "mimetype": "text/x-python",
   "name": "python",
   "nbconvert_exporter": "python",
   "pygments_lexer": "ipython3",
   "version": "3.6.9"
  }
 },
 "nbformat": 4,
 "nbformat_minor": 4
}
