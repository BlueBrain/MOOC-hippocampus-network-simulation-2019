{
 "cells": [
  {
   "cell_type": "markdown",
   "metadata": {},
   "source": [
    "## Bouton density"
   ]
  },
  {
   "cell_type": "markdown",
   "metadata": {},
   "source": [
    "First, some packages needs to be imported."
   ]
  },
  {
   "cell_type": "code",
   "execution_count": 1,
   "metadata": {},
   "outputs": [
    {
     "name": "stderr",
     "output_type": "stream",
     "text": [
      "/usr/local/lib/python3.6/dist-packages/statsmodels/tools/_testing.py:19: FutureWarning: pandas.util.testing is deprecated. Use the functions in the public API at pandas.testing instead.\n",
      "  import pandas.util.testing as tm\n"
     ]
    }
   ],
   "source": [
    "import pandas as pd\n",
    "import numpy as np\n",
    "from scipy import stats\n",
    "import matplotlib.pyplot as plt\n",
    "import seaborn\n",
    "import json\n",
    "from pathlib import Path\n",
    "\n",
    "# package to work with the circuit\n",
    "from bluepysnap import Circuit\n",
    "from bluepysnap.bbp import Cell\n",
    "import neurom as nm"
   ]
  },
  {
   "cell_type": "markdown",
   "metadata": {},
   "source": [
    "Reading and preparing the data"
   ]
  },
  {
   "cell_type": "code",
   "execution_count": 2,
   "metadata": {},
   "outputs": [],
   "source": [
    "circuit_path = '/home/data-bbp/20191017/circuit_config.json'\n",
    "circuit = Circuit(circuit_path)\n",
    "cells = circuit.nodes[\"hippocampus_neurons\"]\n",
    "conn = circuit.edges[\"hippocampus_neurons__hippocampus_neurons__chemical\"]"
   ]
  },
  {
   "cell_type": "code",
   "execution_count": 3,
   "metadata": {},
   "outputs": [],
   "source": [
    "sample = 500\n",
    "mtypes = cells.property_values(Cell.MTYPE)"
   ]
  },
  {
   "cell_type": "code",
   "execution_count": 4,
   "metadata": {},
   "outputs": [],
   "source": [
    "df = pd.DataFrame(index=mtypes, columns=['mean', 'std'])"
   ]
  },
  {
   "cell_type": "code",
   "execution_count": 5,
   "metadata": {},
   "outputs": [
    {
     "name": "stdout",
     "output_type": "stream",
     "text": [
      "SP_PVBC, 1/12 mtypes\n",
      " number of cells 44\n",
      "SP_BS, 2/12 mtypes\n",
      " number of cells 6\n",
      "SO_BS, 3/12 mtypes\n",
      " number of cells 2\n",
      "SO_Tri, 4/12 mtypes\n",
      " number of cells 6\n",
      "SP_Ivy, 5/12 mtypes\n",
      " number of cells 53\n",
      "SO_OLM, 6/12 mtypes\n",
      " number of cells 7\n",
      "SR_SCA, 7/12 mtypes\n",
      " number of cells 3\n",
      "SP_CCKBC, 8/12 mtypes\n",
      " number of cells 16\n",
      "SP_AA, 9/12 mtypes\n",
      " number of cells 10\n",
      "SO_BP, 10/12 mtypes\n",
      " number of cells 0\n",
      " SO_BP: no button to sample mean and std will be set to 0\n",
      "SLM_PPA, 11/12 mtypes\n",
      " number of cells 0\n",
      " SLM_PPA: no button to sample mean and std will be set to 0\n",
      "SP_PC, 12/12 mtypes\n",
      " number of cells 2337\n"
     ]
    },
    {
     "data": {
      "text/html": [
       "<div>\n",
       "<style scoped>\n",
       "    .dataframe tbody tr th:only-of-type {\n",
       "        vertical-align: middle;\n",
       "    }\n",
       "\n",
       "    .dataframe tbody tr th {\n",
       "        vertical-align: top;\n",
       "    }\n",
       "\n",
       "    .dataframe thead th {\n",
       "        text-align: right;\n",
       "    }\n",
       "</style>\n",
       "<table border=\"1\" class=\"dataframe\">\n",
       "  <thead>\n",
       "    <tr style=\"text-align: right;\">\n",
       "      <th></th>\n",
       "      <th>mean</th>\n",
       "      <th>std</th>\n",
       "    </tr>\n",
       "  </thead>\n",
       "  <tbody>\n",
       "    <tr>\n",
       "      <th>SP_PVBC</th>\n",
       "      <td>0.133202</td>\n",
       "      <td>0.014961</td>\n",
       "    </tr>\n",
       "    <tr>\n",
       "      <th>SP_BS</th>\n",
       "      <td>0.166835</td>\n",
       "      <td>0.00500098</td>\n",
       "    </tr>\n",
       "    <tr>\n",
       "      <th>SO_BS</th>\n",
       "      <td>0.121966</td>\n",
       "      <td>0.0118379</td>\n",
       "    </tr>\n",
       "    <tr>\n",
       "      <th>SO_Tri</th>\n",
       "      <td>0.142601</td>\n",
       "      <td>0.022339</td>\n",
       "    </tr>\n",
       "    <tr>\n",
       "      <th>SP_Ivy</th>\n",
       "      <td>0.351666</td>\n",
       "      <td>0.0258634</td>\n",
       "    </tr>\n",
       "    <tr>\n",
       "      <th>SO_OLM</th>\n",
       "      <td>0.11137</td>\n",
       "      <td>0.0422948</td>\n",
       "    </tr>\n",
       "    <tr>\n",
       "      <th>SR_SCA</th>\n",
       "      <td>0.185316</td>\n",
       "      <td>0.0303312</td>\n",
       "    </tr>\n",
       "    <tr>\n",
       "      <th>SP_CCKBC</th>\n",
       "      <td>0.277248</td>\n",
       "      <td>0.0235034</td>\n",
       "    </tr>\n",
       "    <tr>\n",
       "      <th>SP_AA</th>\n",
       "      <td>0.0345508</td>\n",
       "      <td>0.0108657</td>\n",
       "    </tr>\n",
       "    <tr>\n",
       "      <th>SO_BP</th>\n",
       "      <td>0</td>\n",
       "      <td>0</td>\n",
       "    </tr>\n",
       "    <tr>\n",
       "      <th>SLM_PPA</th>\n",
       "      <td>0</td>\n",
       "      <td>0</td>\n",
       "    </tr>\n",
       "    <tr>\n",
       "      <th>SP_PC</th>\n",
       "      <td>0.0786772</td>\n",
       "      <td>0.0383074</td>\n",
       "    </tr>\n",
       "  </tbody>\n",
       "</table>\n",
       "</div>"
      ],
      "text/plain": [
       "               mean         std\n",
       "SP_PVBC    0.133202    0.014961\n",
       "SP_BS      0.166835  0.00500098\n",
       "SO_BS      0.121966   0.0118379\n",
       "SO_Tri     0.142601    0.022339\n",
       "SP_Ivy     0.351666   0.0258634\n",
       "SO_OLM      0.11137   0.0422948\n",
       "SR_SCA     0.185316   0.0303312\n",
       "SP_CCKBC   0.277248   0.0235034\n",
       "SP_AA     0.0345508   0.0108657\n",
       "SO_BP             0           0\n",
       "SLM_PPA           0           0\n",
       "SP_PC     0.0786772   0.0383074"
      ]
     },
     "execution_count": 5,
     "metadata": {},
     "output_type": "execute_result"
    }
   ],
   "source": [
    "def sample_bouton_density(circuit, sample, group=None, synapses_per_bouton=1.0):\n",
    "    def _calc_bouton_density(gid, synapses_per_bouton):\n",
    "        synapse_count = len(conn.efferent_edges(gid))\n",
    "        axon_length = nm.get(\n",
    "            'neurite_lengths', cells.morph.get(gid, False), neurite_type=nm.AXON\n",
    "        )[0]\n",
    "        return (1.0 * synapse_count / synapses_per_bouton) / axon_length\n",
    "\n",
    "    gids = cells.ids(group)\n",
    "    print(f\" number of cells {len(gids)}\")\n",
    "    if len(gids) > sample:\n",
    "        gids = np.random.choice(gids, size=sample, replace=False)\n",
    "    return np.array([_calc_bouton_density(gid, synapses_per_bouton) for gid in gids])\n",
    "\n",
    "\n",
    "for i, mtype in enumerate(mtypes, 1):\n",
    "    print(f\"{mtype}, {i}/{len(mtypes)} mtypes\")\n",
    "    data = sample_bouton_density(circuit, sample, group={Cell.MTYPE: mtype, Cell.REGION: {'$regex': 'mc2.*'}}, synapses_per_bouton=1.15) \n",
    "    if len(data) == 0:\n",
    "        print(f\" {mtype}: no button to sample mean and std will be set to 0\")\n",
    "    df.loc[mtype]['mean'] = data.mean() if len(data) != 0 else 0\n",
    "    df.loc[mtype]['std'] = data.std() if len(data) != 0 else 0\n",
    "\n",
    "df.head(len(mtypes))"
   ]
  },
  {
   "cell_type": "code",
   "execution_count": 6,
   "metadata": {},
   "outputs": [
    {
     "data": {
      "image/png": "[encoded data removed]",
      "text/plain": [
       "<Figure size 432x288 with 1 Axes>"
      ]
     },
     "metadata": {
      "needs_background": "light"
     },
     "output_type": "display_data"
    }
   ],
   "source": [
    "fig, ax = plt.subplots()\n",
    "\n",
    "labels = mtypes\n",
    "ind = np.arange(len(labels))\n",
    "width = 0.75\n",
    "\n",
    "s = ax.bar(ind, df['mean'], width, yerr=df.loc[mtype]['std'])\n",
    "\n",
    "ax.set_xlabel('mtype')\n",
    "ax.set_ylabel('density (um^-1)')\n",
    "ax.set_title('Bouton density')\n",
    "ax.set_xticks(ind)\n",
    "ax.set_xticklabels(labels, rotation='vertical')\n",
    "\n",
    "fig.tight_layout()\n",
    "\n",
    "fig.show()"
   ]
  },
  {
   "cell_type": "code",
   "execution_count": null,
   "metadata": {},
   "outputs": [],
   "source": [
    "# reference biological dataset\n",
    "bio_path = '/home/data-bbp/20191017/bioname/bouton_density_20190131.tsv'"
   ]
  },
  {
   "cell_type": "code",
   "execution_count": null,
   "metadata": {},
   "outputs": [],
   "source": [
    "data = pd.read_csv(bio_path, names=['mtype', 'bio_mean', 'bio_std'], skiprows=2, usecols=[0,1,2], delim_whitespace=True)\n",
    "data.head()"
   ]
  },
  {
   "cell_type": "code",
   "execution_count": null,
   "metadata": {},
   "outputs": [],
   "source": [
    "selected = data['mtype'].values\n",
    "data['mod_mean'] = df.loc[selected]['mean'].values\n",
    "data['mod_std'] = df.loc[selected]['std'].values\n",
    "data.head()"
   ]
  },
  {
   "cell_type": "code",
   "execution_count": null,
   "metadata": {},
   "outputs": [],
   "source": [
    "plt.close('all')\n",
    "\n",
    "x = data['mod_mean'].values\n",
    "y = data['bio_mean'].values\n",
    "# remove nan value from the array\n",
    "# l = np.linspace(0, max(x[~np.isnan(x)].max(), y.max()), 50)\n",
    "l = np.linspace(0, max(x.max(), y.max()), 50)\n",
    "fig, ax = plt.subplots()\n",
    "fig.suptitle('Bouton density')\n",
    "ax.plot(x, y, 'o')\n",
    "ax.errorbar(x, y, xerr=data['mod_std'].values, yerr=data['bio_std'].values, fmt='o', ecolor='g', capthick=2)\n",
    "ax.plot(l, l, 'k--')\n",
    "ax.set_xlabel('Model (um^-1)')\n",
    "ax.set_ylabel('Experiment (um^-1)')\n",
    "\n",
    "fig.show()"
   ]
  },
  {
   "cell_type": "code",
   "execution_count": null,
   "metadata": {
    "collapsed": true,
    "jupyter": {
     "outputs_hidden": true
    }
   },
   "outputs": [],
   "source": [
    "# Work here"
   ]
  },
  {
   "cell_type": "markdown",
   "metadata": {},
   "source": [
    "### Exercise #1\n",
    "Calculate the average bouton density in an interneuron and a neuron in general. Store the answer in ans_1a and ans_1b.\n",
    "\n",
    "__Hint__: to query gids of interneurons use Cell.SYNAPSE_CLASS. When you query all the interneurons, you do not need any filters.\n",
    "\n",
    "### Exercise #2\n",
    "Calculate bouton density not in the central column. Is it lower, bigger or the same of the bouton density calculated in the central column? Why?"
   ]
  },
  {
   "cell_type": "code",
   "execution_count": null,
   "metadata": {},
   "outputs": [],
   "source": [
    "# This is to generate the answers to paste in the submission box below.\n",
    "# Run this and copy-paste the output into the box below\n",
    "print(json.dumps(dict([(\"ans_1a\", ans_1a),\n",
    "                       (\"ans_1b\", ans_1b),\n",
    "                       (\"ans_2a\", ans_2a),\n",
    "                       (\"ans_2b\", ans_2b)])))"
   ]
  },
  {
   "cell_type": "code",
   "execution_count": null,
   "metadata": {},
   "outputs": [],
   "source": [
    "!pip -q install -i https://bbpteam.epfl.ch/repository/devpi/simple/ single-cell-mooc-client==0.0.5 \n",
    "import single_cell_mooc_client as sc_mc\n",
    "s = sc_mc.Submission(hideToken=True)"
   ]
  },
  {
   "cell_type": "code",
   "execution_count": null,
   "metadata": {},
   "outputs": [],
   "source": [
    "s.show_submission(ROLLBACK, TOKEN)"
   ]
  }
 ],
 "metadata": {
  "kernelspec": {
   "display_name": "Python 3",
   "language": "python",
   "name": "python3"
  },
  "language_info": {
   "codemirror_mode": {
    "name": "ipython",
    "version": 3
   },
   "file_extension": ".py",
   "mimetype": "text/x-python",
   "name": "python",
   "nbconvert_exporter": "python",
   "pygments_lexer": "ipython3",
   "version": "3.6.9"
  }
 },
 "nbformat": 4,
 "nbformat_minor": 4
}
