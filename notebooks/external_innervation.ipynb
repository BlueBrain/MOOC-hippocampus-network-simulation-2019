{
 "cells": [
  {
   "cell_type": "markdown",
   "metadata": {},
   "source": [
    "## Validate CA3 projections in CA1 microcircuit"
   ]
  },
  {
   "cell_type": "code",
   "execution_count": null,
   "metadata": {},
   "outputs": [],
   "source": [
    "import json\n",
    "from pathlib import Path\n",
    "from collections import Counter\n",
    "\n",
    "import numpy as np\n",
    "import nrrd \n",
    "import matplotlib.pyplot as plt\n",
    "# package to work with the circuit\n",
    "from bluepysnap import Circuit"
   ]
  },
  {
   "cell_type": "code",
   "execution_count": null,
   "metadata": {},
   "outputs": [],
   "source": [
    "circuit_path = '/home/data-bbp/20191017/circuit_config.json'\n",
    "circuit = Circuit(circuit_path)"
   ]
  },
  {
   "cell_type": "code",
   "execution_count": null,
   "metadata": {},
   "outputs": [],
   "source": [
    "print(list(circuit.nodes))\n",
    "print(list(circuit.edges))"
   ]
  },
  {
   "cell_type": "code",
   "execution_count": null,
   "metadata": {},
   "outputs": [],
   "source": [
    "cells = circuit.nodes[\"hippocampus_neurons\"]\n",
    "conn = circuit.edges[\"hippocampus_neurons__hippocampus_neurons__chemical\"]\n",
    "proj_cells =circuit.nodes[\"hippocampus_projections\"]\n",
    "proj_conn =circuit.edges[\"hippocampus_projections__hippocampus_neurons__chemical\"]"
   ]
  },
  {
   "cell_type": "markdown",
   "metadata": {},
   "source": [
    "### Number of synapse per connection"
   ]
  },
  {
   "cell_type": "code",
   "execution_count": null,
   "metadata": {},
   "outputs": [],
   "source": [
    "pre = proj_cells.ids()\n",
    "post = cells.ids()\n",
    "data = Counter()\n",
    "for p in proj_conn.iter_connections(pre, post, return_edge_count=True):\n",
    "    data[p[2]] += 1"
   ]
  },
  {
   "cell_type": "code",
   "execution_count": null,
   "metadata": {},
   "outputs": [],
   "source": [
    "# data is the number of neuron pairs having exactly n number of shared synapses\n",
    "nsyns = np.array(list(zip(*data.items()))).T\n",
    "# be sure the number of synapse are correctly ordered \n",
    "nsyns = nsyns[nsyns[:,0].argsort()]  \n",
    "# nsyns is a numpy array with columns 0 being the number of connections between 2 neurons and column 1 the number of this type of connection\n",
    "print(nsyns)\n",
    "mean = np.sum(nsyns[:, 0] * nsyns[:, 1])/ np.sum(nsyns[:, 1])\n",
    "std = np.sqrt(np.sum(nsyns[:, 1] * np.power(nsyns[:, 0] - mean, 2))/np.sum(nsyns[:,  1]))\n",
    "print(\"mean number of synapses\", mean)\n",
    "print(\"std of the number of synapses\", std)"
   ]
  },
  {
   "cell_type": "code",
   "execution_count": null,
   "metadata": {
    "jupyter": {
     "outputs_hidden": true
    },
    "scrolled": true
   },
   "outputs": [],
   "source": [
    "# plot\n",
    "fig, ax = plt.subplots()\n",
    "ax.hist(nsyns[:, 0], bins=nsyns[:, 0]-0.5, weights=nsyns[:, 1])\n",
    "\n",
    "_, y1 = ax.get_ylim()\n",
    "ax.errorbar(mean, y1*0.9, xerr=std, color='k', fmt='o')\n",
    "\n",
    "ax.ticklabel_format(axis='y', style='scientific', scilimits=(0,0))\n",
    "ax.set_title('Number of SC synapses per connection', fontsize=20, y=1.08)\n",
    "ax.set_xlabel('Number of synapses')\n",
    "ax.set_ylabel('Number of connections')\n",
    "\n",
    "ax.spines['top'].set_visible(False)\n",
    "ax.spines['right'].set_visible(False)\n",
    "\n",
    "fig.show()"
   ]
  },
  {
   "cell_type": "markdown",
   "metadata": {},
   "source": [
    "### Distribution across layers"
   ]
  },
  {
   "cell_type": "code",
   "execution_count": null,
   "metadata": {},
   "outputs": [],
   "source": [
    "atlas_directory = '/home/data-bbp/20191017/atlas'\n",
    "br_data, br_metadata = nrrd.read(Path(atlas_directory, \"brain_regions.nrrd\"))\n",
    "\n",
    "# hierarchy contains the region hierarchy: 01 -> [mc0->[mc0;SO, mc0;SP, ...], mc1-> [mc1;SO, mc1;SP, ...], ...]\n",
    "hierarchy = json.load(open(Path(atlas_directory, \"hierarchy.json\")))"
   ]
  },
  {
   "cell_type": "code",
   "execution_count": null,
   "metadata": {},
   "outputs": [],
   "source": [
    "id_layer_map = {}\n",
    "for column in hierarchy[\"children\"]:\n",
    "    for region in column[\"children\"]:\n",
    "        id_ = region[\"id\"]\n",
    "        layer = region[\"acronym\"].split(\";\")[-1]\n",
    "        id_layer_map[id_] = layer\n",
    "id_layer_map[0] = 'out'"
   ]
  },
  {
   "cell_type": "code",
   "execution_count": null,
   "metadata": {},
   "outputs": [],
   "source": [
    "spacing = br_metadata[\"space directions\"].diagonal()\n",
    "offset = br_metadata[\"space origin\"]\n",
    "\n",
    "# properties to extract\n",
    "properties = ['afferent_center_x', 'afferent_center_y', 'afferent_center_z']\n",
    "\n",
    "# we get all the synapses from the projections\n",
    "all_edge_ids = np.arange(proj_conn.size)"
   ]
  },
  {
   "cell_type": "code",
   "execution_count": null,
   "metadata": {},
   "outputs": [],
   "source": [
    "synapses = proj_conn.properties(all_edge_ids, properties=properties)\n",
    "synapses.rename(columns={\"afferent_center_x\": \"x\", \"afferent_center_y\": \"y\", \"afferent_center_z\": \"z\"}, inplace=True)\n",
    "\n",
    "indices = np.array((synapses[[\"x\", \"y\", \"z\"]].to_numpy() - offset) / spacing, dtype=int)\n",
    "labels = br_data[tuple(indices.T)]\n",
    "def _apply_mapping(x):\n",
    "    return id_layer_map[x]\n",
    "\n",
    "apply_mapping = np.vectorize(_apply_mapping)\n",
    "layers = apply_mapping(labels)\n",
    "synapses['layer'] = layers"
   ]
  },
  {
   "cell_type": "code",
   "execution_count": null,
   "metadata": {},
   "outputs": [],
   "source": [
    "synapses.head()"
   ]
  },
  {
   "cell_type": "code",
   "execution_count": null,
   "metadata": {},
   "outputs": [],
   "source": [
    "# model distribution\n",
    "layers = ['SO', 'SP', 'SR', 'SLM']\n",
    "mod_y_distr = np.array([np.count_nonzero(synapses.layer==layer) for layer in layers], dtype=np.float32)\n",
    "mod_y_distr = mod_y_distr/mod_y_distr.sum()\n",
    "exp_y_distr = [0.2476014415, 0.0705293209, 0.6792951748, 0.0025740628]\n",
    "x = np.arange(4)\n",
    "fig, ax = plt.subplots()\n",
    "ax.bar(x, mod_y_distr, label='simulation')\n",
    "ax.plot(x,exp_y_distr,color='r', label='expected')\n",
    "plt.xticks(x, layers)\n",
    "fig.suptitle('Distribution of synapses along the radial axis')\n",
    "ax.set_xlabel('layer')\n",
    "ax.set_ylabel('frequency')\n",
    "plt.legend(loc='upper right')\n",
    "plt.show()"
   ]
  },
  {
   "cell_type": "markdown",
   "metadata": {},
   "source": [
    "### Distribution over XZ plane\n",
    "\n",
    "Verify that the synapses are distributed uniformly in the XZ plane"
   ]
  },
  {
   "cell_type": "code",
   "execution_count": null,
   "metadata": {},
   "outputs": [],
   "source": [
    "# convert to density matrix\n",
    "xyz = synapses[[\"x\", \"y\", \"z\"]]\n",
    "\n",
    "import numpy as np\n",
    "def bin_space(x, y, x_min, x_max, y_min, y_max, bin_size):\n",
    "    \"\"\"\"Bins the space for 'density plot'\"\"\"\n",
    "    x_bins = np.arange(x_min, x_max, bin_size)\n",
    "    y_bins = np.arange(y_min, y_max, bin_size)\n",
    "    x_bins = np.append(x_bins, x_max)\n",
    "    y_bins = np.append(y_bins, y_max)\n",
    "    X = np.zeros((len(x_bins)-1, len(y_bins)-1))\n",
    "\n",
    "    for i, (_x_min, _x_max) in enumerate(zip(x_bins[0:-1], x_bins[1:])):\n",
    "        idx_x = np.where((_x_min < x) & (x <= _x_max))[0]\n",
    "        for j, (_y_min, _y_max) in enumerate(zip(y_bins[0:-1], y_bins[1:])):\n",
    "            idx_y = np.where((_y_min < y[idx_x]) & (y[idx_x] <= _y_max))[0]\n",
    "            X[i, j] = len(idx_y)\n",
    "        \n",
    "    X[np.where(X == 0)] = np.nan\n",
    "    return X\n",
    "\n",
    "x_min = -260.0; x_max = 980.0\n",
    "z_min = -20.0; z_max = 1280.0\n",
    "bin_size = 20\n",
    "dens_O1 = bin_space(xyz[\"x\"].values, xyz[\"z\"].values, x_min, x_max, z_min, z_max, bin_size)\n",
    "\n",
    "# plt\n",
    "import matplotlib.pyplot as plt\n",
    "fig = plt.figure(figsize=(10, 8))\n",
    "ax = fig.add_subplot(1, 1, 1)\n",
    "i = ax.imshow(dens_O1, cmap=\"jet\", aspect=\"auto\", interpolation=\"nearest\", origin=\"lower\")\n",
    "fig.colorbar(i, label=\"nr. of synapses/bin\")\n",
    "ax.set_title(\"Distribution of projections (O1)\")\n",
    "ax.set_xlabel(\"X\"); ax.set_ylabel(\"Z\")\n",
    "ax.set_xticks([]); ax.set_yticks([])"
   ]
  },
  {
   "cell_type": "code",
   "execution_count": null,
   "metadata": {},
   "outputs": [],
   "source": []
  }
 ],
 "metadata": {
  "kernelspec": {
   "display_name": "Python 3",
   "language": "python",
   "name": "python3"
  },
  "language_info": {
   "codemirror_mode": {
    "name": "ipython",
    "version": 3
   },
   "file_extension": ".py",
   "mimetype": "text/x-python",
   "name": "python",
   "nbconvert_exporter": "python",
   "pygments_lexer": "ipython3",
   "version": "3.6.9"
  }
 },
 "nbformat": 4,
 "nbformat_minor": 4
}
