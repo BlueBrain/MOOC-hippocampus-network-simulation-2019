{
 "cells": [
  {
   "cell_type": "markdown",
   "metadata": {},
   "source": [
    "## Validate CA3 projections in CA1 microcircuit"
   ]
  },
  {
   "cell_type": "markdown",
   "metadata": {},
   "source": [
    "We implement a model of Schaffer collaterals that connects CA3 PCs with CA1 neurons.\n",
    "\n",
    "In particular, we considered:\n",
    "\n",
    "- number of synapses per connection of about 1\n",
    "- an average distribution across layers as desribed by Bezaire and Soltesz (2013)\n",
    "- a uniform distribution in XZ plane\n",
    "\n",
    "In this notebook, you will verify that the above properties are as expected.\n",
    "\n",
    "---\n",
    "\n",
    "Import some python packages"
   ]
  },
  {
   "cell_type": "code",
   "execution_count": 1,
   "metadata": {},
   "outputs": [],
   "source": [
    "import json\n",
    "from pathlib import Path\n",
    "from collections import Counter\n",
    "\n",
    "import numpy as np\n",
    "import nrrd \n",
    "import matplotlib.pyplot as plt\n",
    "# package to work with the circuit\n",
    "from bluepysnap import Circuit"
   ]
  },
  {
   "cell_type": "markdown",
   "metadata": {},
   "source": [
    "Reading and preparing the data"
   ]
  },
  {
   "cell_type": "code",
   "execution_count": 2,
   "metadata": {},
   "outputs": [],
   "source": [
    "# we fix the random pseudo-generator seed used for the samplings\n",
    "np.random.seed(42)"
   ]
  },
  {
   "cell_type": "code",
   "execution_count": 3,
   "metadata": {},
   "outputs": [],
   "source": [
    "circuit_path = '/home/data-bbp/20191017/circuit_config.json'\n",
    "circuit = Circuit(circuit_path)"
   ]
  },
  {
   "cell_type": "code",
   "execution_count": 4,
   "metadata": {},
   "outputs": [
    {
     "name": "stdout",
     "output_type": "stream",
     "text": [
      "['hippocampus_projections', 'hippocampus_neurons']\n",
      "['hippocampus_neurons__hippocampus_neurons__chemical', 'hippocampus_projections__hippocampus_neurons__chemical']\n"
     ]
    }
   ],
   "source": [
    "print(list(circuit.nodes))\n",
    "print(list(circuit.edges))"
   ]
  },
  {
   "cell_type": "code",
   "execution_count": 5,
   "metadata": {},
   "outputs": [],
   "source": [
    "cells = circuit.nodes[\"hippocampus_neurons\"]\n",
    "conn = circuit.edges[\"hippocampus_neurons__hippocampus_neurons__chemical\"]\n",
    "proj_cells =circuit.nodes[\"hippocampus_projections\"]\n",
    "proj_conn =circuit.edges[\"hippocampus_projections__hippocampus_neurons__chemical\"]"
   ]
  },
  {
   "cell_type": "markdown",
   "metadata": {},
   "source": [
    "### Number of synapse per connection\n",
    "\n",
    "Also with connections between two brain regions, in this case CA3 and CA1, we can talk about one or more synapses per connection.\n",
    "\n",
    "---\n",
    "\n",
    "In the cell below, you will iterate over several pre and postsynaptic cells (respectively CA3 PCs and CA1 neurons), and count how many synapses we have for each connection"
   ]
  },
  {
   "cell_type": "code",
   "execution_count": 21,
   "metadata": {},
   "outputs": [
    {
     "name": "stdout",
     "output_type": "stream",
     "text": [
      "Collecting data on synapses. Can take few minutes.\n",
      "1356827/ 33920696 iterations\r"
     ]
    }
   ],
   "source": [
    "# The iteration below could be relatively long.\n",
    "# To save time, we can sample the number of presynaptic cells (CA3 PCs). If the sample is big enough can be representative of the entire population\n",
    "npre = 1000\n",
    "pre = proj_cells.ids(sample=npre)\n",
    "post = cells.ids()\n",
    "\n",
    "# data countains the number of neuron pairs having exactly n shared synapses\n",
    "print(\"Collecting data on synapses. Can take few minutes.\")\n",
    "data = Counter()\n",
    "\n",
    "print_at = int(proj_conn.size / 25)\n",
    "for i, (pre, post, connection_count) in enumerate(proj_conn.iter_connections(pre, post, return_edge_count=True)):\n",
    "    data[connection_count] += 1\n",
    "    # print statement to track the progress of the computation\n",
    "    if i % print_at == 0:\n",
    "        print(str(i) + '/ ' + str(proj_conn.size) + ' iterations\\r', end='')"
   ]
  },
  {
   "cell_type": "code",
   "execution_count": 24,
   "metadata": {},
   "outputs": [
    {
     "data": {
      "text/plain": [
       "Counter({1: 1860851, 2: 126056, 3: 6230, 4: 249, 5: 8})"
      ]
     },
     "execution_count": 24,
     "metadata": {},
     "output_type": "execute_result"
    }
   ],
   "source": [
    "data"
   ]
  },
  {
   "cell_type": "markdown",
   "metadata": {},
   "source": [
    "Rearrange the result and plot it."
   ]
  },
  {
   "cell_type": "code",
   "execution_count": 7,
   "metadata": {},
   "outputs": [
    {
     "name": "stdout",
     "output_type": "stream",
     "text": [
      "[[       1 29617615]\n",
      " [       2  1995541]\n",
      " [       3    98384]\n",
      " [       4     4007]\n",
      " [       5      154]\n",
      " [       6        7]\n",
      " [       7        1]]\n",
      "mean number of synapses 1.0695234970153118\n",
      "number of synapses std 0.26779800817032623\n"
     ]
    }
   ],
   "source": [
    "# nsyns is a numpy array equivalent to data with column 0 being the number of connections \n",
    "# between a neuron pair and column 1 the number of this type of connection\n",
    "nsyns = np.array(list(zip(*data.items()))).T\n",
    "# be sure the number of synapses are correctly ordered \n",
    "nsyns = nsyns[nsyns[:,0].argsort()]\n",
    "print(nsyns)\n",
    "mean = np.sum(nsyns[:, 0] * nsyns[:, 1])/ np.sum(nsyns[:, 1])\n",
    "std = np.sqrt(np.sum(nsyns[:, 1] * np.power(nsyns[:, 0] - mean, 2))/np.sum(nsyns[:,  1]))\n",
    "print(\"mean number of synapses\", mean)\n",
    "print(\"number of synapses std\", std)"
   ]
  },
  {
   "cell_type": "code",
   "execution_count": 22,
   "metadata": {
    "scrolled": true
   },
   "outputs": [
    {
     "data": {
      "image/png": "[encoded data removed]",
      "text/plain": [
       "<Figure size 432x288 with 1 Axes>"
      ]
     },
     "metadata": {
      "needs_background": "light"
     },
     "output_type": "display_data"
    }
   ],
   "source": [
    "fig, ax = plt.subplots()\n",
    "ax.hist(nsyns[:, 0], bins=nsyns[:, 0]-0.5, weights=nsyns[:, 1])\n",
    "\n",
    "_, y1 = ax.get_ylim()\n",
    "ax.errorbar(mean, y1*0.9, xerr=std, color='k', fmt='o')\n",
    "\n",
    "ax.ticklabel_format(axis='y', style='scientific', scilimits=(0,0))\n",
    "ax.set_title('Number of SC synapses per connection', fontsize=20, y=1.08)\n",
    "ax.set_xlabel('Number of synapses')\n",
    "ax.set_ylabel('Number of connections')\n",
    "\n",
    "ax.spines['top'].set_visible(False)\n",
    "ax.spines['right'].set_visible(False)\n",
    "\n",
    "fig.show()"
   ]
  },
  {
   "cell_type": "markdown",
   "metadata": {},
   "source": [
    "### Distribution across layers\n",
    "\n",
    "Synapses formed by Schaffer collaterals are distributed in a certain way across the different layers of the CA1.\n",
    "\n",
    "Since this is a distribution in space, you need to work with the atlas, the space where the circuit is defined.\n",
    "\n",
    "The following cells load the atlas, the voxels, the names and ids of the different subvolumes (columns, layers)."
   ]
  },
  {
   "cell_type": "code",
   "execution_count": 9,
   "metadata": {},
   "outputs": [],
   "source": [
    "atlas_directory = '/home/data-bbp/20191017/atlas'\n",
    "br_data, br_metadata = nrrd.read(Path(atlas_directory, \"brain_regions.nrrd\"))\n",
    "\n",
    "# hierarchy contains the region hierarchy: 01 -> [mc0->[mc0;SO, mc0;SP, ...], mc1-> [mc1;SO, mc1;SP, ...], ...]\n",
    "hierarchy = json.load(open(Path(atlas_directory, \"hierarchy.json\")))"
   ]
  },
  {
   "cell_type": "code",
   "execution_count": 10,
   "metadata": {},
   "outputs": [],
   "source": [
    "id_layer_map = {}\n",
    "for column in hierarchy[\"children\"]:\n",
    "    for region in column[\"children\"]:\n",
    "        id_ = region[\"id\"]\n",
    "        layer = region[\"acronym\"].split(\";\")[-1]\n",
    "        id_layer_map[id_] = layer\n",
    "id_layer_map[0] = 'out'"
   ]
  },
  {
   "cell_type": "code",
   "execution_count": 11,
   "metadata": {},
   "outputs": [],
   "source": [
    "spacing = br_metadata[\"space directions\"].diagonal()\n",
    "offset = br_metadata[\"space origin\"]"
   ]
  },
  {
   "cell_type": "code",
   "execution_count": null,
   "metadata": {},
   "outputs": [],
   "source": []
  },
  {
   "cell_type": "code",
   "execution_count": 12,
   "metadata": {},
   "outputs": [],
   "source": [
    "# we sample the edges to reduce the memory usage\n",
    "N = 500000\n",
    "sampled_edge_ids = np.random.choice(proj_conn.size, N, replace=False)"
   ]
  },
  {
   "cell_type": "code",
   "execution_count": 13,
   "metadata": {},
   "outputs": [
    {
     "name": "stdout",
     "output_type": "stream",
     "text": [
      "Collecting the positions of 500000 synapses. Can take up to 2 minutes.\n"
     ]
    }
   ],
   "source": [
    "# we get the position of all the synapses from the projections and add it to a pandas dataframe\n",
    "print(\"Collecting the positions of {} synapses. Can take up to 2 minutes.\".format(N))\n",
    "synapses = proj_conn.positions(sampled_edge_ids, 'afferent', \"center\")\n",
    "\n",
    "indices = np.array((synapses[[\"x\", \"y\", \"z\"]].to_numpy() - offset) / spacing, dtype=int)\n",
    "labels = br_data[tuple(indices.T)]\n",
    "def _apply_mapping(x):\n",
    "    return id_layer_map[x]\n",
    "\n",
    "apply_mapping = np.vectorize(_apply_mapping)\n",
    "layers = apply_mapping(labels)\n",
    "synapses['layer'] = layers"
   ]
  },
  {
   "cell_type": "code",
   "execution_count": 14,
   "metadata": {},
   "outputs": [
    {
     "data": {
      "text/html": [
       "<div>\n",
       "<style scoped>\n",
       "    .dataframe tbody tr th:only-of-type {\n",
       "        vertical-align: middle;\n",
       "    }\n",
       "\n",
       "    .dataframe tbody tr th {\n",
       "        vertical-align: top;\n",
       "    }\n",
       "\n",
       "    .dataframe thead th {\n",
       "        text-align: right;\n",
       "    }\n",
       "</style>\n",
       "<table border=\"1\" class=\"dataframe\">\n",
       "  <thead>\n",
       "    <tr style=\"text-align: right;\">\n",
       "      <th></th>\n",
       "      <th>x</th>\n",
       "      <th>y</th>\n",
       "      <th>z</th>\n",
       "      <th>layer</th>\n",
       "    </tr>\n",
       "  </thead>\n",
       "  <tbody>\n",
       "    <tr>\n",
       "      <th>18512239</th>\n",
       "      <td>-213.368530</td>\n",
       "      <td>163.870514</td>\n",
       "      <td>400.422272</td>\n",
       "      <td>SO</td>\n",
       "    </tr>\n",
       "    <tr>\n",
       "      <th>9668146</th>\n",
       "      <td>372.459167</td>\n",
       "      <td>453.835205</td>\n",
       "      <td>40.357613</td>\n",
       "      <td>SR</td>\n",
       "    </tr>\n",
       "    <tr>\n",
       "      <th>7672760</th>\n",
       "      <td>723.714844</td>\n",
       "      <td>286.502258</td>\n",
       "      <td>780.767822</td>\n",
       "      <td>SR</td>\n",
       "    </tr>\n",
       "    <tr>\n",
       "      <th>18115809</th>\n",
       "      <td>359.927521</td>\n",
       "      <td>169.099762</td>\n",
       "      <td>577.217285</td>\n",
       "      <td>SO</td>\n",
       "    </tr>\n",
       "    <tr>\n",
       "      <th>17547422</th>\n",
       "      <td>100.581169</td>\n",
       "      <td>475.768188</td>\n",
       "      <td>686.889160</td>\n",
       "      <td>SR</td>\n",
       "    </tr>\n",
       "  </tbody>\n",
       "</table>\n",
       "</div>"
      ],
      "text/plain": [
       "                   x           y           z layer\n",
       "18512239 -213.368530  163.870514  400.422272    SO\n",
       "9668146   372.459167  453.835205   40.357613    SR\n",
       "7672760   723.714844  286.502258  780.767822    SR\n",
       "18115809  359.927521  169.099762  577.217285    SO\n",
       "17547422  100.581169  475.768188  686.889160    SR"
      ]
     },
     "execution_count": 14,
     "metadata": {},
     "output_type": "execute_result"
    }
   ],
   "source": [
    "synapses.head()"
   ]
  },
  {
   "cell_type": "code",
   "execution_count": 18,
   "metadata": {},
   "outputs": [
    {
     "data": {
      "image/png": "[encoded data removed]",
      "text/plain": [
       "<Figure size 432x288 with 1 Axes>"
      ]
     },
     "metadata": {
      "needs_background": "light"
     },
     "output_type": "display_data"
    }
   ],
   "source": [
    "# model distribution\n",
    "layers = ['SO', 'SP', 'SR', 'SLM']\n",
    "mod_y_distr = np.array([np.count_nonzero(synapses.layer==layer) for layer in layers], dtype=np.float32)\n",
    "mod_y_distr = mod_y_distr/mod_y_distr.sum()\n",
    "exp_y_distr = [0.2476014415, 0.0705293209, 0.6792951748, 0.0025740628] # Bezaire and Soltesz, 2013\n",
    "x = np.arange(4)\n",
    "width = 0.35\n",
    "fig, ax = plt.subplots()\n",
    "ax.bar(x-width/2, mod_y_distr, width, label='simulation')\n",
    "ax.bar(x+width/2, exp_y_distr, width, color='r', label='expected')\n",
    "plt.xticks(x, layers)\n",
    "fig.suptitle('Distribution of synapses along the radial axis')\n",
    "ax.set_xlabel('layer')\n",
    "ax.set_ylabel('frequency')\n",
    "plt.legend(loc='upper right')\n",
    "plt.show()"
   ]
  },
  {
   "cell_type": "markdown",
   "metadata": {},
   "source": [
    "### Distribution over XZ plane\n",
    "\n",
    "Verify that the synapses are distributed uniformly in the XZ plane"
   ]
  },
  {
   "cell_type": "code",
   "execution_count": 16,
   "metadata": {},
   "outputs": [
    {
     "data": {
      "text/plain": [
       "[]"
      ]
     },
     "execution_count": 16,
     "metadata": {},
     "output_type": "execute_result"
    },
    {
     "data": {
      "image/png": "[encoded data removed]",
      "text/plain": [
       "<Figure size 720x576 with 2 Axes>"
      ]
     },
     "metadata": {
      "needs_background": "light"
     },
     "output_type": "display_data"
    }
   ],
   "source": [
    "# convert to density matrix\n",
    "xyz = synapses[[\"x\", \"y\", \"z\"]]\n",
    "\n",
    "import numpy as np\n",
    "def bin_space(x, y, x_min, x_max, y_min, y_max, bin_size):\n",
    "    \"\"\"\"Bins the space for 'density plot'\"\"\"\n",
    "    x_bins = np.arange(x_min, x_max, bin_size)\n",
    "    y_bins = np.arange(y_min, y_max, bin_size)\n",
    "    x_bins = np.append(x_bins, x_max)\n",
    "    y_bins = np.append(y_bins, y_max)\n",
    "    X = np.zeros((len(x_bins)-1, len(y_bins)-1))\n",
    "\n",
    "    for i, (_x_min, _x_max) in enumerate(zip(x_bins[0:-1], x_bins[1:])):\n",
    "        idx_x = np.where((_x_min < x) & (x <= _x_max))[0]\n",
    "        for j, (_y_min, _y_max) in enumerate(zip(y_bins[0:-1], y_bins[1:])):\n",
    "            idx_y = np.where((_y_min < y[idx_x]) & (y[idx_x] <= _y_max))[0]\n",
    "            X[i, j] = len(idx_y)\n",
    "        \n",
    "    X[np.where(X == 0)] = np.nan\n",
    "    return X\n",
    "\n",
    "x_min = -260.0; x_max = 980.0\n",
    "z_min = -20.0; z_max = 1280.0\n",
    "bin_size = 20\n",
    "dens_O1 = bin_space(xyz[\"x\"].values, xyz[\"z\"].values, x_min, x_max, z_min, z_max, bin_size)\n",
    "\n",
    "# plt\n",
    "import matplotlib.pyplot as plt\n",
    "fig = plt.figure(figsize=(10, 8))\n",
    "ax = fig.add_subplot(1, 1, 1)\n",
    "i = ax.imshow(dens_O1, cmap=\"jet\", aspect=\"auto\", interpolation=\"nearest\", origin=\"lower\")\n",
    "fig.colorbar(i, label=\"nr. of synapses/bin\")\n",
    "ax.set_title(\"Distribution of projections (O1)\")\n",
    "ax.set_xlabel(\"X\"); ax.set_ylabel(\"Z\")\n",
    "ax.set_xticks([]); ax.set_yticks([])"
   ]
  },
  {
   "cell_type": "code",
   "execution_count": null,
   "metadata": {},
   "outputs": [],
   "source": []
  }
 ],
 "metadata": {
  "kernelspec": {
   "display_name": "Python 3",
   "language": "python",
   "name": "python3"
  },
  "language_info": {
   "codemirror_mode": {
    "name": "ipython",
    "version": 3
   },
   "file_extension": ".py",
   "mimetype": "text/x-python",
   "name": "python",
   "nbconvert_exporter": "python",
   "pygments_lexer": "ipython3",
   "version": "3.6.9"
  }
 },
 "nbformat": 4,
 "nbformat_minor": 4
}
