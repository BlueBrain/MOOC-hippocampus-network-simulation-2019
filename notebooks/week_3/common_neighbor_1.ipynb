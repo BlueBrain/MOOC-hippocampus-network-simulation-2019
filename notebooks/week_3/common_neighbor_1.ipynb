{
 "cells": [
  {
   "cell_type": "markdown",
   "metadata": {},
   "source": [
    "# Common neighbor bias, the first\n",
    "One feature of connectivity commonly found in local microcircuits is a \"common neighbor bias\". This comes in two parts:\n",
    "1. Pairs of neurons have more \"common neighbors\" than expected by chance.\n",
    "2. The probability that a pair of neuron is connected depends on the number of common neighbors between them\n",
    "\n",
    "First of all, what is a common neighbor? Consider the connection graph of the local circuit, with neurons as nodes and synaptic connections between them as edges. A common neighbor of two nodes A and B is a node that is adjacent to both of them. In a directed network (such as a neural circuit), we can further distinguish several types of common neighbors:\n",
    "1. A common postsynaptic neighbor of two neurons A and B is a neuron innervated by both of them. (Indicated in red in the image below)\n",
    "2. A common presynaptic neighbor of two neurons is a neuron innervating both of them. (Indicated in green in the image below)\n",
    "3. A general common neighbor is a neuron innervating or being innervated by both of them. (Indicated in blue in the image below)\n",
    "\n",
    "![Sketch_CN.png](https://raw.githubusercontent.com/BlueBrain/MOOC-hippocampus-network-simulation-2019/master/notebooks/images/Sketch_CN.png)"
   ]
  },
  {
   "cell_type": "markdown",
   "metadata": {},
   "source": [
    "Perin et al., 2011 repeatedly sampled up to eight neurons of a local circuit and detected the connections between them. Analyzing the data, they found more common neighbors between them than expected by chance.\n",
    "\n",
    "![CN1](https://raw.githubusercontent.com/BlueBrain/MOOC-hippocampus-network-simulation-2019/master/notebooks/images/CN1.png)"
   ]
  },
  {
   "cell_type": "markdown",
   "metadata": {},
   "source": [
    "In the model microcircuit we can perform a similar analysis, but instead of considering only a hand full of neurons at a time, we can look at all of them simultaneously, for a more global picture.\n",
    "In this exercise, we will only analyze postsynaptic neighbors; we leave it to the interested reader to adapt it for presynaptic or general common neighbors.\n",
    "\n",
    "We begin by importing relevant packages, loading a Circuit, and defining a sampled population of excitatory neurons to perform the analysis on."
   ]
  },
  {
   "cell_type": "code",
   "execution_count": null,
   "metadata": {},
   "outputs": [],
   "source": [
    "import numpy\n",
    "import json\n",
    "import numpy as np\n",
    "\n",
    "from scipy import sparse\n",
    "from scipy.stats import hypergeom\n",
    "from scipy import spatial\n",
    "\n",
    "from matplotlib import pyplot as plt\n",
    "from matplotlib.colors import LogNorm\n",
    "\n",
    "from bluepysnap import Circuit"
   ]
  },
  {
   "cell_type": "code",
   "execution_count": null,
   "metadata": {},
   "outputs": [],
   "source": [
    "circuit_path = '/home/data-bbp/20191017/circuit_config.json'\n",
    "circuit = Circuit(circuit_path)\n",
    "cells = circuit.nodes[\"hippocampus_neurons\"]\n",
    "conn = circuit.edges[\"hippocampus_neurons__hippocampus_neurons__chemical\"]\n",
    "\n",
    "analyze_population = 'Excitatory'\n",
    "n_smpl = 2500\n",
    "analyze_gids = cells.ids(analyze_population, sample=n_smpl)  # get the identifiers of target neurons\n",
    "print(len(analyze_gids))"
   ]
  },
  {
   "cell_type": "markdown",
   "metadata": {},
   "source": [
    "Next, these analyses are most easily performed on connection matrices. That is, a matrix with one entry for each pair of neurons in the population. The entry at i,j is 1 if a connection from neuron i to neuron j exists.\n",
    "\n",
    "So let's start with the code to extract a connection matrix from a model microcircuit. We will represent the matrix as a scipy.sparse matrix, because connectivity is very sparse."
   ]
  },
  {
   "cell_type": "code",
   "execution_count": null,
   "metadata": {},
   "outputs": [],
   "source": [
    "def efferent_con_mat(pop_gids):\n",
    "    '''Returns a sparse matrix of the EFFERENT connectivity of neurons in\n",
    "    the specified population'''\n",
    "    shape = (len(pop_gids), cells.size) # The output shape is (number of neurons in population x number of neurons in circuit)\n",
    "    post = [conn.efferent_nodes(_g) for _g in pop_gids]  # Get identifiers of connected neurons\n",
    "    \n",
    "    '''prepare the sparse matrix representation, where the column indices for row i are stored in\n",
    "    \"indices[indptr[i]:indptr[i+1]]\" and their corresponding values are stored in \"data[indptr[i]:indptr[i+1]]\".'''\n",
    "    indptr = numpy.hstack((0, numpy.cumsum(list(map(len, post)))))\n",
    "    indices = numpy.hstack(post)\n",
    "    data = numpy.ones_like(indices, dtype=bool) # Simple boolean connection matrix. A connection exists or not.\n",
    "    return sparse.csr_matrix((data, indices, indptr), shape=shape)\n",
    "\n",
    "#For this example, we will look at connectivity and common neighbors between L5_MC neurons.\n",
    "connections = efferent_con_mat(analyze_gids)"
   ]
  },
  {
   "cell_type": "code",
   "execution_count": null,
   "metadata": {},
   "outputs": [],
   "source": [
    "# Let's look at the result\n",
    "vmin = np.min(connections) + 0.01   # +0.01 to avoid log(0) inside the plot\n",
    "vmax = np.max(connections)\n",
    "\n",
    "ax = plt.figure().add_axes([0.1, 0.1, 0.8, 0.8])\n",
    "ax.imshow(connections.toarray()[:1000, 9000:10000], cmap='Reds', norm=LogNorm(vmin=vmin, vmax=vmax))"
   ]
  },
  {
   "cell_type": "markdown",
   "metadata": {},
   "source": [
    "We see that the connectivity is indeed relatively sparse.\n",
    "\n",
    "Now, given a connection matrix. How do we calculate the numbers of common neighbors between neurons? For each row, an entry is 1 if a given neuron is connected to the neuron represented by the row. If an entry is 1 in two different rows, then it is a common neighbor of the two neurons represented by the rows. Consequently, the inner product of two row, i.e. the sum of their elementwise product is the number of common neighbors. That means, we can get the full matrix of common neighbors simply as the product of the connection matrix with its transpose!"
   ]
  },
  {
   "cell_type": "code",
   "execution_count": null,
   "metadata": {},
   "outputs": [],
   "source": [
    "def common_efferent_neighbors(M):\n",
    "    CN = M.astype(int) * M.astype(int).transpose() # need to convert to int, so that neighbors are counted\n",
    "    return CN.toarray()\n",
    "\n",
    "com_neighs = common_efferent_neighbors(connections)\n",
    "vmin = np.min(com_neighs) + 0.01   # +0.01 to avoid log(0) inside the plot\n",
    "vmax = np.max(com_neighs)\n",
    "\n",
    "ax = plt.figure().add_axes([0.1, 0.1, 0.8, 0.8])\n",
    "ax.imshow(com_neighs, cmap='Reds', norm=LogNorm(vmin=vmin, vmax=vmax));"
   ]
  },
  {
   "cell_type": "markdown",
   "metadata": {},
   "source": [
    "Note the very large entries along the main diagonal. They correspond to the product of a row with itself, yielding simply the number of neurons innervated by the neuron represented by the row. Do not mistake these entries for actual common neighbor numbers!\n",
    "\n",
    "Now, let us generate a histogram of the number of common neighbors of neuron pairs."
   ]
  },
  {
   "cell_type": "code",
   "execution_count": null,
   "metadata": {},
   "outputs": [],
   "source": [
    "def cn_mat_to_histogram(CN, bins):\n",
    "    '''limit to upper triangular matrix. This excludes the diagonal entries and redundant entries, because the common\n",
    "    neighbor matrix is always symmetrical!\n",
    "    '''\n",
    "    return numpy.histogram(numpy.triu(CN, 1), bins=bins)[0]\n",
    "\n",
    "xbins = numpy.arange(502) # count from 0 to 500 common neighbors\n",
    "H = cn_mat_to_histogram(com_neighs, xbins)"
   ]
  },
  {
   "cell_type": "markdown",
   "metadata": {},
   "source": [
    "As mentioned above, all of this is the number of efferent neighbors. \n",
    "\n",
    "### Exercise 1: Calculate the numbers of common afferent neighbors between the sampled neurons\n",
    "Use the following cell to that effect and answer the following questions:\n",
    "#### 1a: What is the highest number of common afferent neighbors between the sampled neurons.\n",
    "Assign the answer to a variable called _ans\\_1a_.\n",
    "\n",
    "#### 1b: How many pairs of neurons (of the sampled population) have more than 100 common afferent neighbors\n",
    "Make sure to not count pairs twice, i.e. exclude redundant parts. Assign the answer to a variable called _ans\\_1b_."
   ]
  },
  {
   "cell_type": "code",
   "execution_count": null,
   "metadata": {},
   "outputs": [],
   "source": [
    "# Work here"
   ]
  },
  {
   "cell_type": "markdown",
   "metadata": {},
   "source": [
    "What should we compare the result to? As a first, naive approach let's compare the the expected number in an Erdos-Renyi network of the same size and the same distribution of out-degrees. In that control model, given a neuron A with an out-degree d_A and a neuron B with an out-degree the number of common neighbors between them is described by the hypergeometrical distribution hypergeom(N, d_A, d_B), where N is the number of neurons in the network.\n",
    "\n",
    "For this control, it is handy that we know the out-degrees of the neurons (entries along the main diagonal of the common neighbor matrix)."
   ]
  },
  {
   "cell_type": "code",
   "execution_count": null,
   "metadata": {},
   "outputs": [],
   "source": [
    "def control_erdos_renyi_histogram(CN, N, bins):\n",
    "    out_degrees = numpy.diag(CN)\n",
    "    '''Note: Here, we simply draw a random sample for each pair of neurons.\n",
    "    Better, but more expensive would be to evaluate the probability mass function\n",
    "    for all bins and for all pairs.'''\n",
    "    expected = [hypergeom(N, d_A, out_degrees[(i+1):]).rvs()\n",
    "                for i, d_A in enumerate(out_degrees)]\n",
    "    return numpy.histogram(numpy.hstack(expected), bins=bins)[0]\n",
    "\n",
    "H_ctrl_er = control_erdos_renyi_histogram(com_neighs, connections.shape[1], xbins)\n",
    "\n",
    "ax = plt.figure().add_axes([0.1, 0.1, 0.8, 0.8])\n",
    "ax.plot(xbins[:-1], H, color='red', marker='o', label='Experiment')\n",
    "ax.plot(xbins[:-1], H_ctrl_er, color='black', marker='o', label='Control (ER)')\n",
    "ax.set_yscale('log'); ax.legend(); ax.set_xlabel('Common neighbors'); ax.set_ylabel('Pairs')\n"
   ]
  },
  {
   "cell_type": "markdown",
   "metadata": {},
   "source": [
    "Wow, that is a gigantic difference! At first glance much stronger than Perin et al., 2011 found.\n",
    "To assess the significance, let's do some very basic statistics"
   ]
  },
  {
   "cell_type": "markdown",
   "metadata": {},
   "source": [
    "As an exercise let's do a bit of toy statistics.\n",
    "### Exercise 2: What is the probability of finding the observed common neighbor numbers in the Erdos-renyi control?\n",
    "#### 2a: How many pairs of neurons (of the sampled population) have more than 100 common efferent neighbors in the modeled hippocampal microcircuit?\n",
    "Assign the answer to a variable called _ans\\_2a_.\n",
    "#### 2b: What is the expected number of pairs of neurons with more than 100 common efferent neighbors in the Erdos-renyi control?\n",
    "Evaluate the cumulative distribution of common neighbor numbers for all pairs in the control model to answer. Assign the answer to a variable called _ans\\_2b_."
   ]
  },
  {
   "cell_type": "code",
   "execution_count": null,
   "metadata": {},
   "outputs": [],
   "source": [
    "# Work here"
   ]
  },
  {
   "cell_type": "markdown",
   "metadata": {},
   "source": [
    "Can we explain the observed difference between model and control? Well, let us remember what else we know about neuron connectivity in local circuits. We know from an earlier exercise that it is highly distance-dependent.\n",
    "\n",
    "That means, if two neurons are close to each other, they are more likely to be connected. And a trio of neurons that is close to each other is very likely to form a motif where one is the common neighbor of the other two. But the naive ER control does not take that into account. All the control sees is that the average connectivity, sampled across small and large distances alike is very sparse, and thus common neighbors are expected to be very uncommon. (The interested reader can try to prove analytically that a distance dependent network has more common neighbors than an ER network of equal size and sparsity. It is not very hard if you assume exponential distance dependence).\n",
    "\n",
    "Why was the Perin et al. result not affected so strongly? Because they sampled neuron populations at always roughly the same distance (~150 um), while we looked at all pairs at all distances.\n",
    "\n",
    "So, as a better control, let us compare to a network with the same distance dependence of connectivity.\n",
    "First, we generate such a control."
   ]
  },
  {
   "cell_type": "code",
   "execution_count": null,
   "metadata": {},
   "outputs": [],
   "source": [
    "nbins = 50\n",
    "\n",
    "def connect_keep_dist_dep(D, C, nbins):\n",
    "    '''Randomly connect a number of neurons, keeping their distance dependence intact.\n",
    "    D: Matrix (AxN) of distances to all other neurons in the circuit\n",
    "    C: Matrix (AxN) of connections to all other neurons in the circuit (boolean)'''\n",
    "    dbins = numpy.linspace(0, D.max(), nbins + 1) + 0.1\n",
    "    Di = numpy.digitize(D, bins=dbins) - 1\n",
    "    H_connected = numpy.histogram(Di[C.toarray()], bins=range(nbins + 1))[0]\n",
    "    H_all = numpy.histogram(Di, bins=range(nbins + 1))[0]\n",
    "    P = H_connected.astype(float) / H_all\n",
    "    n_eff = numpy.array(C.sum(axis=1)).transpose()[0]\n",
    "    indptr = [0]\n",
    "    indices = []\n",
    "    for row, n in zip(Di, n_eff):\n",
    "        p_row = P[row]\n",
    "        p_row[row == -1] = 0\n",
    "        p_row = p_row / p_row.sum()\n",
    "        rnd = numpy.random.choice(len(row), n, replace=False, p=p_row)\n",
    "        indices.extend(rnd)\n",
    "        indptr.append(indptr[-1] + n)\n",
    "    data = numpy.ones_like(indices, dtype=bool)\n",
    "    return sparse.csr_matrix((data, indices, indptr), shape=D.shape)\n",
    "\n",
    "xyz = cells.positions()\n",
    "# get distance matrix as an input\n",
    "D = spatial.distance_matrix(xyz.loc[analyze_gids], xyz)\n",
    "\n",
    "# generate random instance\n",
    "rnd_connections = connect_keep_dist_dep(D, connections, nbins)\n",
    "\n",
    "# compare distribution of distances of connected neurons\n",
    "ax = plt.figure().add_axes([0.1, 0.1, 0.8, 0.8])\n",
    "ax.plot(sorted(D[connections.toarray()]), label='Data')\n",
    "ax.plot(sorted(D[rnd_connections.toarray()]), label='Control')\n",
    "ax.legend(); ax.set_xlabel('Connection #'); ax.set_ylabel('Distance (um)');"
   ]
  },
  {
   "cell_type": "markdown",
   "metadata": {},
   "source": [
    "As we can see, the random control preserves the distance dependence (strictly we have shown: It preserves the cumulative distribution of distances of connected neuron pairs). And indeed, it even preserves the out-degrees of all individual neurons. This is a much more powerful control than the ER control earlier. \n",
    "Now let's see the common neighbor distributrion."
   ]
  },
  {
   "cell_type": "code",
   "execution_count": null,
   "metadata": {},
   "outputs": [],
   "source": [
    "rnd_com_neighs = common_efferent_neighbors(rnd_connections)\n",
    "rnd_H = cn_mat_to_histogram(rnd_com_neighs, xbins)\n",
    "\n",
    "ax = plt.figure().add_axes([0.1, 0.1, 0.8, 0.8])\n",
    "ax.plot(xbins[:-1], H, color='red', marker='o', label='Experiment')\n",
    "ax.plot(xbins[:-1], rnd_H, color='black', marker='o', label='Control (Dist-dep.)')\n",
    "ax.set_yscale('log'); ax.legend(); ax.set_xlabel('Common neighbors'); ax.set_ylabel('Pairs');"
   ]
  },
  {
   "cell_type": "markdown",
   "metadata": {},
   "source": [
    "We still see a very strong difference, although indeed weaker than for the naive ER control. The presence of a clearly significant difference in spite of the strong control (preserving both out-degrees of all individual neurons and the distance-dependence) indicates the presence of a clear bias for an increased number of common neighbors.\n",
    "\n",
    "Let's measure the strength of the bias as in Reimann et al., 2017: The normalized difference in slope of linear fits of the logarithm of the distributions. (Although in that paper we used the average of 10 random controls instead of just 1).\n",
    "Note: This analysis is stable against subsampling because the calculation is performed in log-space. Subsampling only affects the expected value of the offset, not of the slope."
   ]
  },
  {
   "cell_type": "code",
   "execution_count": null,
   "metadata": {},
   "outputs": [],
   "source": [
    "def cn_bias_1(H_data, H_ctrl):\n",
    "    assert len(H_data) == len(H_ctrl)\n",
    "    log_data = numpy.log10(H_data[1:]) # exclude the bin at 0\n",
    "    log_ctrl = numpy.log10(H_ctrl[1:])\n",
    "    idx_data = numpy.nonzero(~numpy.isinf(log_data))[0] # exclude zero bins\n",
    "    idx_ctrl = numpy.nonzero(~numpy.isinf(log_ctrl))[0]\n",
    "    slope_data = numpy.polyfit(idx_data.astype(float), log_data[idx_data], 1)[0]\n",
    "    slope_ctrl = numpy.polyfit(idx_ctrl.astype(float), log_ctrl[idx_ctrl], 1)[0]\n",
    "    return (slope_ctrl - slope_data) / slope_ctrl\n",
    "\n",
    "print(cn_bias_1(H, rnd_H))"
   ]
  },
  {
   "cell_type": "markdown",
   "metadata": {},
   "source": [
    "As before, let's do the same analysis for afferent common neighbors as an exercise.\n",
    "### Exercise 3: Calculate the afferent common neigbor bias\n",
    "#### 3a: Calculate a control network that preserves the distance dependence and the in-degree of every individual neuron. How many pairs in this control have more than 100 common afferent neighbors?\n",
    "That is: Preserve in-degree instead of out-degree for this control. As the result is stochastic, you have to only approximately get it right. Assign the answer to a variable _ans\\_3a_.\n",
    "#### 3b: What is the strength of the bias for an increased number of common afferent neighbors between the sampled neurons?\n",
    "That is, cn_bias_1, but for afferent bias and comparing to the control preserving in-degree. Assign the answer to a variable _ans\\_3b_."
   ]
  },
  {
   "cell_type": "code",
   "execution_count": null,
   "metadata": {},
   "outputs": [],
   "source": [
    "# Work here"
   ]
  },
  {
   "cell_type": "code",
   "execution_count": null,
   "metadata": {},
   "outputs": [],
   "source": [
    "# This is to generate the answers to paste in the submission box below.\n",
    "# After you defined the variables with your answers, run this cell and the next cell, and copy-paste the output into the box below\n",
    "print(json.dumps(dict([(\"ans_1a\", ans_1a),\n",
    "                       (\"ans_1b\", ans_1b),\n",
    "                       (\"ans_2a\", ans_2a),\n",
    "                       (\"ans_2b\", ans_2b),\n",
    "                       (\"ans_3a\", ans_3a),\n",
    "                       (\"ans_3b\", ans_3b)])))\n"
   ]
  },
  {
   "cell_type": "code",
   "execution_count": null,
   "metadata": {},
   "outputs": [],
   "source": [
    "import single_cell_mooc_client as sc_mc\n",
    "s = sc_mc.Submission()"
   ]
  },
  {
   "cell_type": "code",
   "execution_count": null,
   "metadata": {},
   "outputs": [],
   "source": []
  }
 ],
 "metadata": {
  "kernelspec": {
   "display_name": "Python 3",
   "language": "python",
   "name": "python3"
  },
  "language_info": {
   "codemirror_mode": {
    "name": "ipython",
    "version": 3
   },
   "file_extension": ".py",
   "mimetype": "text/x-python",
   "name": "python",
   "nbconvert_exporter": "python",
   "pygments_lexer": "ipython3",
   "version": "3.6.9"
  }
 },
 "nbformat": 4,
 "nbformat_minor": 4
}
