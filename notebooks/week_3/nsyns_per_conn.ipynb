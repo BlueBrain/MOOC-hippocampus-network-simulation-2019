{
 "cells": [
  {
   "cell_type": "markdown",
   "metadata": {},
   "source": [
    "## Number of synapses per connection"
   ]
  },
  {
   "cell_type": "markdown",
   "metadata": {},
   "source": [
    "In this notebook you will analyze and validate one of parameter of the connectome: the number of synapses per connection.\n",
    "\n",
    "Cell A is connected to cell B if the axon of one cell makes at least one synapse on the other cell (we do not consider gap junction).\n",
    "\n",
    "A connection has a direction, so between A and B we can identify two pathways. A->B means that axon from A creates the synapse(s) on B, while B->A means that axon from B creates the synapse(s) on A.\n",
    "\n",
    "Another important point is that a connection may have one or multiple synapses, which has an impact on the anatomy and physiology of the network.\n",
    "\n",
    "In this notebook, you will analyze the number of synapses per connection in all the possible pathways.\n",
    "\n",
    "---"
   ]
  },
  {
   "cell_type": "markdown",
   "metadata": {},
   "source": [
    "Import some python packages."
   ]
  },
  {
   "cell_type": "code",
   "execution_count": null,
   "metadata": {},
   "outputs": [],
   "source": [
    "import itertools\n",
    "import numpy as np\n",
    "import pandas as pd\n",
    "import matplotlib.pyplot as plt\n",
    "import seaborn\n",
    "\n",
    "from bluepysnap import Circuit\n",
    "from bluepysnap.bbp import Cell"
   ]
  },
  {
   "cell_type": "markdown",
   "metadata": {},
   "source": [
    "Reading and preparing the data."
   ]
  },
  {
   "cell_type": "code",
   "execution_count": null,
   "metadata": {},
   "outputs": [],
   "source": [
    "circuit_path = '/home/data-bbp/20191017/circuit_config.json'\n",
    "circuit = Circuit(circuit_path)\n",
    "cells = circuit.nodes[\"hippocampus_neurons\"]\n",
    "conn = circuit.edges[\"hippocampus_neurons__hippocampus_neurons__chemical\"]"
   ]
  },
  {
   "cell_type": "markdown",
   "metadata": {},
   "source": [
    "### Analysis\n",
    "\n",
    "Initialize where to store the results.\n",
    "\n",
    "Since all the possible pathways form a 2D matrix, it is convenient to have one matrix where to store means and another one where to store standard deviations.\n",
    "\n",
    "Furthermore, you are going to compare the result with values extracted from literature. Among those values, you have the number of synapses per connection in parvalbumin positive (PV+) cells, a group that includes SP_PVBC, SP_BS, and SP_AA. The group PV is already defined in the circuit, but you have to include it in the matrices."
   ]
  },
  {
   "cell_type": "code",
   "execution_count": null,
   "metadata": {},
   "outputs": [],
   "source": [
    "mtypes = cells.property_values(Cell.MTYPE)\n",
    "model_mean = pd.DataFrame(index=mtypes, columns=mtypes.union({u'PV'}), dtype=float)\n",
    "model_std = pd.DataFrame(index=mtypes, columns=mtypes.union({u'PV'}), dtype=float)"
   ]
  },
  {
   "cell_type": "markdown",
   "metadata": {},
   "source": [
    "The analysis could be quite expensive, so better to reduce the number of samples.\n",
    "\n",
    "Furthermore, since you will repeat the same analysis many times, it is convenient to create a helper function."
   ]
  },
  {
   "cell_type": "code",
   "execution_count": null,
   "metadata": {},
   "outputs": [],
   "source": [
    "nsample = 100\n",
    "def sample_nsyn(pre, post):\n",
    "    it = conn.iter_connections(pre, post, return_edge_count=True)\n",
    "    return np.array([p[2] for p in itertools.islice(it, nsample)])"
   ]
  },
  {
   "cell_type": "markdown",
   "metadata": {},
   "source": [
    "Here, you run the analysis.\n",
    "\n",
    "Note that the function sample_nsyn returns a 2D matrix with all the same connections for a given pathway.\n",
    "\n",
    "From this matrix, you will calculate the mean and standard deviation that end up in the result matrices. The current position in the analysis loop is indicated by the processed m-type. "
   ]
  },
  {
   "cell_type": "code",
   "execution_count": null,
   "metadata": {},
   "outputs": [],
   "source": [
    "for pre_mtype in mtypes:\n",
    "    for post_mtype in mtypes:\n",
    "        data = sample_nsyn(\n",
    "            pre={Cell.MTYPE: pre_mtype, Cell.REGION: {'$regex': 'mc2.*'}},\n",
    "            post={Cell.MTYPE: post_mtype}\n",
    "        )\n",
    "        if len(data) != 0:\n",
    "            model_mean[post_mtype][pre_mtype] = data.mean()\n",
    "            model_std[post_mtype][pre_mtype] = data.std()\n",
    "    print(pre_mtype)"
   ]
  },
  {
   "cell_type": "code",
   "execution_count": null,
   "metadata": {},
   "outputs": [],
   "source": [
    "model_mean"
   ]
  },
  {
   "cell_type": "markdown",
   "metadata": {},
   "source": [
    "Plot the result using an heatmap.\n",
    "\n",
    "Note that when you have a white cell, it means that the two cell types are not connected (at least in the sample tested)."
   ]
  },
  {
   "cell_type": "code",
   "execution_count": null,
   "metadata": {},
   "outputs": [],
   "source": [
    "ax = seaborn.heatmap(model_mean)\n",
    "\n",
    "fig = plt.gcf()\n",
    "fig.suptitle('Number of synapses per connection', )\n",
    "\n",
    "ax.set_xlabel('presynaptic mtype')\n",
    "ax.set_ylabel('postsynaptic mtype')\n",
    "\n",
    "ax.collections[0].colorbar.set_label(\"# synapses\")\n",
    "\n",
    "fig.show()"
   ]
  },
  {
   "cell_type": "markdown",
   "metadata": {},
   "source": [
    "### Validation\n",
    "\n",
    "After having analyzing the circuit, you can compare the model with experimental data extracted from literature.\n",
    "\n",
    "The next cell loads the experimental data and puts it in a pandas dataframe."
   ]
  },
  {
   "cell_type": "code",
   "execution_count": null,
   "metadata": {},
   "outputs": [],
   "source": [
    "bio_path = '/home/data-bbp/20191017/bioname/nsyn_per_connection_20190131.tsv'"
   ]
  },
  {
   "cell_type": "code",
   "execution_count": null,
   "metadata": {},
   "outputs": [],
   "source": [
    "df = pd.read_csv(bio_path, skiprows=1, names=['pre', 'post', 'bio_mean', 'bio_std'], usecols=[0, 1, 2, 3], delim_whitespace=True)\n",
    "df.head()"
   ]
  },
  {
   "cell_type": "markdown",
   "metadata": {},
   "source": [
    "As you can see, there are only a limited number of pathways.\n",
    "\n",
    "Extract from the result matrices only the pathways for which you have experimental data."
   ]
  },
  {
   "cell_type": "code",
   "execution_count": null,
   "metadata": {},
   "outputs": [],
   "source": [
    "df['mod_mean'] = np.NAN\n",
    "df['mod_std'] = np.NAN"
   ]
  },
  {
   "cell_type": "code",
   "execution_count": null,
   "metadata": {},
   "outputs": [],
   "source": [
    "for idx in df.index:\n",
    "    pre = df.loc[idx, 'pre']\n",
    "    post = df.loc[idx, 'post']\n",
    "    df.loc[idx, 'mod_mean'] = model_mean[post][pre]\n",
    "    df.loc[idx, 'mod_std'] = model_std[post][pre]"
   ]
  },
  {
   "cell_type": "markdown",
   "metadata": {},
   "source": [
    "Now we plot the results. The more points are lying on the diagonal, the more the model is close to experimental values."
   ]
  },
  {
   "cell_type": "code",
   "execution_count": null,
   "metadata": {},
   "outputs": [],
   "source": [
    "plt.clf\n",
    "x = df['mod_mean'].values\n",
    "y = df['bio_mean'].values\n",
    "# remove nan value from the array\n",
    "l = np.linspace(0, max(x[~np.isnan(x)].max(), y.max()), 50)\n",
    "# l = np.linspace(0, max(x.max(), y.max()), 50)\n",
    "fig, ax = plt.subplots()\n",
    "fig.suptitle('synapses per connection')\n",
    "ax.plot(x, y, 'o')\n",
    "ax.errorbar(x, y, xerr=df['mod_std'].values, yerr=df['bio_std'].values, fmt='o', ecolor='g', capthick=2)\n",
    "ax.plot(l, l, 'k--')\n",
    "ax.set_xlabel('Model (#)')\n",
    "ax.set_ylabel('Experiment (#)')\n",
    "\n",
    "fig.show()"
   ]
  },
  {
   "cell_type": "markdown",
   "metadata": {},
   "source": [
    "### Exercise #1\n",
    "Calculate the average number of synapses per connection in the four classes of connections (EE, EI, IE, II). Put the answers in a list called _ans\\_1_ in the order (EE, EI, IE, II).\n",
    "\n",
    "### Exercise #2\n",
    "Calculate the distribution of number of synapses from SP_PVBC to SP_PC. Provide a list for _ans\\_2_, with the first element being the mean value and the second element being the standard deviation of the number."
   ]
  },
  {
   "cell_type": "code",
   "execution_count": null,
   "metadata": {},
   "outputs": [],
   "source": [
    "# Work here"
   ]
  },
  {
   "cell_type": "code",
   "execution_count": null,
   "metadata": {},
   "outputs": [],
   "source": [
    "# This is to generate the answers to paste in the submission box below.\n",
    "# After you defined the variables with your answers, run this cell and the next cell, and copy-paste the output into the box below\n",
    "print(json.dumps(dict([(\"ans_1\", ans_1),\n",
    "                       (\"ans_2\", ans_2)])))"
   ]
  },
  {
   "cell_type": "code",
   "execution_count": null,
   "metadata": {},
   "outputs": [],
   "source": [
    "import single_cell_mooc_client as sc_mc\n",
    "s = sc_mc.Submission()"
   ]
  },
  {
   "cell_type": "code",
   "execution_count": null,
   "metadata": {},
   "outputs": [],
   "source": []
  }
 ],
 "metadata": {
  "kernelspec": {
   "display_name": "Python 3",
   "language": "python",
   "name": "python3"
  },
  "language_info": {
   "codemirror_mode": {
    "name": "ipython",
    "version": 3
   },
   "file_extension": ".py",
   "mimetype": "text/x-python",
   "name": "python",
   "nbconvert_exporter": "python",
   "pygments_lexer": "ipython3",
   "version": "3.6.9"
  }
 },
 "nbformat": 4,
 "nbformat_minor": 4
}
