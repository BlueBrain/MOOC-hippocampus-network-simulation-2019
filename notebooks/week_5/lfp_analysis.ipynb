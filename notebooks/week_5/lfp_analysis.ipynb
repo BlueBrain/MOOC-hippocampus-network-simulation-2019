{
 "cells": [
  {
   "cell_type": "markdown",
   "metadata": {},
   "source": [
    "## Visualize and analyze the local field potential"
   ]
  },
  {
   "cell_type": "markdown",
   "metadata": {},
   "source": [
    "Local field potential (LFP) is the voltage recorded in the extracellular space.\n",
    "\n",
    "In our model, we can estimate the LFP using a tool derived from Reimann et al., 2013.\n",
    "\n",
    "---\n",
    "\n",
    "Import some python packages"
   ]
  },
  {
   "cell_type": "code",
   "execution_count": null,
   "metadata": {},
   "outputs": [],
   "source": [
    "import numpy as np\n",
    "import pandas as pd\n",
    "import scipy.signal\n",
    "import matplotlib.pyplot as plt\n",
    "import seaborn as sns"
   ]
  },
  {
   "cell_type": "markdown",
   "metadata": {},
   "source": [
    "Reading and preparing the data"
   ]
  },
  {
   "cell_type": "code",
   "execution_count": null,
   "metadata": {},
   "outputs": [],
   "source": [
    "data_path = '/home/data-bbp/20191017/lfp/sample_points_05'\n",
    "points_path = '/home/data-bbp/20191017/lfp/lfp_points.txt'"
   ]
  },
  {
   "cell_type": "code",
   "execution_count": null,
   "metadata": {},
   "outputs": [],
   "source": [
    "!ls /home/data-bbp/20191017/lfp"
   ]
  },
  {
   "cell_type": "code",
   "execution_count": null,
   "metadata": {},
   "outputs": [],
   "source": [
    "# !head -n 40 /home/data-bbp/20191017/lfp/sample_points_05"
   ]
  },
  {
   "cell_type": "code",
   "execution_count": null,
   "metadata": {},
   "outputs": [],
   "source": [
    "# LFP is calculated in 11 points spamming in the middle of the microcircuit\n",
    "# the result is stored in a text file where the first column is time and\n",
    "# the other columns are the LFP calculated at different location\n",
    "data = np.loadtxt(data_path)"
   ]
  },
  {
   "cell_type": "code",
   "execution_count": null,
   "metadata": {},
   "outputs": [],
   "source": [
    "rows, colums = data.shape\n",
    "nsamples = colums-1 # number of locations\n",
    "dt = data[:,0][1]-data[:,0][0] # time step (ms)\n",
    "simtime = rows * dt # simulation time (ms)\n",
    "timeskip = 100 # initial time to skip (ms)\n",
    "skip = int(timeskip / dt) # number of time steps to skip"
   ]
  },
  {
   "cell_type": "code",
   "execution_count": null,
   "metadata": {},
   "outputs": [],
   "source": [
    "# this table contains the points where the LFP is calculated\n",
    "points = pd.read_csv(points_path, delimiter=\" \", names=[\"x\", \"y\", \"z\", \"layer\"])\n",
    "points.head()"
   ]
  },
  {
   "cell_type": "code",
   "execution_count": null,
   "metadata": {},
   "outputs": [],
   "source": [
    "layers = points[\"layer\"].values"
   ]
  },
  {
   "cell_type": "markdown",
   "metadata": {},
   "source": [
    "Plot LFP traces for the different points"
   ]
  },
  {
   "cell_type": "code",
   "execution_count": null,
   "metadata": {},
   "outputs": [],
   "source": [
    "fig, axs = plt.subplots(nrows=nsamples, sharex=False, sharey=False, figsize=(8.27, 11.69))\n",
    "\n",
    "for idx in range(nsamples):\n",
    "    t = data[:,0][skip:]\n",
    "    v = data[:,nsamples-idx][skip:]/1000000 # nV -> mV\n",
    "    if nsamples == 1:\n",
    "        axs.plot(t, v)\n",
    "        axs.set_frame_on(False)\n",
    "    else:\n",
    "        axs[idx].plot(t, v)\n",
    "        axs[idx].spines['top'].set_visible(False)\n",
    "        axs[idx].spines['right'].set_visible(False)\n",
    "        \n",
    "        if idx<(nsamples-1):\n",
    "            axs[idx].spines['bottom'].set_visible(False)\n",
    "            axs[idx].set_xticks([])\n",
    "        else:\n",
    "            axs[idx].set_xlabel(\"ms\", fontsize=14)\n",
    "        \n",
    "        if idx==round(nsamples/2)-1:\n",
    "            axs[idx].set_ylabel(\"mV\", fontsize=14)\n",
    "        \n",
    "        xmin, xmax = axs[idx].get_xlim()\n",
    "        ymin, ymax = axs[idx].get_ylim()\n",
    "        axs[idx].text(xmax, (ymin+ymax)/2, layers[idx])\n",
    "\n",
    "plt.show()"
   ]
  },
  {
   "cell_type": "markdown",
   "metadata": {},
   "source": [
    "Plot one trace"
   ]
  },
  {
   "cell_type": "code",
   "execution_count": null,
   "metadata": {},
   "outputs": [],
   "source": [
    "fig, ax = plt.subplots()\n",
    "t = data[:,0][skip:]\n",
    "v = data[:,4][skip:]/1000000 # nV -> mV\n",
    "ax.plot(t, v)\n",
    "ax.set_xlabel('Time (ms)')\n",
    "ax.set_ylabel('Voltage (mV)')\n",
    "ax.spines['top'].set_visible(False)\n",
    "ax.spines['right'].set_visible(False)\n",
    "fig.show()"
   ]
  },
  {
   "cell_type": "markdown",
   "metadata": {},
   "source": [
    "Calculate the power spectrum"
   ]
  },
  {
   "cell_type": "code",
   "execution_count": null,
   "metadata": {},
   "outputs": [],
   "source": [
    "Fs = 1000/dt # sampling rate (Hz)"
   ]
  },
  {
   "cell_type": "code",
   "execution_count": null,
   "metadata": {},
   "outputs": [],
   "source": [
    "f, psd = scipy.signal.welch(data[:,4][skip:], Fs, nperseg=1000)"
   ]
  },
  {
   "cell_type": "code",
   "execution_count": null,
   "metadata": {},
   "outputs": [],
   "source": [
    "# Plot the power spectrum\n",
    "fig = plt.figure(figsize=(11,3))\n",
    "plt.plot(f,psd,'k')\n",
    "sns.despine()\n",
    "plt.xlim((0,200))\n",
    "plt.yticks(size=15)\n",
    "plt.xticks(size=15)\n",
    "plt.ylabel('power ($uV^{2}/Hz$)',size=15)\n",
    "plt.xlabel('frequency (Hz)',size=15)\n",
    "plt.title('PSD of Local Field Potential', size=20)\n",
    "plt.show()"
   ]
  },
  {
   "cell_type": "code",
   "execution_count": null,
   "metadata": {},
   "outputs": [],
   "source": [
    "print(\"Peak at\", f[psd.argmax()], \"Hz\")"
   ]
  },
  {
   "cell_type": "markdown",
   "metadata": {},
   "source": [
    "### Excercise\n",
    "\n",
    "__Exercise 1__\n",
    "\n",
    "In /home/data-bbp/20191017/lfp/sample_points_01, you find the LFP calculated with a smaller time step (0.1 ms).\n",
    "\n",
    "Plot the traces with different time steps in the same figure. Do you notice differences? How can you explain them?\n",
    "\n",
    "[Insert instruction on how to do the peer review]\n",
    "\n",
    "__Exercise 2__\n",
    "\n",
    "Launch a new simulation as following and compute the LFP.\n",
    "\n",
    "Simulation:\n",
    "- Simulate only the target cells_within_50_um_from_the_center\n",
    "- Duration 1000 ms\n",
    "- Report current from all the compartments with a dt of 0.5 ms\n",
    "- Set minis rate at 0.01 Hz for internal connections and for the synapses made by the projections (Schaffer collaterals)\n",
    "\n",
    "Compute LFP:\n",
    "- Use the same central points as above (/home/data-bbp/20191017/lfp/lfp_points.txt)\n",
    "\n",
    "Compare the results with the LFP shown in the notebook.\n",
    "\n",
    "Do you notice differences? How can you explain them?\n",
    "\n",
    "[Insert instruction on how to do the peer review]"
   ]
  },
  {
   "cell_type": "code",
   "execution_count": null,
   "metadata": {},
   "outputs": [],
   "source": []
  }
 ],
 "metadata": {
  "kernelspec": {
   "display_name": "Python 3",
   "language": "python",
   "name": "python3"
  },
  "language_info": {
   "codemirror_mode": {
    "name": "ipython",
    "version": 3
   },
   "file_extension": ".py",
   "mimetype": "text/x-python",
   "name": "python",
   "nbconvert_exporter": "python",
   "pygments_lexer": "ipython3",
   "version": "3.6.9"
  }
 },
 "nbformat": 4,
 "nbformat_minor": 4
}
