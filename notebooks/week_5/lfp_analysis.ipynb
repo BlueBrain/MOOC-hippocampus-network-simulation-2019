{
 "cells": [
  {
   "cell_type": "markdown",
   "metadata": {},
   "source": [
    "## Visualize and analyze the local field potential"
   ]
  },
  {
   "cell_type": "markdown",
   "metadata": {},
   "source": [
    "Local field potential (LFP) is the voltage recorded in the extracellular space.\n",
    "\n",
    "In our model, we can estimate the LFP using a tool derived from Reimann et al., 2013.\n",
    "\n",
    "---\n",
    "\n",
    "Import some python packages"
   ]
  },
  {
   "cell_type": "code",
   "execution_count": null,
   "metadata": {},
   "outputs": [],
   "source": [
    "import numpy as np\n",
    "import pandas as pd\n",
    "import scipy.signal\n",
    "import matplotlib.pyplot as plt\n",
    "import seaborn as sns"
   ]
  },
  {
   "cell_type": "markdown",
   "metadata": {},
   "source": [
    "Reading and preparing the data"
   ]
  },
  {
   "cell_type": "code",
   "execution_count": null,
   "metadata": {},
   "outputs": [],
   "source": [
    "data_path = '/home/data-bbp/20191017/lfp/sample_points_05'\n",
    "points_path = '/home/data-bbp/20191017/lfp/lfp_points.txt'"
   ]
  },
  {
   "cell_type": "code",
   "execution_count": null,
   "metadata": {},
   "outputs": [],
   "source": [
    "!ls /home/data-bbp/20191017/lfp"
   ]
  },
  {
   "cell_type": "code",
   "execution_count": null,
   "metadata": {},
   "outputs": [],
   "source": [
    "# !head -n 40 /home/data-bbp/20191017/lfp/sample_points_05"
   ]
  },
  {
   "cell_type": "code",
   "execution_count": null,
   "metadata": {},
   "outputs": [],
   "source": [
    "# LFP is calculated in 11 points spamming in the middle of the microcircuit\n",
    "# the result is stored in a text file where the first column is time and\n",
    "# the other columns are the LFP calculated at different location\n",
    "data = np.loadtxt(data_path)"
   ]
  },
  {
   "cell_type": "code",
   "execution_count": null,
   "metadata": {},
   "outputs": [],
   "source": [
    "rows, colums = data.shape\n",
    "nsamples = colums-1 # number of locations\n",
    "dt = data[:,0][1]-data[:,0][0] # time step (ms)\n",
    "simtime = rows * dt # simulation time (ms)\n",
    "timeskip = 100 # initial time to skip (ms)\n",
    "skip = int(timeskip / dt) # number of time steps to skip"
   ]
  },
  {
   "cell_type": "code",
   "execution_count": null,
   "metadata": {},
   "outputs": [],
   "source": [
    "# this table contains the points where the LFP is calculated\n",
    "points = pd.read_csv(points_path, delimiter=\" \", names=[\"x\", \"y\", \"z\", \"layer\"])\n",
    "points.head()"
   ]
  },
  {
   "cell_type": "code",
   "execution_count": null,
   "metadata": {},
   "outputs": [],
   "source": [
    "layers = points[\"layer\"].values"
   ]
  },
  {
   "cell_type": "markdown",
   "metadata": {},
   "source": [
    "Plot LFP traces for the different points"
   ]
  },
  {
   "cell_type": "code",
   "execution_count": null,
   "metadata": {},
   "outputs": [],
   "source": [
    "fig, axs = plt.subplots(nrows=nsamples, sharex=False, sharey=False, figsize=(8.27, 11.69))\n",
    "\n",
    "for idx in range(nsamples):\n",
    "    t = data[:,0][skip:]\n",
    "    v = data[:,nsamples-idx][skip:]/1000000 # nV -> mV\n",
    "    if nsamples == 1:\n",
    "        axs.plot(t, v)\n",
    "        axs.set_frame_on(False)\n",
    "    else:\n",
    "        axs[idx].plot(t, v)\n",
    "        axs[idx].spines['top'].set_visible(False)\n",
    "        axs[idx].spines['right'].set_visible(False)\n",
    "        \n",
    "        if idx<(nsamples-1):\n",
    "            axs[idx].spines['bottom'].set_visible(False)\n",
    "            axs[idx].set_xticks([])\n",
    "        else:\n",
    "            axs[idx].set_xlabel(\"ms\", fontsize=14)\n",
    "        \n",
    "        if idx==round(nsamples/2)-1:\n",
    "            axs[idx].set_ylabel(\"mV\", fontsize=14)\n",
    "        \n",
    "        xmin, xmax = axs[idx].get_xlim()\n",
    "        ymin, ymax = axs[idx].get_ylim()\n",
    "        axs[idx].text(xmax, (ymin+ymax)/2, layers[idx])\n",
    "\n",
    "plt.show()"
   ]
  },
  {
   "cell_type": "markdown",
   "metadata": {},
   "source": [
    "Plot one trace"
   ]
  },
  {
   "cell_type": "code",
   "execution_count": null,
   "metadata": {},
   "outputs": [],
   "source": [
    "fig, ax = plt.subplots()\n",
    "t = data[:,0][skip:]\n",
    "v = data[:,4][skip:]/1000000 # nV -> mV\n",
    "ax.plot(t, v)\n",
    "ax.set_xlabel('Time (ms)')\n",
    "ax.set_ylabel('Voltage (mV)')\n",
    "ax.spines['top'].set_visible(False)\n",
    "ax.spines['right'].set_visible(False)\n",
    "fig.show()"
   ]
  },
  {
   "cell_type": "markdown",
   "metadata": {},
   "source": [
    "Calculate the power spectrum"
   ]
  },
  {
   "cell_type": "code",
   "execution_count": null,
   "metadata": {},
   "outputs": [],
   "source": [
    "Fs = 1000/dt # sampling rate (Hz)"
   ]
  },
  {
   "cell_type": "code",
   "execution_count": null,
   "metadata": {},
   "outputs": [],
   "source": [
    "f, psd = scipy.signal.welch(data[:,4][skip:], Fs, nperseg=1000)"
   ]
  },
  {
   "cell_type": "code",
   "execution_count": null,
   "metadata": {},
   "outputs": [],
   "source": [
    "# Plot the power spectrum\n",
    "fig = plt.figure(figsize=(11,3))\n",
    "plt.plot(f,psd,'k')\n",
    "sns.despine()\n",
    "plt.xlim((0,200))\n",
    "plt.yticks(size=15)\n",
    "plt.xticks(size=15)\n",
    "plt.ylabel('power ($uV^{2}/Hz$)',size=15)\n",
    "plt.xlabel('frequency (Hz)',size=15)\n",
    "plt.title('PSD of Local Field Potential', size=20)\n",
    "plt.show()"
   ]
  },
  {
   "cell_type": "code",
   "execution_count": null,
   "metadata": {},
   "outputs": [],
   "source": [
    "print(\"Peak at\", f[psd.argmax()], \"Hz\")"
   ]
  },
  {
   "cell_type": "markdown",
   "metadata": {},
   "source": [
    "### Exercise\n",
    "\n",
    "__Exercise 1__\n",
    "\n",
    "In /home/data-bbp/20191017/lfp/sample_points_01, you find the LFP calculated with a smaller time step (0.1 ms).\n",
    "\n",
    "Plot the traces with different time steps in the same figure. Do you notice differences? How can you explain them?\n",
    "\n",
    "__Exercise 2__\n",
    "\n",
    "Launch a new simulation as following and compute the LFP.\n",
    "\n",
    "Simulation:\n",
    "- Simulate only the target most_central_50_SP_PC\n",
    "- Duration 1000 ms\n",
    "- Report current from all the compartments (ReportOn LFP) with a dt of 0.5 ms\n",
    "- Do not use projections, but only internal synapses\n",
    "- Set minis rate at 1 Hz for internal connections\n",
    "\n",
    "Compute LFP:\n",
    "- Use the same central points as above (/home/data-bbp/20191017/lfp/lfp_points.txt)\n",
    "- You will need to provide the points in a file where the x,y,z coordinates of the points are separated by commas\n",
    "- To simplify the following steps, it is useful to preserve the same order of the points of above\n",
    "\n",
    "Fetch the results and prepare them for the analysis:\n",
    "- Fetch the results as you did in the comparing_simulations.ipynb notebook\n",
    "- Run the following analysis in a notebook\n",
    "\n",
    "Analysis:\n",
    "- Exclude first 200 ms\n",
    "- Reuse the code presented here to prepare the data and run initial analysis\n",
    "\n",
    "Question:\n",
    "- how the traces change from SO to SLM or viceversa? Do you see any properties that change systematically across the layers?\n",
    "- Support your ideas with plots and analyses\n",
    "\n",
    "Below, provide the peak frequency as a single float for *ans\\_1*."
   ]
  },
  {
   "cell_type": "code",
   "execution_count": null,
   "metadata": {},
   "outputs": [],
   "source": [
    "# Work here\n",
    "\n",
    "# the result list should looks like\n",
    "# ans_1 = [peak]"
   ]
  },
  {
   "cell_type": "code",
   "execution_count": null,
   "metadata": {},
   "outputs": [],
   "source": [
    "# This is to generate the answers to paste in the submission box below.\n",
    "# After you defined the variables with your answers, run this cell and the next cell, and copy-paste the output into the box below\n",
    "import json\n",
    "print(json.dumps(dict([(\"ans_1\", ans_1)])))"
   ]
  },
  {
   "cell_type": "code",
   "execution_count": null,
   "metadata": {},
   "outputs": [],
   "source": [
    "import single_cell_mooc_client as sc_mc\n",
    "s = sc_mc.Submission()"
   ]
  },
  {
   "cell_type": "code",
   "execution_count": null,
   "metadata": {},
   "outputs": [],
   "source": []
  }
 ],
 "metadata": {
  "kernelspec": {
   "display_name": "Python 3 (ipykernel)",
   "language": "python",
   "name": "python3"
  },
  "language_info": {
   "codemirror_mode": {
    "name": "ipython",
    "version": 3
   },
   "file_extension": ".py",
   "mimetype": "text/x-python",
   "name": "python",
   "nbconvert_exporter": "python",
   "pygments_lexer": "ipython3",
   "version": "3.8.10"
  }
 },
 "nbformat": 4,
 "nbformat_minor": 4
}
