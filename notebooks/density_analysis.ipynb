{
 "cells": [
  {
   "cell_type": "markdown",
   "metadata": {},
   "source": [
    "# Cell density and composition"
   ]
  },
  {
   "cell_type": "markdown",
   "metadata": {},
   "source": [
    "In this notebook you will analyze and validate the circuit anatomy in terms of cell density and composition."
   ]
  },
  {
   "cell_type": "markdown",
   "metadata": {},
   "source": [
    "### Cell density\n",
    "\n",
    "In this section, you will calculate the cell density.\n",
    "\n",
    "The cell density is defined as the number of cells per volume and is usually expressed as $10^3 / \\textrm{mm}^3$.\n",
    "\n",
    "---"
   ]
  },
  {
   "cell_type": "markdown",
   "metadata": {},
   "source": [
    "Import some python packages"
   ]
  },
  {
   "cell_type": "code",
   "execution_count": null,
   "metadata": {},
   "outputs": [],
   "source": [
    "import json\n",
    "from pathlib import Path\n",
    "import numpy as np\n",
    "import pandas as pd\n",
    "import nrrd\n",
    "import matplotlib.pyplot as plt\n",
    "\n",
    "# package to work with the circuit\n",
    "from bluepysnap import Circuit\n",
    "from bluepysnap.bbp import Cell"
   ]
  },
  {
   "cell_type": "markdown",
   "metadata": {},
   "source": [
    "Reading and preparing the data."
   ]
  },
  {
   "cell_type": "code",
   "execution_count": null,
   "metadata": {},
   "outputs": [],
   "source": [
    "circuit_path = '/home/data-bbp/20191017/circuit_config.json'\n",
    "atlas_directory = '/home/data-bbp/20191017/atlas'\n",
    "circuit = Circuit(circuit_path)\n",
    "cells = circuit.nodes[\"hippocampus_neurons\"]\n",
    "conn = circuit.edges[\"hippocampus_neurons__hippocampus_neurons__chemical\"]"
   ]
  },
  {
   "cell_type": "code",
   "execution_count": null,
   "metadata": {},
   "outputs": [],
   "source": [
    "br_data, br_metadata = nrrd.read(Path(atlas_directory, \"brain_regions.nrrd\"))\n",
    "\n",
    "# hierarchy contains the region hierarchy: 01 -> [mc0->[mc0;SO, mc0;SP, ...], mc1-> [mc1;SO, mc1;SP, ...], ...]\n",
    "hierarchy = json.load(open(Path(atlas_directory, \"hierarchy.json\")))"
   ]
  },
  {
   "cell_type": "code",
   "execution_count": null,
   "metadata": {},
   "outputs": [],
   "source": [
    "O1_columns = hierarchy[\"children\"]\n",
    "O1_column_names = [column[\"acronym\"] for column in O1_columns]"
   ]
  },
  {
   "cell_type": "markdown",
   "metadata": {},
   "source": [
    "Initialize table to store the results."
   ]
  },
  {
   "cell_type": "code",
   "execution_count": null,
   "metadata": {},
   "outputs": [],
   "source": [
    "regions = ['CA1', 'SLM', 'SR', 'SP', 'SO'] # list of regions we are going to analyze\n",
    "df = pd.DataFrame(index=regions, columns=O1_column_names) # the analysis will be done in the 7 columns separately"
   ]
  },
  {
   "cell_type": "markdown",
   "metadata": {},
   "source": [
    "Pay attention to the column numbering. This will be critical in other exercises where we focus on central column to avoid boundary effects."
   ]
  },
  {
   "cell_type": "markdown",
   "metadata": {},
   "source": [
    "![mosaic_numbering](./images/mosaic_numbering.png)"
   ]
  },
  {
   "cell_type": "code",
   "execution_count": null,
   "metadata": {},
   "outputs": [],
   "source": [
    "df"
   ]
  },
  {
   "cell_type": "markdown",
   "metadata": {},
   "source": [
    "Since you will apply the same calculation for different cases, better to create a helper function."
   ]
  },
  {
   "cell_type": "code",
   "execution_count": null,
   "metadata": {},
   "outputs": [],
   "source": [
    "def region_volume(brain_region, brain_region_metadata, labels):\n",
    "    '''Helper function that takes the region name and gives it total volume\n",
    "    including the scaling factor to convert from 1/um^3 to 10^3/mm^3'''\n",
    "    scale = 1000000 # convert factor from 1/um^3 to 10^3/mm^3\n",
    "    count = np.count_nonzero(np.in1d(brain_region, labels))\n",
    "    spacing = brain_region_metadata[\"space directions\"].diagonal()\n",
    "    voxel_volume = abs(np.product(spacing))\n",
    "    return count*voxel_volume/scale"
   ]
  },
  {
   "cell_type": "markdown",
   "metadata": {},
   "source": [
    "This is where you calculate the cell density for several subset of cells and in each column."
   ]
  },
  {
   "cell_type": "code",
   "execution_count": null,
   "metadata": {},
   "outputs": [],
   "source": [
    "for column in O1_columns:\n",
    "    column_name = column[\"acronym\"]\n",
    "    \n",
    "    # retrieve the acronyms and the labels for all brain regions in the corresponding column\n",
    "    acronyms_labels = [(region['acronym'], region['id']) for region in column[\"children\"]]\n",
    "    # Get the labels from the brain region atlas corresponding to the current column \n",
    "    column_labels = [acronym_label[1] for acronym_label in acronyms_labels]\n",
    "    \n",
    "    # cell gids in the current column\n",
    "    region_str_regex = '{};.*'.format(column_name)\n",
    "    column_gids = cells.ids({Cell.REGION: {'$regex': region_str_regex}}) \n",
    "    \n",
    "    # compute density \n",
    "    column_density = len(column_gids)/region_volume(br_data, br_metadata, column_labels)\n",
    "    \n",
    "    # fill the data frame\n",
    "    df.loc[\"CA1\"][column_name] = column_density\n",
    "    \n",
    "    for acronym, label in acronyms_labels:\n",
    "        # get the gids for the current region\n",
    "        region_gids = cells.ids({Cell.REGION: acronym})\n",
    "        # compute the density of the region\n",
    "        region_density = len(region_gids)/ region_volume(br_data, br_metadata, label)\n",
    "        # fill the dataframe\n",
    "        df.loc[acronym.split(\";\")[-1]][column_name] = region_density"
   ]
  },
  {
   "cell_type": "code",
   "execution_count": null,
   "metadata": {},
   "outputs": [],
   "source": [
    "df"
   ]
  },
  {
   "cell_type": "markdown",
   "metadata": {},
   "source": [
    "Calculate mean and standard deviation across the columns."
   ]
  },
  {
   "cell_type": "code",
   "execution_count": null,
   "metadata": {},
   "outputs": [],
   "source": [
    "means = df.mean(axis=1)\n",
    "stds = df.std(axis=1)\n",
    "df['mean'] = means\n",
    "df['std'] = stds\n",
    "df.head()"
   ]
  },
  {
   "cell_type": "markdown",
   "metadata": {},
   "source": [
    "### Cell composition\n",
    "\n",
    "In this section you count how many cells you have for each morphological types or m-types and in each 'column'."
   ]
  },
  {
   "cell_type": "markdown",
   "metadata": {},
   "source": [
    "You have already prepared the data in the first part, you only need to query the different m-types in the circuit."
   ]
  },
  {
   "cell_type": "code",
   "execution_count": null,
   "metadata": {},
   "outputs": [],
   "source": [
    "mtypes = cells.property_values(Cell.MTYPE)"
   ]
  },
  {
   "cell_type": "markdown",
   "metadata": {},
   "source": [
    "Initialize table to store the results."
   ]
  },
  {
   "cell_type": "code",
   "execution_count": null,
   "metadata": {},
   "outputs": [],
   "source": [
    "composition = pd.DataFrame(index=mtypes, columns=O1_column_names)\n",
    "composition.head()"
   ]
  },
  {
   "cell_type": "markdown",
   "metadata": {},
   "source": [
    "Compute the number of cells for each m-types and in each column."
   ]
  },
  {
   "cell_type": "code",
   "execution_count": null,
   "metadata": {},
   "outputs": [],
   "source": [
    "# calculate the number of cells\n",
    "for column in O1_columns:\n",
    "    column_acronym = column[\"acronym\"]\n",
    "    region_str_regex = '{};.*'.format(column_acronym)\n",
    "    for mtype in mtypes:\n",
    "        composition[column_acronym][mtype] = cells.count({Cell.MTYPE: mtype, Cell.REGION: {'$regex': region_str_regex}})"
   ]
  },
  {
   "cell_type": "code",
   "execution_count": null,
   "metadata": {},
   "outputs": [],
   "source": [
    "composition"
   ]
  },
  {
   "cell_type": "markdown",
   "metadata": {},
   "source": [
    "Calculate mean and standard deviation across the columns."
   ]
  },
  {
   "cell_type": "code",
   "execution_count": null,
   "metadata": {},
   "outputs": [],
   "source": [
    "means = composition.mean(axis=1)\n",
    "stds = composition.std(axis=1)\n",
    "composition['mean'] = means\n",
    "composition['std'] = stds\n",
    "composition"
   ]
  },
  {
   "cell_type": "markdown",
   "metadata": {},
   "source": [
    "### EI ratio\n",
    "\n",
    "In this section, you calculate the EI ratio, i.e. the ratio between the number of Excitatory and Inhibitory cells. EI ratio is often express as percentages of cells.\n",
    "\n",
    "The EI ratio gives you an idea of the balance between excitation and inhibition, and that may have a profound effect on the network activity.\n",
    "\n",
    "---"
   ]
  },
  {
   "cell_type": "markdown",
   "metadata": {},
   "source": [
    "You have already prepared the data in the first part, you only need to initialize the table to store the results."
   ]
  },
  {
   "cell_type": "code",
   "execution_count": null,
   "metadata": {},
   "outputs": [],
   "source": [
    "rows = ['EXC', 'INH', 'EXC%']\n",
    "\n",
    "ratio = pd.DataFrame(index=rows, columns=O1_column_names)"
   ]
  },
  {
   "cell_type": "markdown",
   "metadata": {},
   "source": [
    "Calculate the number of Excitatory and Inhibitory cells in each column."
   ]
  },
  {
   "cell_type": "code",
   "execution_count": null,
   "metadata": {},
   "outputs": [],
   "source": [
    "for column in O1_columns:\n",
    "    column_acronym = column['acronym']\n",
    "    region_str_regex = '{};.*'.format(column_acronym)\n",
    "    for target in ['EXC', 'INH']:\n",
    "        ratio[column_acronym][target] = cells.count({Cell.SYNAPSE_CLASS: target, Cell.REGION: {'$regex': region_str_regex}})"
   ]
  },
  {
   "cell_type": "markdown",
   "metadata": {},
   "source": [
    "Convert the excitatory cell counts to percentage and fill the corresponding row in the table"
   ]
  },
  {
   "cell_type": "code",
   "execution_count": null,
   "metadata": {},
   "outputs": [],
   "source": [
    "# calculate percentage of exhitatory cells (EI ratio)\n",
    "ratio.loc['EXC%'] = ratio.loc['EXC']*100/(ratio.loc['EXC']+ratio.loc['INH'])\n",
    "ratio"
   ]
  },
  {
   "cell_type": "markdown",
   "metadata": {},
   "source": [
    "Calculate mean and standard deviation across the columns"
   ]
  },
  {
   "cell_type": "code",
   "execution_count": null,
   "metadata": {},
   "outputs": [],
   "source": [
    "means = ratio.mean(axis=1)\n",
    "stds = ratio.std(axis=1)\n",
    "ratio['mean'] = means\n",
    "ratio['std'] = stds\n",
    "ratio.head()"
   ]
  },
  {
   "cell_type": "markdown",
   "metadata": {},
   "source": [
    "### Cells positions across layers\n",
    "\n",
    "Another important aspect of the circuit anatomy is the location of the cells.\n",
    "\n",
    "In this section, you will show soma locations in different layers.\n",
    "\n",
    "---"
   ]
  },
  {
   "cell_type": "markdown",
   "metadata": {},
   "source": [
    "Query the soma location in the space."
   ]
  },
  {
   "cell_type": "code",
   "execution_count": null,
   "metadata": {},
   "outputs": [],
   "source": [
    "df = cells.positions({Cell.REGION: {'$regex': 'mc2;.*'}})\n",
    "df.head()"
   ]
  },
  {
   "cell_type": "markdown",
   "metadata": {},
   "source": [
    "Plot the soma locations to visualize their relationship with layers."
   ]
  },
  {
   "cell_type": "code",
   "execution_count": null,
   "metadata": {},
   "outputs": [],
   "source": [
    "# extract values for plotting\n",
    "x = df['x'].values\n",
    "y = df['y'].values"
   ]
  },
  {
   "cell_type": "code",
   "execution_count": null,
   "metadata": {},
   "outputs": [],
   "source": [
    "# plot the results\n",
    "fig, ax = plt.subplots()\n",
    "ax.scatter(x,y)\n",
    "layer_heights = (0, 170, 230, 510, 660)\n",
    "heights = (80, 190, 365, 580)\n",
    "layers = ('SO', 'SP', 'SR', 'SLM')\n",
    "ax.hlines(layer_heights, x.min(), x.max(), linestyle='--', colors='r')\n",
    "for layer, height in zip(layers, heights):\n",
    "    ax.text(x.min(), height, layer, fontsize=12, color='r')\n",
    "fig.show()"
   ]
  },
  {
   "cell_type": "markdown",
   "metadata": {},
   "source": [
    "### Exercise #1\n",
    "The cell densities calculated above should be compared with literature. Extract data from literature (Aika et al 1994) and compare with the model.\n",
    "\n",
    "![Aika_etal_1994_Table3](./images/Aika_etal_1994_Table3.png)\n",
    "\n",
    "__Hints__\n",
    "The table provides more info than you need. For this exercise, focus only on the total number of cells in the entire CA1 and in the different layers. In addition to those 4 datapoints, consider also the PC density in SP.\n",
    "Furthermore, note that Aika et al considered SLM and SR together (SRLM).\n",
    "\n",
    "Store answer in two lists, one with data extracted from literature and one with data extracted from the model, each with the order density in CA1 - SRLM - SP - PC density in SP - SO. Store the answers in variables _ans_1a_ and _ans_1b_.\n",
    "\n",
    "### Exercise #2\n",
    "Location for CCK and SOM cells. Answer will be a comma separated string from SLM to SO without space. For example, location of PV cells is 'SP'. Store answer in two lists, respectively for CCK and SOM.Store the answers in variables _ans_2a_ and _ans_2b_ \n",
    "\n",
    "### Exercise #3\n",
    "Calculate density for PV, CCK, and SOM cells. Divide the number to the layer volume where they are present. Store answers in a list _ans3_ respecting the order PV, CCK, and SOM."
   ]
  },
  {
   "cell_type": "code",
   "execution_count": null,
   "metadata": {},
   "outputs": [],
   "source": [
    "# Work here "
   ]
  },
  {
   "cell_type": "code",
   "execution_count": null,
   "metadata": {},
   "outputs": [],
   "source": [
    "# This is to generate the answers to paste in the submission box below.\n",
    "# Run this and copy-paste the output into the box below\n",
    "print(json.dumps(dict([(\"ans_1a\", ans_1a),\n",
    "                       (\"ans_1b\", ans_1b),\n",
    "                       (\"ans_2a\", ans_2a),\n",
    "                       (\"ans_2b\", ans_2b),\n",
    "                       (\"ans_3\", ans_3)])))\n",
    "\n",
    "!pip -q install -i https://bbpteam.epfl.ch/repository/devpi/simple/ single-cell-mooc-client==0.0.5 \n",
    "import single_cell_mooc_client as sc_mc\n",
    "s = sc_mc.Submission(hideToken=True)"
   ]
  },
  {
   "cell_type": "code",
   "execution_count": null,
   "metadata": {},
   "outputs": [],
   "source": [
    "# Show submission widget\n",
    "s.show_submission(ROLLBACK, TOKEN)"
   ]
  }
 ],
 "metadata": {
  "kernelspec": {
   "display_name": "Python 3",
   "language": "python",
   "name": "python3"
  },
  "language_info": {
   "codemirror_mode": {
    "name": "ipython",
    "version": 3
   },
   "file_extension": ".py",
   "mimetype": "text/x-python",
   "name": "python",
   "nbconvert_exporter": "python",
   "pygments_lexer": "ipython3",
   "version": "3.6.9"
  }
 },
 "nbformat": 4,
 "nbformat_minor": 4
}
