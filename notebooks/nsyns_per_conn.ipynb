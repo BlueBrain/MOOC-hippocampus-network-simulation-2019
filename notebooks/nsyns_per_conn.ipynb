{
 "cells": [
  {
   "cell_type": "markdown",
   "metadata": {},
   "source": [
    "## Number of synapses per connection"
   ]
  },
  {
   "cell_type": "markdown",
   "metadata": {},
   "source": [
    "First, some packages needs to be installed and imported."
   ]
  },
  {
   "cell_type": "code",
   "execution_count": 9,
   "metadata": {},
   "outputs": [],
   "source": [
    "import itertools\n",
    "import numpy as np\n",
    "import pandas as pd\n",
    "import matplotlib.pyplot as plt\n",
    "import seaborn\n",
    "\n",
    "from bluepysnap import Circuit\n",
    "from bluepysnap.bbp import Cell"
   ]
  },
  {
   "cell_type": "markdown",
   "metadata": {},
   "source": [
    "Reading and preparing the data"
   ]
  },
  {
   "cell_type": "code",
   "execution_count": 13,
   "metadata": {},
   "outputs": [],
   "source": [
    "circuit_path = '/mnt/circuits/O1/20181114/sonata/circuit_config.json'\n",
    "circ = Circuit(circuit_path, node_population='All', edge_population='All')"
   ]
  },
  {
   "cell_type": "code",
   "execution_count": 14,
   "metadata": {},
   "outputs": [],
   "source": [
    "mtypes = circ.nodes.property_values(Cell.MTYPE)\n",
    "model_mean = pd.DataFrame(index=mtypes, columns=mtypes.union({u'PV'}), dtype=float)\n",
    "model_std = pd.DataFrame(index=mtypes, columns=mtypes.union({u'PV'}), dtype=float)"
   ]
  },
  {
   "cell_type": "code",
   "execution_count": 19,
   "metadata": {},
   "outputs": [],
   "source": [
    "nsample = 100\n",
    "def sample_nsyn(pre, post):\n",
    "    it = circ.edges.iter_connections(pre, post, return_edge_count=True)\n",
    "    return np.array([p[2] for p in itertools.islice(it, nsample)])"
   ]
  },
  {
   "cell_type": "markdown",
   "metadata": {},
   "source": [
    "In the following cell, ..."
   ]
  },
  {
   "cell_type": "code",
   "execution_count": 20,
   "metadata": {},
   "outputs": [
    {
     "name": "stdout",
     "output_type": "stream",
     "text": [
      "SR_SCA\n",
      "SP_PC\n"
     ]
    },
    {
     "name": "stderr",
     "output_type": "stream",
     "text": [
      "/home/povolots/venv/venv36/lib/python3.6/site-packages/ipykernel_launcher.py:7: RuntimeWarning: Mean of empty slice.\n",
      "  import sys\n"
     ]
    },
    {
     "name": "stdout",
     "output_type": "stream",
     "text": [
      "SP_BS\n",
      "SLM_PPA\n",
      "SO_BP\n",
      "SP_AA\n",
      "SP_Ivy\n",
      "SO_OLM\n",
      "SP_PVBC\n",
      "SO_Tri\n",
      "SP_CCKBC\n",
      "SO_BS\n"
     ]
    }
   ],
   "source": [
    "for pre_mtype in mtypes:\n",
    "    for post_mtype in mtypes:\n",
    "        data = sample_nsyn(\n",
    "            pre={Cell.MTYPE: pre_mtype, Cell.REGION: {'$regex': 'mc2.*'}},\n",
    "            post={Cell.MTYPE: post_mtype}\n",
    "        )\n",
    "        model_mean[post_mtype][pre_mtype] = data.mean()\n",
    "        model_std[post_mtype][pre_mtype] = data.std()\n",
    "    print(pre_mtype)"
   ]
  },
  {
   "cell_type": "code",
   "execution_count": 21,
   "metadata": {},
   "outputs": [],
   "source": [
    "# TODO\n",
    "# pre_mtype = 'SP_PVBC'\n",
    "# post_mtype = 'PV'\n",
    "\n",
    "# data = sample_nsyn(\n",
    "#     pre={Cell.MTYPE: 'SP_PVBC', Cell.REGION: {'$regex': 'mc2.*'}},\n",
    "#     post='PV'\n",
    "# )\n",
    "\n",
    "# model_mean['PV']['SP_PVBC'] = data.mean()\n",
    "# model_std['PV']['SP_PVBC'] = data.std()"
   ]
  },
  {
   "cell_type": "code",
   "execution_count": 22,
   "metadata": {},
   "outputs": [
    {
     "data": {
      "image/png": "[encoded data removed]",
      "text/plain": [
       "<Figure size 432x288 with 2 Axes>"
      ]
     },
     "metadata": {
      "needs_background": "light"
     },
     "output_type": "display_data"
    }
   ],
   "source": [
    "ax = seaborn.heatmap(model_mean)\n",
    "\n",
    "fig = plt.gcf()\n",
    "fig.suptitle('Number of synapses per connection', )\n",
    "\n",
    "ax.set_xlabel('presynaptic mtype')\n",
    "ax.set_ylabel('postsynaptic mtype')\n",
    "\n",
    "ax.collections[0].colorbar.set_label(\"# synapses\")\n",
    "\n",
    "fig.show()"
   ]
  },
  {
   "cell_type": "code",
   "execution_count": null,
   "metadata": {},
   "outputs": [],
   "source": [
    "# Pull data to kernel to be used\n",
    "# !pip install -q --upgrade --force-reinstall \"hbp-service-client\"\n",
    "clients = get_hbp_service_client()\n",
    "collab_path = get_collab_storage_path()\n",
    "clients.storage.download_file(collab_path + '/nsyn_per_connection_20190131.tsv', 'nsyn_per_connection_20190131.tsv')"
   ]
  },
  {
   "cell_type": "code",
   "execution_count": null,
   "metadata": {},
   "outputs": [],
   "source": [
    "# reference biological dataset\n",
    "bio_path = 'nsyn_per_connection_20190131.tsv'"
   ]
  },
  {
   "cell_type": "code",
   "execution_count": null,
   "metadata": {},
   "outputs": [],
   "source": [
    "df = pd.read_csv(bio_path, skiprows=1, names=['pre', 'post', 'bio_mean', 'bio_std'], usecols=[0, 1, 2, 3], delim_whitespace=True)\n",
    "df.head()"
   ]
  },
  {
   "cell_type": "code",
   "execution_count": null,
   "metadata": {},
   "outputs": [],
   "source": [
    "df['mod_mean'] = np.NAN\n",
    "df['mod_std'] = np.NAN"
   ]
  },
  {
   "cell_type": "code",
   "execution_count": null,
   "metadata": {},
   "outputs": [],
   "source": [
    "for idx in df.index:\n",
    "    pre = df.loc[idx, 'pre']\n",
    "    post = df.loc[idx, 'post']\n",
    "    df.loc[idx, 'mod_mean'] = model_mean[post][pre]\n",
    "    df.loc[idx, 'mod_std'] = model_std[post][pre]"
   ]
  },
  {
   "cell_type": "code",
   "execution_count": null,
   "metadata": {},
   "outputs": [],
   "source": [
    "plt.clf\n",
    "x = df['mod_mean'].values\n",
    "y = df['bio_mean'].values\n",
    "l = np.linspace(0, max(x.max(), y.max()), 50)\n",
    "fig, ax = plt.subplots()\n",
    "fig.suptitle('synapses per connection')\n",
    "ax.plot(x, y, 'o')\n",
    "ax.errorbar(x, y, xerr=df['mod_std'].values, yerr=df['bio_std'].values, fmt='o', ecolor='g', capthick=2)\n",
    "ax.plot(l, l, 'k--')\n",
    "ax.set_xlabel('Model (#)')\n",
    "ax.set_ylabel('Experiment (#)')\n",
    "\n",
    "fig.show()"
   ]
  },
  {
   "cell_type": "markdown",
   "metadata": {
    "collapsed": true
   },
   "source": [
    "### Exercise #1\n",
    "Calculate the average number of synapses per connection in t he four classes of connections (EE, EI, IE, II). Put the answer in a list called ans_3. Respect the order (EE, EI, IE, II).\n",
    "\n",
    "### Exercise #2\n",
    "Calculate the distribution of number of synapses from SP_PVBC to SP_PC. Put the answer in a list named ans_4 with mean and std"
   ]
  },
  {
   "cell_type": "code",
   "execution_count": null,
   "metadata": {},
   "outputs": [],
   "source": [
    "# Work here"
   ]
  },
  {
   "cell_type": "code",
   "execution_count": null,
   "metadata": {},
   "outputs": [],
   "source": [
    "# This is to generate the answers to paste in the submission box below.\n",
    "# Run this and copy-paste the output into the box below\n",
    "print json.dumps(dict([(\"ans_3\", ans_3),\n",
    "                       (\"ans_4\", ans_4)]))"
   ]
  },
  {
   "cell_type": "code",
   "execution_count": null,
   "metadata": {},
   "outputs": [],
   "source": [
    "!pip -q install -i https://bbpteam.epfl.ch/repository/devpi/simple/ single-cell-mooc-client==0.0.5 \n",
    "import single_cell_mooc_client as sc_mc\n",
    "s = sc_mc.Submission(hideToken=True)"
   ]
  },
  {
   "cell_type": "code",
   "execution_count": null,
   "metadata": {},
   "outputs": [],
   "source": [
    "s.show_submission(ROLLBACK, TOKEN)"
   ]
  }
 ],
 "metadata": {
  "kernelspec": {
   "display_name": "Python 3",
   "language": "python",
   "name": "python3"
  },
  "language_info": {
   "codemirror_mode": {
    "name": "ipython",
    "version": 3
   },
   "file_extension": ".py",
   "mimetype": "text/x-python",
   "name": "python",
   "nbconvert_exporter": "python",
   "pygments_lexer": "ipython3",
   "version": "3.6.7"
  }
 },
 "nbformat": 4,
 "nbformat_minor": 2
}
