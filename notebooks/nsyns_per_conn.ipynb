{
 "cells": [
  {
   "cell_type": "markdown",
   "metadata": {},
   "source": [
    "## Number of synapses per connection"
   ]
  },
  {
   "cell_type": "markdown",
   "metadata": {},
   "source": [
    "In this notebook you will analyze and validate one of parameter of the connectome: the number of synapses per connection.\n",
    "\n",
    "Cell A is connected to cell B if the axon of one cell makes at least one synapse on the other cell (we do not consider gap junction).\n",
    "\n",
    "A connection has a direction, so between A and B we can identify two pathways. A->B means that axon from A creates the synapse(s) on B, while B->A means that axon from B creates the synapse(s) on A.\n",
    "\n",
    "Another important point is that a connection may have one or multiple synapses, which has an impact on the anatomy and physiology of the network.\n",
    "\n",
    "In this notebook, you will analyze the number of synapses per connection in all the possible pathways.\n",
    "\n",
    "---"
   ]
  },
  {
   "cell_type": "markdown",
   "metadata": {},
   "source": [
    "Import some python packages."
   ]
  },
  {
   "cell_type": "code",
   "execution_count": 1,
   "metadata": {},
   "outputs": [
    {
     "name": "stderr",
     "output_type": "stream",
     "text": [
      "/usr/local/lib/python3.6/dist-packages/statsmodels/tools/_testing.py:19: FutureWarning: pandas.util.testing is deprecated. Use the functions in the public API at pandas.testing instead.\n",
      "  import pandas.util.testing as tm\n"
     ]
    }
   ],
   "source": [
    "import itertools\n",
    "import numpy as np\n",
    "import pandas as pd\n",
    "import matplotlib.pyplot as plt\n",
    "import seaborn\n",
    "\n",
    "from bluepysnap import Circuit\n",
    "from bluepysnap.bbp import Cell"
   ]
  },
  {
   "cell_type": "markdown",
   "metadata": {},
   "source": [
    "Reading and preparing the data."
   ]
  },
  {
   "cell_type": "code",
   "execution_count": 2,
   "metadata": {},
   "outputs": [],
   "source": [
    "circuit_path = '/home/data-bbp/20191017/circuit_config.json'\n",
    "circuit = Circuit(circuit_path)\n",
    "cells = circuit.nodes[\"hippocampus_neurons\"]\n",
    "conn = circuit.edges[\"hippocampus_neurons__hippocampus_neurons__chemical\"]"
   ]
  },
  {
   "cell_type": "markdown",
   "metadata": {},
   "source": [
    "Initialize where to store the results.\n",
    "\n",
    "Since all the possible pathways form a 2D matrix, it is convenient to have one matrix where to store means and another one where to store standard deviations.\n",
    "\n",
    "Furthermore, you are going to compare the result with values extracted from literature. Among those values, you have the number of synapses per connection in parvalbumin positive (PV+) cells, a group that includes SP_PVBC, SP_BS, and SP_AA. The group PV is already defined in the circuit, but you have to include it in the matrices."
   ]
  },
  {
   "cell_type": "code",
   "execution_count": 3,
   "metadata": {},
   "outputs": [],
   "source": [
    "mtypes = cells.property_values(Cell.MTYPE)\n",
    "model_mean = pd.DataFrame(index=mtypes, columns=mtypes.union({u'PV'}), dtype=float)\n",
    "model_std = pd.DataFrame(index=mtypes, columns=mtypes.union({u'PV'}), dtype=float)"
   ]
  },
  {
   "cell_type": "markdown",
   "metadata": {},
   "source": [
    "The analysis could be quite expensive, so better to reduce the number of samples.\n",
    "\n",
    "Furthermore, since you will repeat the same analysis many times, it is convenient to create a helper function."
   ]
  },
  {
   "cell_type": "code",
   "execution_count": 4,
   "metadata": {},
   "outputs": [],
   "source": [
    "nsample = 100\n",
    "def sample_nsyn(pre, post):\n",
    "    it = conn.iter_connections(pre, post, return_edge_count=True)\n",
    "    return np.array([p[2] for p in itertools.islice(it, nsample)])"
   ]
  },
  {
   "cell_type": "markdown",
   "metadata": {},
   "source": [
    "Here, you run the analysis.\n",
    "\n",
    "Note that the function sample_nsyn returns a 2D matrix with all the same connections for a given pathway.\n",
    "\n",
    "From this matrix, you will calculate the mean and standard deviation that end up in the result matrices. The current position in the analysis loop is indicated by the processed m-type. "
   ]
  },
  {
   "cell_type": "code",
   "execution_count": 5,
   "metadata": {},
   "outputs": [
    {
     "name": "stdout",
     "output_type": "stream",
     "text": [
      "SP_PC\n",
      "SP_CCKBC\n",
      "SR_SCA\n",
      "SO_Tri\n",
      "SP_AA\n",
      "SP_Ivy\n",
      "SO_BS\n",
      "SO_BP\n",
      "SP_BS\n",
      "SLM_PPA\n",
      "SP_PVBC\n",
      "SO_OLM\n"
     ]
    }
   ],
   "source": [
    "for pre_mtype in mtypes:\n",
    "    for post_mtype in mtypes:\n",
    "        data = sample_nsyn(\n",
    "            pre={Cell.MTYPE: pre_mtype, Cell.REGION: {'$regex': 'mc2.*'}},\n",
    "            post={Cell.MTYPE: post_mtype}\n",
    "        )\n",
    "        if len(data) != 0:\n",
    "            model_mean[post_mtype][pre_mtype] = data.mean()\n",
    "            model_std[post_mtype][pre_mtype] = data.std()\n",
    "    print(pre_mtype)"
   ]
  },
  {
   "cell_type": "code",
   "execution_count": 6,
   "metadata": {},
   "outputs": [
    {
     "data": {
      "text/html": [
       "<div>\n",
       "<style scoped>\n",
       "    .dataframe tbody tr th:only-of-type {\n",
       "        vertical-align: middle;\n",
       "    }\n",
       "\n",
       "    .dataframe tbody tr th {\n",
       "        vertical-align: top;\n",
       "    }\n",
       "\n",
       "    .dataframe thead th {\n",
       "        text-align: right;\n",
       "    }\n",
       "</style>\n",
       "<table border=\"1\" class=\"dataframe\">\n",
       "  <thead>\n",
       "    <tr style=\"text-align: right;\">\n",
       "      <th></th>\n",
       "      <th>SP_PC</th>\n",
       "      <th>SP_CCKBC</th>\n",
       "      <th>SR_SCA</th>\n",
       "      <th>SO_Tri</th>\n",
       "      <th>SP_AA</th>\n",
       "      <th>SP_Ivy</th>\n",
       "      <th>SO_BS</th>\n",
       "      <th>SO_BP</th>\n",
       "      <th>SP_BS</th>\n",
       "      <th>SLM_PPA</th>\n",
       "      <th>PV</th>\n",
       "      <th>SP_PVBC</th>\n",
       "      <th>SO_OLM</th>\n",
       "    </tr>\n",
       "  </thead>\n",
       "  <tbody>\n",
       "    <tr>\n",
       "      <th>SP_PC</th>\n",
       "      <td>1.28</td>\n",
       "      <td>3.020000</td>\n",
       "      <td>2.610000</td>\n",
       "      <td>4.030000</td>\n",
       "      <td>3.770000</td>\n",
       "      <td>3.660000</td>\n",
       "      <td>6.330000</td>\n",
       "      <td>2.580000</td>\n",
       "      <td>3.350000</td>\n",
       "      <td>NaN</td>\n",
       "      <td>NaN</td>\n",
       "      <td>5.250000</td>\n",
       "      <td>2.810000</td>\n",
       "    </tr>\n",
       "    <tr>\n",
       "      <th>SP_CCKBC</th>\n",
       "      <td>8.64</td>\n",
       "      <td>1.400000</td>\n",
       "      <td>1.285714</td>\n",
       "      <td>3.073171</td>\n",
       "      <td>1.712644</td>\n",
       "      <td>3.210000</td>\n",
       "      <td>1.750000</td>\n",
       "      <td>2.666667</td>\n",
       "      <td>4.780000</td>\n",
       "      <td>NaN</td>\n",
       "      <td>NaN</td>\n",
       "      <td>4.160000</td>\n",
       "      <td>1.272727</td>\n",
       "    </tr>\n",
       "    <tr>\n",
       "      <th>SR_SCA</th>\n",
       "      <td>5.25</td>\n",
       "      <td>1.142857</td>\n",
       "      <td>4.200000</td>\n",
       "      <td>1.000000</td>\n",
       "      <td>1.090909</td>\n",
       "      <td>1.258427</td>\n",
       "      <td>1.636364</td>\n",
       "      <td>1.000000</td>\n",
       "      <td>1.304348</td>\n",
       "      <td>NaN</td>\n",
       "      <td>NaN</td>\n",
       "      <td>1.436782</td>\n",
       "      <td>1.111111</td>\n",
       "    </tr>\n",
       "    <tr>\n",
       "      <th>SO_Tri</th>\n",
       "      <td>6.83</td>\n",
       "      <td>1.348485</td>\n",
       "      <td>1.470588</td>\n",
       "      <td>3.050000</td>\n",
       "      <td>2.000000</td>\n",
       "      <td>2.940000</td>\n",
       "      <td>3.000000</td>\n",
       "      <td>2.000000</td>\n",
       "      <td>3.173913</td>\n",
       "      <td>NaN</td>\n",
       "      <td>NaN</td>\n",
       "      <td>3.510000</td>\n",
       "      <td>3.000000</td>\n",
       "    </tr>\n",
       "    <tr>\n",
       "      <th>SP_AA</th>\n",
       "      <td>7.24</td>\n",
       "      <td>NaN</td>\n",
       "      <td>NaN</td>\n",
       "      <td>NaN</td>\n",
       "      <td>NaN</td>\n",
       "      <td>NaN</td>\n",
       "      <td>NaN</td>\n",
       "      <td>NaN</td>\n",
       "      <td>NaN</td>\n",
       "      <td>NaN</td>\n",
       "      <td>NaN</td>\n",
       "      <td>NaN</td>\n",
       "      <td>NaN</td>\n",
       "    </tr>\n",
       "    <tr>\n",
       "      <th>SP_Ivy</th>\n",
       "      <td>14.37</td>\n",
       "      <td>2.670000</td>\n",
       "      <td>2.833333</td>\n",
       "      <td>3.470000</td>\n",
       "      <td>3.140000</td>\n",
       "      <td>4.700000</td>\n",
       "      <td>1.368421</td>\n",
       "      <td>1.275000</td>\n",
       "      <td>5.830000</td>\n",
       "      <td>1.0</td>\n",
       "      <td>NaN</td>\n",
       "      <td>6.130000</td>\n",
       "      <td>1.246154</td>\n",
       "    </tr>\n",
       "    <tr>\n",
       "      <th>SO_BS</th>\n",
       "      <td>6.50</td>\n",
       "      <td>1.541667</td>\n",
       "      <td>1.833333</td>\n",
       "      <td>1.333333</td>\n",
       "      <td>1.545455</td>\n",
       "      <td>2.486111</td>\n",
       "      <td>NaN</td>\n",
       "      <td>1.500000</td>\n",
       "      <td>2.312500</td>\n",
       "      <td>NaN</td>\n",
       "      <td>NaN</td>\n",
       "      <td>3.204545</td>\n",
       "      <td>1.600000</td>\n",
       "    </tr>\n",
       "    <tr>\n",
       "      <th>SO_BP</th>\n",
       "      <td>NaN</td>\n",
       "      <td>NaN</td>\n",
       "      <td>NaN</td>\n",
       "      <td>NaN</td>\n",
       "      <td>NaN</td>\n",
       "      <td>NaN</td>\n",
       "      <td>NaN</td>\n",
       "      <td>NaN</td>\n",
       "      <td>NaN</td>\n",
       "      <td>NaN</td>\n",
       "      <td>NaN</td>\n",
       "      <td>NaN</td>\n",
       "      <td>NaN</td>\n",
       "    </tr>\n",
       "    <tr>\n",
       "      <th>SP_BS</th>\n",
       "      <td>5.99</td>\n",
       "      <td>1.800000</td>\n",
       "      <td>2.210526</td>\n",
       "      <td>2.655172</td>\n",
       "      <td>2.870968</td>\n",
       "      <td>3.880000</td>\n",
       "      <td>2.153846</td>\n",
       "      <td>2.222222</td>\n",
       "      <td>4.246753</td>\n",
       "      <td>NaN</td>\n",
       "      <td>NaN</td>\n",
       "      <td>4.240000</td>\n",
       "      <td>1.603774</td>\n",
       "    </tr>\n",
       "    <tr>\n",
       "      <th>SLM_PPA</th>\n",
       "      <td>NaN</td>\n",
       "      <td>NaN</td>\n",
       "      <td>NaN</td>\n",
       "      <td>NaN</td>\n",
       "      <td>NaN</td>\n",
       "      <td>NaN</td>\n",
       "      <td>NaN</td>\n",
       "      <td>NaN</td>\n",
       "      <td>NaN</td>\n",
       "      <td>NaN</td>\n",
       "      <td>NaN</td>\n",
       "      <td>NaN</td>\n",
       "      <td>NaN</td>\n",
       "    </tr>\n",
       "    <tr>\n",
       "      <th>SP_PVBC</th>\n",
       "      <td>10.64</td>\n",
       "      <td>1.200000</td>\n",
       "      <td>1.088889</td>\n",
       "      <td>1.640000</td>\n",
       "      <td>1.260000</td>\n",
       "      <td>1.900000</td>\n",
       "      <td>1.375000</td>\n",
       "      <td>1.062500</td>\n",
       "      <td>2.870000</td>\n",
       "      <td>NaN</td>\n",
       "      <td>NaN</td>\n",
       "      <td>2.370000</td>\n",
       "      <td>1.326087</td>\n",
       "    </tr>\n",
       "    <tr>\n",
       "      <th>SO_OLM</th>\n",
       "      <td>9.31</td>\n",
       "      <td>2.973684</td>\n",
       "      <td>1.000000</td>\n",
       "      <td>1.000000</td>\n",
       "      <td>3.466667</td>\n",
       "      <td>1.333333</td>\n",
       "      <td>1.000000</td>\n",
       "      <td>NaN</td>\n",
       "      <td>1.000000</td>\n",
       "      <td>NaN</td>\n",
       "      <td>NaN</td>\n",
       "      <td>3.540000</td>\n",
       "      <td>1.000000</td>\n",
       "    </tr>\n",
       "  </tbody>\n",
       "</table>\n",
       "</div>"
      ],
      "text/plain": [
       "          SP_PC  SP_CCKBC    SR_SCA    SO_Tri     SP_AA    SP_Ivy     SO_BS  \\\n",
       "SP_PC      1.28  3.020000  2.610000  4.030000  3.770000  3.660000  6.330000   \n",
       "SP_CCKBC   8.64  1.400000  1.285714  3.073171  1.712644  3.210000  1.750000   \n",
       "SR_SCA     5.25  1.142857  4.200000  1.000000  1.090909  1.258427  1.636364   \n",
       "SO_Tri     6.83  1.348485  1.470588  3.050000  2.000000  2.940000  3.000000   \n",
       "SP_AA      7.24       NaN       NaN       NaN       NaN       NaN       NaN   \n",
       "SP_Ivy    14.37  2.670000  2.833333  3.470000  3.140000  4.700000  1.368421   \n",
       "SO_BS      6.50  1.541667  1.833333  1.333333  1.545455  2.486111       NaN   \n",
       "SO_BP       NaN       NaN       NaN       NaN       NaN       NaN       NaN   \n",
       "SP_BS      5.99  1.800000  2.210526  2.655172  2.870968  3.880000  2.153846   \n",
       "SLM_PPA     NaN       NaN       NaN       NaN       NaN       NaN       NaN   \n",
       "SP_PVBC   10.64  1.200000  1.088889  1.640000  1.260000  1.900000  1.375000   \n",
       "SO_OLM     9.31  2.973684  1.000000  1.000000  3.466667  1.333333  1.000000   \n",
       "\n",
       "             SO_BP     SP_BS  SLM_PPA  PV   SP_PVBC    SO_OLM  \n",
       "SP_PC     2.580000  3.350000      NaN NaN  5.250000  2.810000  \n",
       "SP_CCKBC  2.666667  4.780000      NaN NaN  4.160000  1.272727  \n",
       "SR_SCA    1.000000  1.304348      NaN NaN  1.436782  1.111111  \n",
       "SO_Tri    2.000000  3.173913      NaN NaN  3.510000  3.000000  \n",
       "SP_AA          NaN       NaN      NaN NaN       NaN       NaN  \n",
       "SP_Ivy    1.275000  5.830000      1.0 NaN  6.130000  1.246154  \n",
       "SO_BS     1.500000  2.312500      NaN NaN  3.204545  1.600000  \n",
       "SO_BP          NaN       NaN      NaN NaN       NaN       NaN  \n",
       "SP_BS     2.222222  4.246753      NaN NaN  4.240000  1.603774  \n",
       "SLM_PPA        NaN       NaN      NaN NaN       NaN       NaN  \n",
       "SP_PVBC   1.062500  2.870000      NaN NaN  2.370000  1.326087  \n",
       "SO_OLM         NaN  1.000000      NaN NaN  3.540000  1.000000  "
      ]
     },
     "execution_count": 6,
     "metadata": {},
     "output_type": "execute_result"
    }
   ],
   "source": [
    "model_mean"
   ]
  },
  {
   "cell_type": "markdown",
   "metadata": {},
   "source": [
    "Plot the result using an heatmap.\n",
    "\n",
    "Note that when you have a white cell, it means that the two cell types are not connected (at least in the sample tested)."
   ]
  },
  {
   "cell_type": "code",
   "execution_count": 7,
   "metadata": {},
   "outputs": [
    {
     "data": {
      "image/png": "[encoded data removed]",
      "text/plain": [
       "<Figure size 432x288 with 2 Axes>"
      ]
     },
     "metadata": {
      "needs_background": "light"
     },
     "output_type": "display_data"
    }
   ],
   "source": [
    "ax = seaborn.heatmap(model_mean)\n",
    "\n",
    "fig = plt.gcf()\n",
    "fig.suptitle('Number of synapses per connection', )\n",
    "\n",
    "ax.set_xlabel('presynaptic mtype')\n",
    "ax.set_ylabel('postsynaptic mtype')\n",
    "\n",
    "ax.collections[0].colorbar.set_label(\"# synapses\")\n",
    "\n",
    "fig.show()"
   ]
  },
  {
   "cell_type": "markdown",
   "metadata": {},
   "source": [
    "After having analyzing the circuit, you can compare the model with experimental data extracted from literature.\n",
    "\n",
    "The next cell loads the experimental data and puts it in a pandas dataframe."
   ]
  },
  {
   "cell_type": "code",
   "execution_count": 8,
   "metadata": {},
   "outputs": [],
   "source": [
    "bio_path = '/home/data-bbp/20191017/bioname/nsyn_per_connection_20190131.tsv'"
   ]
  },
  {
   "cell_type": "code",
   "execution_count": 9,
   "metadata": {},
   "outputs": [
    {
     "data": {
      "text/html": [
       "<div>\n",
       "<style scoped>\n",
       "    .dataframe tbody tr th:only-of-type {\n",
       "        vertical-align: middle;\n",
       "    }\n",
       "\n",
       "    .dataframe tbody tr th {\n",
       "        vertical-align: top;\n",
       "    }\n",
       "\n",
       "    .dataframe thead th {\n",
       "        text-align: right;\n",
       "    }\n",
       "</style>\n",
       "<table border=\"1\" class=\"dataframe\">\n",
       "  <thead>\n",
       "    <tr style=\"text-align: right;\">\n",
       "      <th></th>\n",
       "      <th>pre</th>\n",
       "      <th>post</th>\n",
       "      <th>bio_mean</th>\n",
       "      <th>bio_std</th>\n",
       "    </tr>\n",
       "  </thead>\n",
       "  <tbody>\n",
       "    <tr>\n",
       "      <th>0</th>\n",
       "      <td>SP_BS</td>\n",
       "      <td>SP_PC</td>\n",
       "      <td>6.000000</td>\n",
       "      <td>0.000000</td>\n",
       "    </tr>\n",
       "    <tr>\n",
       "      <th>1</th>\n",
       "      <td>SP_PVBC</td>\n",
       "      <td>PV</td>\n",
       "      <td>1.546875</td>\n",
       "      <td>1.083182</td>\n",
       "    </tr>\n",
       "    <tr>\n",
       "      <th>2</th>\n",
       "      <td>SP_PC</td>\n",
       "      <td>SO_OLM</td>\n",
       "      <td>2.800000</td>\n",
       "      <td>0.800000</td>\n",
       "    </tr>\n",
       "    <tr>\n",
       "      <th>3</th>\n",
       "      <td>SO_OLM</td>\n",
       "      <td>SP_PC</td>\n",
       "      <td>10.000000</td>\n",
       "      <td>7.000000</td>\n",
       "    </tr>\n",
       "    <tr>\n",
       "      <th>4</th>\n",
       "      <td>SP_AA</td>\n",
       "      <td>SP_PC</td>\n",
       "      <td>6.100000</td>\n",
       "      <td>NaN</td>\n",
       "    </tr>\n",
       "  </tbody>\n",
       "</table>\n",
       "</div>"
      ],
      "text/plain": [
       "       pre    post   bio_mean   bio_std\n",
       "0    SP_BS   SP_PC   6.000000  0.000000\n",
       "1  SP_PVBC      PV   1.546875  1.083182\n",
       "2    SP_PC  SO_OLM   2.800000  0.800000\n",
       "3   SO_OLM   SP_PC  10.000000  7.000000\n",
       "4    SP_AA   SP_PC   6.100000       NaN"
      ]
     },
     "execution_count": 9,
     "metadata": {},
     "output_type": "execute_result"
    }
   ],
   "source": [
    "df = pd.read_csv(bio_path, skiprows=1, names=['pre', 'post', 'bio_mean', 'bio_std'], usecols=[0, 1, 2, 3], delim_whitespace=True)\n",
    "df.head()"
   ]
  },
  {
   "cell_type": "markdown",
   "metadata": {},
   "source": [
    "As you can see, there are only a limited number of pathways.\n",
    "\n",
    "Extract from the result matrices only the pathways for which you have experimental data."
   ]
  },
  {
   "cell_type": "code",
   "execution_count": 10,
   "metadata": {},
   "outputs": [],
   "source": [
    "df['mod_mean'] = np.NAN\n",
    "df['mod_std'] = np.NAN"
   ]
  },
  {
   "cell_type": "code",
   "execution_count": 11,
   "metadata": {},
   "outputs": [],
   "source": [
    "for idx in df.index:\n",
    "    pre = df.loc[idx, 'pre']\n",
    "    post = df.loc[idx, 'post']\n",
    "    df.loc[idx, 'mod_mean'] = model_mean[post][pre]\n",
    "    df.loc[idx, 'mod_std'] = model_std[post][pre]"
   ]
  },
  {
   "cell_type": "markdown",
   "metadata": {},
   "source": [
    "Now we plot the results. The more points are lying on the diagonal, the more the model is close to experimental values."
   ]
  },
  {
   "cell_type": "code",
   "execution_count": 12,
   "metadata": {},
   "outputs": [
    {
     "data": {
      "image/png": "[encoded data removed]",
      "text/plain": [
       "<Figure size 432x288 with 1 Axes>"
      ]
     },
     "metadata": {
      "needs_background": "light"
     },
     "output_type": "display_data"
    }
   ],
   "source": [
    "plt.clf\n",
    "x = df['mod_mean'].values\n",
    "y = df['bio_mean'].values\n",
    "l = np.linspace(0, max(x.max(), y.max()), 50)\n",
    "fig, ax = plt.subplots()\n",
    "fig.suptitle('synapses per connection')\n",
    "ax.plot(x, y, 'o')\n",
    "ax.errorbar(x, y, xerr=df['mod_std'].values, yerr=df['bio_std'].values, fmt='o', ecolor='g', capthick=2)\n",
    "ax.plot(l, l, 'k--')\n",
    "ax.set_xlabel('Model (#)')\n",
    "ax.set_ylabel('Experiment (#)')\n",
    "\n",
    "fig.show()"
   ]
  },
  {
   "cell_type": "markdown",
   "metadata": {},
   "source": [
    "### Exercise #1\n",
    "Calculate the average number of synapses per connection in the four classes of connections (EE, EI, IE, II). Put the answer in a list called ans_1. Respect the order (EE, EI, IE, II).\n",
    "\n",
    "### Exercise #2\n",
    "Calculate the distribution of number of synapses from SP_PVBC to SP_PC. Put the answer in a list named ans_2 with mean and std"
   ]
  },
  {
   "cell_type": "code",
   "execution_count": null,
   "metadata": {},
   "outputs": [],
   "source": [
    "# Work here"
   ]
  },
  {
   "cell_type": "code",
   "execution_count": null,
   "metadata": {},
   "outputs": [],
   "source": [
    "# This is to generate the answers to paste in the submission box below.\n",
    "# Run this and copy-paste the output into the box below\n",
    "print(json.dumps(dict([(\"ans_1\", ans_1),\n",
    "                       (\"ans_2\", ans_2)])))"
   ]
  },
  {
   "cell_type": "code",
   "execution_count": null,
   "metadata": {},
   "outputs": [],
   "source": [
    "!pip -q install -i https://bbpteam.epfl.ch/repository/devpi/simple/ single-cell-mooc-client==0.0.5 \n",
    "import single_cell_mooc_client as sc_mc\n",
    "s = sc_mc.Submission(hideToken=True)"
   ]
  },
  {
   "cell_type": "code",
   "execution_count": null,
   "metadata": {},
   "outputs": [],
   "source": [
    "s.show_submission(ROLLBACK, TOKEN)"
   ]
  }
 ],
 "metadata": {
  "kernelspec": {
   "display_name": "Python 3",
   "language": "python",
   "name": "python3"
  },
  "language_info": {
   "codemirror_mode": {
    "name": "ipython",
    "version": 3
   },
   "file_extension": ".py",
   "mimetype": "text/x-python",
   "name": "python",
   "nbconvert_exporter": "python",
   "pygments_lexer": "ipython3",
   "version": "3.6.9"
  }
 },
 "nbformat": 4,
 "nbformat_minor": 4
}
