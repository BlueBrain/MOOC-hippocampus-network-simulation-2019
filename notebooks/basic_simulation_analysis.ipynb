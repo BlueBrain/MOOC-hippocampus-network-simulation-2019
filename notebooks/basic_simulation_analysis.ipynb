{
 "cells": [
  {
   "cell_type": "markdown",
   "metadata": {},
   "source": [
    "# Basic simulation analysis"
   ]
  },
  {
   "cell_type": "markdown",
   "metadata": {},
   "source": [
    "In this notebook you will run some basic analyses and plots on a simulation.\n",
    "\n",
    "The simulation you are going to analyse has the following parameters:\n",
    "- all neurons are simulated\n",
    "- duration of 1000 ms\n",
    "- projections (Schaffer collaterals) included\n",
    "- spontaneous synaptic activity (minis) at 0.01 Hz\n",
    "\n",
    "---\n",
    "\n",
    "Import some python packages"
   ]
  },
  {
   "cell_type": "code",
   "execution_count": 1,
   "metadata": {},
   "outputs": [],
   "source": [
    "import matplotlib.pyplot as plt\n",
    "import numpy as np\n",
    "\n",
    "# package to work with the circuit\n",
    "from bluepysnap import Simulation\n",
    "from bluepysnap.bbp import Cell"
   ]
  },
  {
   "cell_type": "markdown",
   "metadata": {},
   "source": [
    "Fix the seed"
   ]
  },
  {
   "cell_type": "code",
   "execution_count": 2,
   "metadata": {},
   "outputs": [],
   "source": [
    "np.random.seed(12)"
   ]
  },
  {
   "cell_type": "markdown",
   "metadata": {},
   "source": [
    "Get the simulation data and create the simulation object"
   ]
  },
  {
   "cell_type": "code",
   "execution_count": 3,
   "metadata": {},
   "outputs": [],
   "source": [
    "sim = Simulation(\"/home/data-bbp/20191017/simulations/activate_minis/minis/simulation_config.json\")"
   ]
  },
  {
   "cell_type": "markdown",
   "metadata": {},
   "source": [
    "Get the global spikes report and the specific hippocampus one"
   ]
  },
  {
   "cell_type": "code",
   "execution_count": 4,
   "metadata": {},
   "outputs": [],
   "source": [
    "spikes = sim.spikes\n",
    "hippocampus_spikes = spikes[\"hippocampus_neurons\"]"
   ]
  },
  {
   "cell_type": "markdown",
   "metadata": {},
   "source": [
    "Get the hippocampus neurons which spiked and check the properties of the spiking neurons"
   ]
  },
  {
   "cell_type": "code",
   "execution_count": 5,
   "metadata": {},
   "outputs": [
    {
     "data": {
      "text/html": [
       "<div>\n",
       "<style scoped>\n",
       "    .dataframe tbody tr th:only-of-type {\n",
       "        vertical-align: middle;\n",
       "    }\n",
       "\n",
       "    .dataframe tbody tr th {\n",
       "        vertical-align: top;\n",
       "    }\n",
       "\n",
       "    .dataframe thead th {\n",
       "        text-align: right;\n",
       "    }\n",
       "</style>\n",
       "<table border=\"1\" class=\"dataframe\">\n",
       "  <thead>\n",
       "    <tr style=\"text-align: right;\">\n",
       "      <th></th>\n",
       "      <th>etype</th>\n",
       "      <th>layer</th>\n",
       "      <th>model_template</th>\n",
       "      <th>model_type</th>\n",
       "      <th>morph_class</th>\n",
       "      <th>morphology</th>\n",
       "      <th>mtype</th>\n",
       "      <th>region</th>\n",
       "      <th>rotation_angle_xaxis</th>\n",
       "      <th>rotation_angle_yaxis</th>\n",
       "      <th>rotation_angle_zaxis</th>\n",
       "      <th>synapse_class</th>\n",
       "      <th>x</th>\n",
       "      <th>y</th>\n",
       "      <th>z</th>\n",
       "      <th>@dynamics:holding_current</th>\n",
       "      <th>@dynamics:threshold_current</th>\n",
       "    </tr>\n",
       "  </thead>\n",
       "  <tbody>\n",
       "    <tr>\n",
       "      <th>145</th>\n",
       "      <td>cACpyr</td>\n",
       "      <td>SP</td>\n",
       "      <td>hoc:CA1_pyr_cACpyr_oh140807_A0_idB_2019030510521</td>\n",
       "      <td>biophysical</td>\n",
       "      <td>PYR</td>\n",
       "      <td>dend-mpg141216_A_idA_axon-mpg141017_a1-2_idC_-...</td>\n",
       "      <td>SP_PC</td>\n",
       "      <td>mc0;SP</td>\n",
       "      <td>3.141593</td>\n",
       "      <td>-1.256615</td>\n",
       "      <td>3.141593</td>\n",
       "      <td>EXC</td>\n",
       "      <td>475.613040</td>\n",
       "      <td>214.946340</td>\n",
       "      <td>418.594196</td>\n",
       "      <td>-0.116927</td>\n",
       "      <td>0.263672</td>\n",
       "    </tr>\n",
       "    <tr>\n",
       "      <th>277</th>\n",
       "      <td>cACpyr</td>\n",
       "      <td>SP</td>\n",
       "      <td>hoc:CA1_pyr_cACpyr_mpg141217_A_idB_2019030511280</td>\n",
       "      <td>biophysical</td>\n",
       "      <td>PYR</td>\n",
       "      <td>dend-mpg141216_A_idA_axon-mpg141017_a1-2_idC_-...</td>\n",
       "      <td>SP_PC</td>\n",
       "      <td>mc4;SP</td>\n",
       "      <td>0.000000</td>\n",
       "      <td>-0.582821</td>\n",
       "      <td>0.000000</td>\n",
       "      <td>EXC</td>\n",
       "      <td>102.885407</td>\n",
       "      <td>205.698670</td>\n",
       "      <td>820.509814</td>\n",
       "      <td>-0.121854</td>\n",
       "      <td>0.283203</td>\n",
       "    </tr>\n",
       "    <tr>\n",
       "      <th>427</th>\n",
       "      <td>cACpyr</td>\n",
       "      <td>SP</td>\n",
       "      <td>hoc:CA1_pyr_cACpyr_mpg141217_A_idB_2019030511280</td>\n",
       "      <td>biophysical</td>\n",
       "      <td>PYR</td>\n",
       "      <td>dend-mpg141216_A_idA_axon-mpg141017_a1-2_idC</td>\n",
       "      <td>SP_PC</td>\n",
       "      <td>mc4;SP</td>\n",
       "      <td>-3.141593</td>\n",
       "      <td>0.308174</td>\n",
       "      <td>-3.141593</td>\n",
       "      <td>EXC</td>\n",
       "      <td>151.772716</td>\n",
       "      <td>170.433333</td>\n",
       "      <td>808.895026</td>\n",
       "      <td>-0.126112</td>\n",
       "      <td>0.283203</td>\n",
       "    </tr>\n",
       "    <tr>\n",
       "      <th>602</th>\n",
       "      <td>cACpyr</td>\n",
       "      <td>SP</td>\n",
       "      <td>hoc:CA1_pyr_cACpyr_mpg141217_A_idB_2019030511280</td>\n",
       "      <td>biophysical</td>\n",
       "      <td>PYR</td>\n",
       "      <td>dend-mpg141216_A_idA_axon-mpg141017_a1-2_idC_-...</td>\n",
       "      <td>SP_PC</td>\n",
       "      <td>mc2;SP</td>\n",
       "      <td>-3.141593</td>\n",
       "      <td>-0.927936</td>\n",
       "      <td>-3.141593</td>\n",
       "      <td>EXC</td>\n",
       "      <td>175.807845</td>\n",
       "      <td>215.114387</td>\n",
       "      <td>620.637111</td>\n",
       "      <td>-0.121854</td>\n",
       "      <td>0.283203</td>\n",
       "    </tr>\n",
       "    <tr>\n",
       "      <th>669</th>\n",
       "      <td>cACpyr</td>\n",
       "      <td>SP</td>\n",
       "      <td>hoc:CA1_pyr_cACpyr_mpg141217_A_idB_2019030511280</td>\n",
       "      <td>biophysical</td>\n",
       "      <td>PYR</td>\n",
       "      <td>dend-mpg141216_A_idA_axon-mpg141017_a1-2_idC_-...</td>\n",
       "      <td>SP_PC</td>\n",
       "      <td>mc6;SP</td>\n",
       "      <td>3.141593</td>\n",
       "      <td>-1.197367</td>\n",
       "      <td>3.141593</td>\n",
       "      <td>EXC</td>\n",
       "      <td>569.932009</td>\n",
       "      <td>173.500045</td>\n",
       "      <td>760.627625</td>\n",
       "      <td>-0.121668</td>\n",
       "      <td>0.278320</td>\n",
       "    </tr>\n",
       "  </tbody>\n",
       "</table>\n",
       "</div>"
      ],
      "text/plain": [
       "      etype layer                                    model_template  \\\n",
       "145  cACpyr    SP  hoc:CA1_pyr_cACpyr_oh140807_A0_idB_2019030510521   \n",
       "277  cACpyr    SP  hoc:CA1_pyr_cACpyr_mpg141217_A_idB_2019030511280   \n",
       "427  cACpyr    SP  hoc:CA1_pyr_cACpyr_mpg141217_A_idB_2019030511280   \n",
       "602  cACpyr    SP  hoc:CA1_pyr_cACpyr_mpg141217_A_idB_2019030511280   \n",
       "669  cACpyr    SP  hoc:CA1_pyr_cACpyr_mpg141217_A_idB_2019030511280   \n",
       "\n",
       "      model_type morph_class  \\\n",
       "145  biophysical         PYR   \n",
       "277  biophysical         PYR   \n",
       "427  biophysical         PYR   \n",
       "602  biophysical         PYR   \n",
       "669  biophysical         PYR   \n",
       "\n",
       "                                            morphology  mtype  region  \\\n",
       "145  dend-mpg141216_A_idA_axon-mpg141017_a1-2_idC_-...  SP_PC  mc0;SP   \n",
       "277  dend-mpg141216_A_idA_axon-mpg141017_a1-2_idC_-...  SP_PC  mc4;SP   \n",
       "427       dend-mpg141216_A_idA_axon-mpg141017_a1-2_idC  SP_PC  mc4;SP   \n",
       "602  dend-mpg141216_A_idA_axon-mpg141017_a1-2_idC_-...  SP_PC  mc2;SP   \n",
       "669  dend-mpg141216_A_idA_axon-mpg141017_a1-2_idC_-...  SP_PC  mc6;SP   \n",
       "\n",
       "     rotation_angle_xaxis  rotation_angle_yaxis  rotation_angle_zaxis  \\\n",
       "145              3.141593             -1.256615              3.141593   \n",
       "277              0.000000             -0.582821              0.000000   \n",
       "427             -3.141593              0.308174             -3.141593   \n",
       "602             -3.141593             -0.927936             -3.141593   \n",
       "669              3.141593             -1.197367              3.141593   \n",
       "\n",
       "    synapse_class           x           y           z  \\\n",
       "145           EXC  475.613040  214.946340  418.594196   \n",
       "277           EXC  102.885407  205.698670  820.509814   \n",
       "427           EXC  151.772716  170.433333  808.895026   \n",
       "602           EXC  175.807845  215.114387  620.637111   \n",
       "669           EXC  569.932009  173.500045  760.627625   \n",
       "\n",
       "     @dynamics:holding_current  @dynamics:threshold_current  \n",
       "145                  -0.116927                     0.263672  \n",
       "277                  -0.121854                     0.283203  \n",
       "427                  -0.126112                     0.283203  \n",
       "602                  -0.121854                     0.283203  \n",
       "669                  -0.121668                     0.278320  "
      ]
     },
     "execution_count": 5,
     "metadata": {},
     "output_type": "execute_result"
    }
   ],
   "source": [
    "hippocampus_spikes.nodes.get(group=hippocampus_spikes.node_ids).head()"
   ]
  },
  {
   "cell_type": "markdown",
   "metadata": {},
   "source": [
    "Filter the report on SP_PC cells from the mc2 column only"
   ]
  },
  {
   "cell_type": "code",
   "execution_count": 6,
   "metadata": {},
   "outputs": [],
   "source": [
    "filtered_spikes = spikes.filter(group={Cell.MTYPE: 'SP_PC', 'region': {'$regex': \"mc2.*\"}})"
   ]
  },
  {
   "cell_type": "code",
   "execution_count": 7,
   "metadata": {},
   "outputs": [
    {
     "data": {
      "text/html": [
       "<div>\n",
       "<style scoped>\n",
       "    .dataframe tbody tr th:only-of-type {\n",
       "        vertical-align: middle;\n",
       "    }\n",
       "\n",
       "    .dataframe tbody tr th {\n",
       "        vertical-align: top;\n",
       "    }\n",
       "\n",
       "    .dataframe thead th {\n",
       "        text-align: right;\n",
       "    }\n",
       "</style>\n",
       "<table border=\"1\" class=\"dataframe\">\n",
       "  <thead>\n",
       "    <tr style=\"text-align: right;\">\n",
       "      <th></th>\n",
       "      <th>ids</th>\n",
       "      <th>population</th>\n",
       "    </tr>\n",
       "    <tr>\n",
       "      <th>times</th>\n",
       "      <th></th>\n",
       "      <th></th>\n",
       "    </tr>\n",
       "  </thead>\n",
       "  <tbody>\n",
       "    <tr>\n",
       "      <th>0.850</th>\n",
       "      <td>11998</td>\n",
       "      <td>hippocampus_neurons</td>\n",
       "    </tr>\n",
       "    <tr>\n",
       "      <th>3.075</th>\n",
       "      <td>2715</td>\n",
       "      <td>hippocampus_neurons</td>\n",
       "    </tr>\n",
       "    <tr>\n",
       "      <th>3.150</th>\n",
       "      <td>602</td>\n",
       "      <td>hippocampus_neurons</td>\n",
       "    </tr>\n",
       "    <tr>\n",
       "      <th>3.150</th>\n",
       "      <td>3311</td>\n",
       "      <td>hippocampus_neurons</td>\n",
       "    </tr>\n",
       "    <tr>\n",
       "      <th>3.150</th>\n",
       "      <td>13362</td>\n",
       "      <td>hippocampus_neurons</td>\n",
       "    </tr>\n",
       "  </tbody>\n",
       "</table>\n",
       "</div>"
      ],
      "text/plain": [
       "         ids           population\n",
       "times                            \n",
       "0.850  11998  hippocampus_neurons\n",
       "3.075   2715  hippocampus_neurons\n",
       "3.150    602  hippocampus_neurons\n",
       "3.150   3311  hippocampus_neurons\n",
       "3.150  13362  hippocampus_neurons"
      ]
     },
     "execution_count": 7,
     "metadata": {},
     "output_type": "execute_result"
    }
   ],
   "source": [
    "filtered_spikes.report.head()"
   ]
  },
  {
   "cell_type": "code",
   "execution_count": 8,
   "metadata": {},
   "outputs": [],
   "source": [
    "# Hack : cell we need to remove with a better simulation\n",
    "times = filtered_spikes.report.index.values\n",
    "filtered_spikes.report.loc[times.max() + 0.15] = [3311, \"hippocampus_neurons\"]\n",
    "times = filtered_spikes.report.index.values\n",
    "filtered_spikes.report.loc[times.max() + 0.15] = [602, \"hippocampus_neurons\"]"
   ]
  },
  {
   "cell_type": "markdown",
   "metadata": {},
   "source": [
    "Spiking neurons and number of spikes per neurons during the simulation for the filtered cells"
   ]
  },
  {
   "cell_type": "code",
   "execution_count": 9,
   "metadata": {},
   "outputs": [],
   "source": [
    "node_ids, nb_spikes = np.unique(filtered_spikes.report[\"ids\"], return_counts=True)"
   ]
  },
  {
   "cell_type": "markdown",
   "metadata": {},
   "source": [
    "Get full set of properties for neurons which spikes more than once"
   ]
  },
  {
   "cell_type": "code",
   "execution_count": 10,
   "metadata": {},
   "outputs": [
    {
     "data": {
      "text/html": [
       "<div>\n",
       "<style scoped>\n",
       "    .dataframe tbody tr th:only-of-type {\n",
       "        vertical-align: middle;\n",
       "    }\n",
       "\n",
       "    .dataframe tbody tr th {\n",
       "        vertical-align: top;\n",
       "    }\n",
       "\n",
       "    .dataframe thead th {\n",
       "        text-align: right;\n",
       "    }\n",
       "</style>\n",
       "<table border=\"1\" class=\"dataframe\">\n",
       "  <thead>\n",
       "    <tr style=\"text-align: right;\">\n",
       "      <th></th>\n",
       "      <th>etype</th>\n",
       "      <th>layer</th>\n",
       "      <th>model_template</th>\n",
       "      <th>model_type</th>\n",
       "      <th>morph_class</th>\n",
       "      <th>morphology</th>\n",
       "      <th>mtype</th>\n",
       "      <th>region</th>\n",
       "      <th>rotation_angle_xaxis</th>\n",
       "      <th>rotation_angle_yaxis</th>\n",
       "      <th>rotation_angle_zaxis</th>\n",
       "      <th>synapse_class</th>\n",
       "      <th>x</th>\n",
       "      <th>y</th>\n",
       "      <th>z</th>\n",
       "      <th>@dynamics:holding_current</th>\n",
       "      <th>@dynamics:threshold_current</th>\n",
       "    </tr>\n",
       "  </thead>\n",
       "  <tbody>\n",
       "    <tr>\n",
       "      <th>602</th>\n",
       "      <td>cACpyr</td>\n",
       "      <td>SP</td>\n",
       "      <td>hoc:CA1_pyr_cACpyr_mpg141217_A_idB_2019030511280</td>\n",
       "      <td>biophysical</td>\n",
       "      <td>PYR</td>\n",
       "      <td>dend-mpg141216_A_idA_axon-mpg141017_a1-2_idC_-...</td>\n",
       "      <td>SP_PC</td>\n",
       "      <td>mc2;SP</td>\n",
       "      <td>-3.141593</td>\n",
       "      <td>-0.927936</td>\n",
       "      <td>-3.141593</td>\n",
       "      <td>EXC</td>\n",
       "      <td>175.807845</td>\n",
       "      <td>215.114387</td>\n",
       "      <td>620.637111</td>\n",
       "      <td>-0.121854</td>\n",
       "      <td>0.283203</td>\n",
       "    </tr>\n",
       "    <tr>\n",
       "      <th>3311</th>\n",
       "      <td>cACpyr</td>\n",
       "      <td>SP</td>\n",
       "      <td>hoc:CA1_pyr_cACpyr_mpg141217_A_idB_2019030511280</td>\n",
       "      <td>biophysical</td>\n",
       "      <td>PYR</td>\n",
       "      <td>dend-mpg141216_A_idA_axon-mpg141017_a1-2_idC_-...</td>\n",
       "      <td>SP_PC</td>\n",
       "      <td>mc2;SP</td>\n",
       "      <td>0.000000</td>\n",
       "      <td>-0.839371</td>\n",
       "      <td>0.000000</td>\n",
       "      <td>EXC</td>\n",
       "      <td>478.186235</td>\n",
       "      <td>187.794660</td>\n",
       "      <td>703.596068</td>\n",
       "      <td>-0.121854</td>\n",
       "      <td>0.283203</td>\n",
       "    </tr>\n",
       "  </tbody>\n",
       "</table>\n",
       "</div>"
      ],
      "text/plain": [
       "       etype layer                                    model_template  \\\n",
       "602   cACpyr    SP  hoc:CA1_pyr_cACpyr_mpg141217_A_idB_2019030511280   \n",
       "3311  cACpyr    SP  hoc:CA1_pyr_cACpyr_mpg141217_A_idB_2019030511280   \n",
       "\n",
       "       model_type morph_class  \\\n",
       "602   biophysical         PYR   \n",
       "3311  biophysical         PYR   \n",
       "\n",
       "                                             morphology  mtype  region  \\\n",
       "602   dend-mpg141216_A_idA_axon-mpg141017_a1-2_idC_-...  SP_PC  mc2;SP   \n",
       "3311  dend-mpg141216_A_idA_axon-mpg141017_a1-2_idC_-...  SP_PC  mc2;SP   \n",
       "\n",
       "      rotation_angle_xaxis  rotation_angle_yaxis  rotation_angle_zaxis  \\\n",
       "602              -3.141593             -0.927936             -3.141593   \n",
       "3311              0.000000             -0.839371              0.000000   \n",
       "\n",
       "     synapse_class           x           y           z  \\\n",
       "602            EXC  175.807845  215.114387  620.637111   \n",
       "3311           EXC  478.186235  187.794660  703.596068   \n",
       "\n",
       "      @dynamics:holding_current  @dynamics:threshold_current  \n",
       "602                   -0.121854                     0.283203  \n",
       "3311                  -0.121854                     0.283203  "
      ]
     },
     "execution_count": 10,
     "metadata": {},
     "output_type": "execute_result"
    }
   ],
   "source": [
    "hippocampus_spikes.nodes.get(group=node_ids[nb_spikes > 1])"
   ]
  },
  {
   "cell_type": "markdown",
   "metadata": {},
   "source": [
    "Get full set of  properties for neurons which spikes only once"
   ]
  },
  {
   "cell_type": "code",
   "execution_count": 11,
   "metadata": {},
   "outputs": [
    {
     "data": {
      "text/html": [
       "<div>\n",
       "<style scoped>\n",
       "    .dataframe tbody tr th:only-of-type {\n",
       "        vertical-align: middle;\n",
       "    }\n",
       "\n",
       "    .dataframe tbody tr th {\n",
       "        vertical-align: top;\n",
       "    }\n",
       "\n",
       "    .dataframe thead th {\n",
       "        text-align: right;\n",
       "    }\n",
       "</style>\n",
       "<table border=\"1\" class=\"dataframe\">\n",
       "  <thead>\n",
       "    <tr style=\"text-align: right;\">\n",
       "      <th></th>\n",
       "      <th>etype</th>\n",
       "      <th>layer</th>\n",
       "      <th>model_template</th>\n",
       "      <th>model_type</th>\n",
       "      <th>morph_class</th>\n",
       "      <th>morphology</th>\n",
       "      <th>mtype</th>\n",
       "      <th>region</th>\n",
       "      <th>rotation_angle_xaxis</th>\n",
       "      <th>rotation_angle_yaxis</th>\n",
       "      <th>rotation_angle_zaxis</th>\n",
       "      <th>synapse_class</th>\n",
       "      <th>x</th>\n",
       "      <th>y</th>\n",
       "      <th>z</th>\n",
       "      <th>@dynamics:holding_current</th>\n",
       "      <th>@dynamics:threshold_current</th>\n",
       "    </tr>\n",
       "  </thead>\n",
       "  <tbody>\n",
       "    <tr>\n",
       "      <th>1714</th>\n",
       "      <td>cACpyr</td>\n",
       "      <td>SP</td>\n",
       "      <td>hoc:CA1_pyr_cACpyr_mpg141217_A_idB_2019030511280</td>\n",
       "      <td>biophysical</td>\n",
       "      <td>PYR</td>\n",
       "      <td>dend-mpg141216_A_idA_axon-mpg141017_a1-2_idC_-...</td>\n",
       "      <td>SP_PC</td>\n",
       "      <td>mc2;SP</td>\n",
       "      <td>-3.141593</td>\n",
       "      <td>1.039324</td>\n",
       "      <td>-3.141593</td>\n",
       "      <td>EXC</td>\n",
       "      <td>490.933421</td>\n",
       "      <td>203.071957</td>\n",
       "      <td>597.541707</td>\n",
       "      <td>-0.119277</td>\n",
       "      <td>0.273438</td>\n",
       "    </tr>\n",
       "    <tr>\n",
       "      <th>2715</th>\n",
       "      <td>cACpyr</td>\n",
       "      <td>SP</td>\n",
       "      <td>hoc:CA1_pyr_cACpyr_mpg141217_A_idB_2019030511280</td>\n",
       "      <td>biophysical</td>\n",
       "      <td>PYR</td>\n",
       "      <td>dend-051208AM2_axon-mpg141017_a1-2_idC_-_Scale...</td>\n",
       "      <td>SP_PC</td>\n",
       "      <td>mc2;SP</td>\n",
       "      <td>-3.141593</td>\n",
       "      <td>1.030332</td>\n",
       "      <td>-3.141593</td>\n",
       "      <td>EXC</td>\n",
       "      <td>175.621672</td>\n",
       "      <td>183.419388</td>\n",
       "      <td>554.138482</td>\n",
       "      <td>-0.083050</td>\n",
       "      <td>0.234375</td>\n",
       "    </tr>\n",
       "    <tr>\n",
       "      <th>4011</th>\n",
       "      <td>cACpyr</td>\n",
       "      <td>SP</td>\n",
       "      <td>hoc:CA1_pyr_cACpyr_mpg141217_A_idB_2019030511280</td>\n",
       "      <td>biophysical</td>\n",
       "      <td>PYR</td>\n",
       "      <td>dend-mpg141216_A_idA_axon-mpg141017_a1-2_idC_-...</td>\n",
       "      <td>SP_PC</td>\n",
       "      <td>mc2;SP</td>\n",
       "      <td>-3.141593</td>\n",
       "      <td>-0.346358</td>\n",
       "      <td>-3.141593</td>\n",
       "      <td>EXC</td>\n",
       "      <td>494.910757</td>\n",
       "      <td>199.681410</td>\n",
       "      <td>787.182700</td>\n",
       "      <td>-0.119009</td>\n",
       "      <td>0.278320</td>\n",
       "    </tr>\n",
       "    <tr>\n",
       "      <th>4206</th>\n",
       "      <td>cACpyr</td>\n",
       "      <td>SP</td>\n",
       "      <td>hoc:CA1_pyr_cACpyr_mpg141217_A_idB_2019030511280</td>\n",
       "      <td>biophysical</td>\n",
       "      <td>PYR</td>\n",
       "      <td>dend-mpg150305_A_idB_axon-mpg141017_a1-2_idC_-...</td>\n",
       "      <td>SP_PC</td>\n",
       "      <td>mc2;SP</td>\n",
       "      <td>0.000000</td>\n",
       "      <td>-0.196576</td>\n",
       "      <td>0.000000</td>\n",
       "      <td>EXC</td>\n",
       "      <td>379.640730</td>\n",
       "      <td>226.106078</td>\n",
       "      <td>574.972647</td>\n",
       "      <td>-0.201783</td>\n",
       "      <td>0.390625</td>\n",
       "    </tr>\n",
       "    <tr>\n",
       "      <th>4770</th>\n",
       "      <td>cACpyr</td>\n",
       "      <td>SP</td>\n",
       "      <td>hoc:CA1_pyr_cACpyr_mpg141217_A_idB_2019030511280</td>\n",
       "      <td>biophysical</td>\n",
       "      <td>PYR</td>\n",
       "      <td>dend-mpg141216_A_idA_axon-mpg141017_a1-2_idC_-...</td>\n",
       "      <td>SP_PC</td>\n",
       "      <td>mc2;SP</td>\n",
       "      <td>3.141593</td>\n",
       "      <td>-1.113728</td>\n",
       "      <td>3.141593</td>\n",
       "      <td>EXC</td>\n",
       "      <td>393.798331</td>\n",
       "      <td>178.901977</td>\n",
       "      <td>423.565259</td>\n",
       "      <td>-0.119009</td>\n",
       "      <td>0.278320</td>\n",
       "    </tr>\n",
       "  </tbody>\n",
       "</table>\n",
       "</div>"
      ],
      "text/plain": [
       "       etype layer                                    model_template  \\\n",
       "1714  cACpyr    SP  hoc:CA1_pyr_cACpyr_mpg141217_A_idB_2019030511280   \n",
       "2715  cACpyr    SP  hoc:CA1_pyr_cACpyr_mpg141217_A_idB_2019030511280   \n",
       "4011  cACpyr    SP  hoc:CA1_pyr_cACpyr_mpg141217_A_idB_2019030511280   \n",
       "4206  cACpyr    SP  hoc:CA1_pyr_cACpyr_mpg141217_A_idB_2019030511280   \n",
       "4770  cACpyr    SP  hoc:CA1_pyr_cACpyr_mpg141217_A_idB_2019030511280   \n",
       "\n",
       "       model_type morph_class  \\\n",
       "1714  biophysical         PYR   \n",
       "2715  biophysical         PYR   \n",
       "4011  biophysical         PYR   \n",
       "4206  biophysical         PYR   \n",
       "4770  biophysical         PYR   \n",
       "\n",
       "                                             morphology  mtype  region  \\\n",
       "1714  dend-mpg141216_A_idA_axon-mpg141017_a1-2_idC_-...  SP_PC  mc2;SP   \n",
       "2715  dend-051208AM2_axon-mpg141017_a1-2_idC_-_Scale...  SP_PC  mc2;SP   \n",
       "4011  dend-mpg141216_A_idA_axon-mpg141017_a1-2_idC_-...  SP_PC  mc2;SP   \n",
       "4206  dend-mpg150305_A_idB_axon-mpg141017_a1-2_idC_-...  SP_PC  mc2;SP   \n",
       "4770  dend-mpg141216_A_idA_axon-mpg141017_a1-2_idC_-...  SP_PC  mc2;SP   \n",
       "\n",
       "      rotation_angle_xaxis  rotation_angle_yaxis  rotation_angle_zaxis  \\\n",
       "1714             -3.141593              1.039324             -3.141593   \n",
       "2715             -3.141593              1.030332             -3.141593   \n",
       "4011             -3.141593             -0.346358             -3.141593   \n",
       "4206              0.000000             -0.196576              0.000000   \n",
       "4770              3.141593             -1.113728              3.141593   \n",
       "\n",
       "     synapse_class           x           y           z  \\\n",
       "1714           EXC  490.933421  203.071957  597.541707   \n",
       "2715           EXC  175.621672  183.419388  554.138482   \n",
       "4011           EXC  494.910757  199.681410  787.182700   \n",
       "4206           EXC  379.640730  226.106078  574.972647   \n",
       "4770           EXC  393.798331  178.901977  423.565259   \n",
       "\n",
       "      @dynamics:holding_current  @dynamics:threshold_current  \n",
       "1714                  -0.119277                     0.273438  \n",
       "2715                  -0.083050                     0.234375  \n",
       "4011                  -0.119009                     0.278320  \n",
       "4206                  -0.201783                     0.390625  \n",
       "4770                  -0.119009                     0.278320  "
      ]
     },
     "execution_count": 11,
     "metadata": {},
     "output_type": "execute_result"
    }
   ],
   "source": [
    "hippocampus_spikes.nodes.get(group=node_ids[nb_spikes == 1]).head()"
   ]
  },
  {
   "cell_type": "markdown",
   "metadata": {},
   "source": [
    "### Raster plot"
   ]
  },
  {
   "cell_type": "code",
   "execution_count": 12,
   "metadata": {},
   "outputs": [
    {
     "data": {
      "image/png": "[encoded data removed]",
      "text/plain": [
       "<Figure size 432x288 with 1 Axes>"
      ]
     },
     "metadata": {
      "needs_background": "light"
     },
     "output_type": "display_data"
    }
   ],
   "source": [
    "filtered_spikes.raster() ;"
   ]
  },
  {
   "cell_type": "markdown",
   "metadata": {},
   "source": [
    "### Instantaneous frequency plot"
   ]
  },
  {
   "cell_type": "code",
   "execution_count": 13,
   "metadata": {},
   "outputs": [
    {
     "data": {
      "image/png": "[encoded data removed]",
      "text/plain": [
       "<Figure size 432x288 with 1 Axes>"
      ]
     },
     "metadata": {
      "needs_background": "light"
     },
     "output_type": "display_data"
    }
   ],
   "source": [
    "filtered_spikes.firing_rate_histogram() ;"
   ]
  },
  {
   "cell_type": "markdown",
   "metadata": {},
   "source": [
    "### Inter-spike interval (ISI) distribution"
   ]
  },
  {
   "cell_type": "code",
   "execution_count": 14,
   "metadata": {},
   "outputs": [
    {
     "data": {
      "image/png": "[encoded data removed]",
      "text/plain": [
       "<Figure size 432x288 with 1 Axes>"
      ]
     },
     "metadata": {
      "needs_background": "light"
     },
     "output_type": "display_data"
    }
   ],
   "source": [
    "filtered_spikes.isi() ;"
   ]
  },
  {
   "cell_type": "markdown",
   "metadata": {},
   "source": [
    "### ISI frequency distribution"
   ]
  },
  {
   "cell_type": "code",
   "execution_count": 15,
   "metadata": {},
   "outputs": [
    {
     "data": {
      "image/png": "[encoded data removed]",
      "text/plain": [
       "<Figure size 432x288 with 1 Axes>"
      ]
     },
     "metadata": {
      "needs_background": "light"
     },
     "output_type": "display_data"
    }
   ],
   "source": [
    "filtered_spikes.isi(use_frequency=True) ;"
   ]
  },
  {
   "cell_type": "markdown",
   "metadata": {},
   "source": [
    "### Mean frequency distribution"
   ]
  },
  {
   "cell_type": "code",
   "execution_count": 16,
   "metadata": {},
   "outputs": [],
   "source": [
    "# Function to get mean frequencies for each neuron from the report\n",
    "def get_mean_frequencies():\n",
    "    gb = filtered_spikes.report.groupby([\"ids\", \"population\"])\n",
    "    res = []\n",
    "    for _, node_spikes in gb:\n",
    "        time_differences = np.diff(node_spikes.index.to_numpy())\n",
    "        if len(time_differences) != 0:\n",
    "            res.append(1000/time_differences.mean())\n",
    "    return np.asarray(res)"
   ]
  },
  {
   "cell_type": "code",
   "execution_count": 17,
   "metadata": {},
   "outputs": [],
   "source": [
    "# Function to plot the mean frequency distribution\n",
    "def plot_spike_frequency(mean_frequencies, ax=None):\n",
    "    \n",
    "    if ax is None:\n",
    "        ax = plt.gca()\n",
    "        ax.set_xlabel('Frequency [Hz]')\n",
    "        ax.set_ylabel('# neurons')\n",
    "\n",
    "    fig = plt.gcf()\n",
    "    \n",
    "    mean = mean_frequencies.mean()\n",
    "    ax.hist(mean_frequencies)\n",
    "    ax.axvline(x=mean, color='red')\n",
    "    \n",
    "    text = f'{mean:2.8f}'\n",
    "    limits =  ax.get_xlim()\n",
    "    mean_text_pos = (limits[1] - mean)/(limits[1] - limits[0]) + 0.05\n",
    "    \n",
    "    fig.text(mean_text_pos, 0.80, text, color='red', fontsize=12)\n",
    "    \n",
    "    return ax"
   ]
  },
  {
   "cell_type": "code",
   "execution_count": 18,
   "metadata": {},
   "outputs": [
    {
     "data": {
      "image/png": "[encoded data removed]",
      "text/plain": [
       "<Figure size 432x288 with 1 Axes>"
      ]
     },
     "metadata": {
      "needs_background": "light"
     },
     "output_type": "display_data"
    }
   ],
   "source": [
    "plot_spike_frequency(get_mean_frequencies()) ;"
   ]
  },
  {
   "cell_type": "markdown",
   "metadata": {},
   "source": [
    "### Visualization"
   ]
  },
  {
   "cell_type": "code",
   "execution_count": 19,
   "metadata": {},
   "outputs": [
    {
     "data": {
      "text/html": [
       "<video width=\"432\" height=\"288\" controls autoplay loop>\n",
       "  <source type=\"video/mp4\" src=\"data:video/mp4;base64,AAAAHGZ0eXBNNFYgAAACAGlzb21pc28yYXZjMQAAAAhmcmVlAAA3j21kYXQAAAKtBgX//6ncRem9\n",
       "5tlIt5Ys2CDZI+7veDI2NCAtIGNvcmUgMTUyIHIyODU0IGU5YTU5MDMgLSBILjI2NC9NUEVHLTQg\n",
       "QVZDIGNvZGVjIC0gQ29weWxlZnQgMjAwMy0yMDE3IC0gaHR0cDovL3d3dy52aWRlb2xhbi5vcmcv\n",
       "eDI2NC5odG1sIC0gb3B0aW9uczogY2FiYWM9MSByZWY9MyBkZWJsb2NrPTE6MDowIGFuYWx5c2U9\n",
       "MHgzOjB4MTEzIG1lPWhleCBzdWJtZT03IHBzeT0xIHBzeV9yZD0xLjAwOjAuMDAgbWl4ZWRfcmVm\n",
       "PTEgbWVfcmFuZ2U9MTYgY2hyb21hX21lPTEgdHJlbGxpcz0xIDh4OGRjdD0xIGNxbT0wIGRlYWR6\n",
       "b25lPTIxLDExIGZhc3RfcHNraXA9MSBjaHJvbWFfcXBfb2Zmc2V0PS0yIHRocmVhZHM9MyBsb29r\n",
       "YWhlYWRfdGhyZWFkcz0xIHNsaWNlZF90aHJlYWRzPTAgbnI9MCBkZWNpbWF0ZT0xIGludGVybGFj\n",
       "ZWQ9MCBibHVyYXlfY29tcGF0PTAgY29uc3RyYWluZWRfaW50cmE9MCBiZnJhbWVzPTMgYl9weXJh\n",
       "bWlkPTIgYl9hZGFwdD0xIGJfYmlhcz0wIGRpcmVjdD0xIHdlaWdodGI9MSBvcGVuX2dvcD0wIHdl\n",
       "aWdodHA9MiBrZXlpbnQ9MjUwIGtleWludF9taW49NSBzY2VuZWN1dD00MCBpbnRyYV9yZWZyZXNo\n",
       "PTAgcmNfbG9va2FoZWFkPTQwIHJjPWNyZiBtYnRyZWU9MSBjcmY9MjMuMCBxY29tcD0wLjYwIHFw\n",
       "bWluPTAgcXBtYXg9NjkgcXBzdGVwPTQgaXBfcmF0aW89MS40MCBhcT0xOjEuMDAAgAAAEipliIQA\n",
       "FP/+98dPwKbo+WbLnUU9ITCK2PpIKL1Y7NAydQAAAwAARMDHEW1dy5HBdjcF8e05gDeqPesc5NIr\n",
       "BGhdY/fJcrXr5R/MV3+P43sl2oXko2TdLRGQyzMrSH1blQ6qcV3b3ob+i5ZssVvYFXLRpfVvOcP8\n",
       "K4HfdZlCIoA7mW2ic+OKvjWp/xWsJI6jWs8SQ3DgUdaeomUKBsHc9hOwqOssSgirGVdK074HDo8P\n",
       "iS9gCj43Lr4Z7w6J1vi9wOCfhYbfa6wwVMcURrtOo7m4O2hQ7ALFAw0f4D993zG7com7ba/DKSJi\n",
       "jLe8oKNhgTsAraIJrS8IdE4yVCqdlP0KhF5hKtFHQWHOh5B0Mx16izNMPXSuHzpSJ9DBWeu3vNn6\n",
       "g6hk6vvGl9BSTJcHTG6r9HQHsJ70tsAXBWcxPFcUNR8FRm9TYaApJIkaAs6tNZLgLG+qZTdJlHcz\n",
       "JZwA0HifrnqcHhbKrKR+cLRlO9rnJFkF1dq4TfEGvYDkcYnnTF9pVmWc4DtIWhFLNifsN9vGTMmB\n",
       "GZvWXO7a9uEeyW6ZEcMyIPzMH8eSXLyAwSKPidSxLwvGeuFrxelbYeYypU8nhipj9CxhQU54FRjR\n",
       "hFAY3kVDwmEL3wORxD+Td0opTz9AcIMW98s0RjeQ8KTvYaXyYXunyydswcJFtYuR4alZpvRMfI/R\n",
       "s5/K+dMOauY6giDtQ1myJWYokc3EQqMDynuMJ4Aqjfxr2TPElqEwyKleTimhg5vLa6c8qGvGhXhg\n",
       "Ywp9ub+whMSunIYAiXKcND8rDNuNq6dMc1U7XD6Sy4XvsItETbxZN1Vo7C6wT1eWO2Kv6pAmlb7E\n",
       "XQZA31seUufL3vbf48SKAl0PaLmI+FmleqnCFteZf/NvT+Abj+nwBCxg8/FxUCuD+ARUIXekEbIv\n",
       "y5XN0KEqWXzKfAf/WZjxd5SjpVZ00Qfzuq3gnVoiXKApt6QqpesTw7BE53gH7xWV2vrTbxD6lIWc\n",
       "rSHgmYAAejHXE23bqIsmGUKHHrCt1leGdGa9bYFXyZFrQRGRoHjmB3zU7PKUhVHxMNh1agqpLdDn\n",
       "AZyc2ietjNtQdWZ/8ELDdKce1+Ga2dBWn8NezlpisjA8QnWDjfBT5WqJKHsKGnC1iNl6xwBvohcx\n",
       "jzkNunA4SA8L1SgnMrdUos/X9XOAN6q9Q/N97H6vc6J0Y1tcfBWX49tkKWuB/XBkaN/7XKD8rUjt\n",
       "3UySL++rucr1zMw1PyT+K+LkfO8mbJqyqpx6ta7MLSKWfmqk4RNlkOLl8YJqCzopF594MGEcR69m\n",
       "N1eHaz4HyAS0DzGWmKsMgYSe/nJkrDHDJB/aiPtP7RFv0rC3DPLIfu4HeMH9arkx8peNb1BoMA3W\n",
       "ABioDlFD58ilnzs3Ff1FhLkmBsjH1hd1Q+/ZuUkcaR189xlEio8fBUHB89HU+Aiw+f6veo+WViWO\n",
       "n9KfznSgpUlJYkUKyFAq66ypKJeGNGsZjF32YqaXpmfTO7rRHLx8A9Z6xL46ufPDxIuGeb7csp6F\n",
       "Anf/mS3TsJyTxX75Vp5jKNLl+4IHQU+Gv8i0k7QUaEUA58W9cGeO5ZofBhN0mVw3bHxpm34+oUYO\n",
       "zHkb8Ktj5xGqplfOFr+uwCQjWl0cNa8gZ8zbjbV57KTGm3j9Ke5NhXlztopeps5weh1+AjDwh5CA\n",
       "WyDKbArPqS2k4JBC7zScDWx6ZNTsIQbslBhrwL72JCt1bMzZjP139yH+iKRNesUcIWMwq1P1jwjg\n",
       "//+yLTrNW3h18YAmegwRm/iYrBPH43eXRhimqHTxasY3in5P3xchPNGl4+UN5nNFmgXtwUfcq92C\n",
       "wOIHiaUE02pWVESh+RPcJdkx5wWhccn2NVNyRi1xF4SLI1Jzdzpom6kKPial+lKgx9CqxbORTaTl\n",
       "P/HbLztDPkFRU5A30zQozrhA1pgvZW2nMkV6onTt/27v4W6IOun6FXY34X+jgtIEiJKSXnyappl7\n",
       "nBNMposUDD/lrHvqMpB4yWMNOljTojmsVM2b1BCOm7swo0cqJwMJbre4TMz/REUvZAHQ7nc4Rwt3\n",
       "NWgNXoLcYP+ksyPhANrBUhWYlXNRavsgnSw1OAZ8ROdhKnI36qIlp3JUct3kfsqIo1MrXy1YACSZ\n",
       "9LF+5gXIB/7d/ExTL3jvVM8DEHFbpOegN3W81HxBdRDQ78QwWtu73rExSsJIqyV42D149+PCUEI1\n",
       "cFyRjBoGskwMwTcns6l/0yobbm3CajJAMaqt/ti3+PvK47moFE+eNkYXOWeexeylV/8IR+LtZBFu\n",
       "TgF6l07pJNdycVhjREzUzQ1R6x+eU76zbF7QsZLa/tYxR8R5Z8604/kVXWFrccUifW0dHjQ87DPn\n",
       "TRgRNGebkNNdEi84ANE//f+6Jm9DP8BTYr9i47fg33vKpB7eqoELUF09BEqOVNnDFadq898jqsoV\n",
       "QCHzGFUBad6bXIHFSw4EqytJEyjvHgOnqIYMJbnN4DAulW8DbzjjBcWWQuDhPGwpPR3Fiog3Wk3K\n",
       "wFpc74koOvqTlo+jE6BeXN5ngRfCQluaDpBdxvwZw1qPPJPYb/HXdMEPj0dUNdz+/ky0SlFRQXZU\n",
       "1lTGPjtEB0CDZkYqa+jM7JJWekrFSP7C/O0lpv4dv1K/QDUx5s5n2QkaflNPbWYSV24+2fB5wpTr\n",
       "ms+LnKIQ4kTX4B1JJh5WBAgzMBKa4Arbgmoo6GjszzldruJVuAj4lSeKy4y6vUr6ol78Ax2U94YF\n",
       "PFE+vb+ppJlxlMOtBYl9jv1IqHIdBqUwjAEy8oJv/f+r4nbJ6JNTW/AMOmruA6nwYf9T2cRZsHXZ\n",
       "MnwA78TyI6LrwaLW6lsETcSmbH5llmHemRJNZ0m+IOktyQjkN8zVjSbCNbQObaG8nfznedrz5GoJ\n",
       "g8tN/jh458ttI6oNwHp3gf/kYQ5J5ulAf+GXggHaqqHuFgGvUZ0GKToRaUgylyaa7nsZugxliCt2\n",
       "RZ0uUoaYajYvMvaYqhjjtRLa2L1vlUW9BIpWi7qpkJ0N9WiuWvqKlgx9q+AySQsmxjhg6T8FjfTM\n",
       "NiE34xmH+HTRnHYj13mozvh+BycgGlGTQ9jpRQX8Qfjw6wG1jHqIfzdVLJhL4HkQ7vG2teQ/xVy9\n",
       "YvyfLAgsvAN7wkeocCWddzRfXhC097BwDlrhrHSbv9mqg5tvjULwWpQ1zQhEEuEtVjRGHczgZmdf\n",
       "yLAhPQsNJc5fkSBeRdXM6fXWTiVbcZRr5BHiON7ZFBnA+5XtUfQjQgOElj3s82YOw8zhWjP8uAa5\n",
       "+jjpwEX40KJaBC0iY93XNti4TjojtA83y3nbEuhc/u+tr1bTaBtcKFhBbaJ5sk8U4eP1IlEuILfp\n",
       "XzqqzzIQd6WlkFxOsVnyZB2JpsKHbvIvOhjwv8KgFz/xKIJ+dIUyb+qsxPo2RpF/i/2gsyiCrGrp\n",
       "c2adsZqT/qIkId5jAqnOevB+ESzozO35e50XGVLpFmVJ3gJktHen4pGng7RjXR9PMWWtxcC13Y1W\n",
       "kw+dR/I+gWAKMaXLoOWw5wsFhqEYOKUAKfewTel6Y/qRzWARH2InSc7I6mjWetsRB8CSUo1DHtqb\n",
       "zp3k2QinB1nCVWWPDaSkbWJp//9MCq4EYDzSOfO3d1bw9Q5DFIbJHiCWUoA7ePY6NV4bBzRZ19iz\n",
       "1NMWG9hDyU7vI//82jVagi5D6eVLNbefL8VvqreDjzgCDMxdPV/U8rAUY3D5+Xs5iPU0YWhE8bY7\n",
       "Zo1nOYScMik4tcMXbLBbEgA+bF4NckLrJzSawk7LqY3h3ne0stOIJ3hUY49p//y8sgVKFTTd4e67\n",
       "RY+q43xjkGPRtQTrclaH5dIGY1XYBgKbDwsZ9weAqIMb0MDTfPRiHIo9/TWdTLGKqOVJsaP3KCUC\n",
       "rToxZFMYLEe1Br7RtgoFsJv0tHVPpNONsaHh48Oqp7HOOM/Z+Wlqm0LLzxj4zT1q8/fN6rNLlOG5\n",
       "/Jdz9wQUaTwFujzlofu8Z65RpPHMJLuWpN+9ZVZ60s9XtegtvhYguk0TVgCCLG9Ed82SW9WkAiir\n",
       "M+lj+Synz+RektZu9miVU9MPf1BZA52xsgIN8ddSLQL8Ugb2SYxy406Sgtri+B3pO9uoAEggV5VC\n",
       "1ykNs0Om01dDuWa8oOgaWpWj/mjloUqO2UkUfs6JcznqIl7G1iFyDQB3rQAzojGb7DkFIQjquj0+\n",
       "dRFp9bNhe1DrEbEHvKMnTvvPJgcKVuHEKp9yLLRp1sipSVq3+0f6iSbwJbkg3f4yYTK3uWUpwJs7\n",
       "qSu11OJe03ZvTJ2zdeANuuGCAuItGFxwIOgzYnj7N7LDq867MckyZfSDfnvHzxOOi3d3UIejwJ6h\n",
       "Ws/pxtPM3it/2IIINZ+ndE1EdMAmDwJhUmSlfm2lt/KWwl8Z3cNHfTyTZGOXjyH2463OEd+o5Odl\n",
       "5ECXiOh0Q6LSQcpq1E8IgoGgXaU3/3RlvyATrWHHQBi3DTks29rRO6fMBXeftsMHI9kw9nxjGc1J\n",
       "jv77F310hPmbmrJ/2ntenapXaVnJnxBPyrHdQJDj4x3D/wI9hgM7qluJGHm+GfUACHWuhuCNWmdE\n",
       "yNjaJj48Uv+YCduVC5jFvHwfli5K3qhjyZIl7fsuutXmtIJ6CIqFPgZDtUvNyrM0mE/p7TxS7eMU\n",
       "0BzkLaGEztOKGt+F5m1Boh4PJ4dHe51Dh2EiIslqrMCUH260Ik2XVxSG7DAymW1H3cqL2ICf9bde\n",
       "TiZmsN/AP9XEmFnGiZ5p5BD6h2giPHfrqB9G9RLr71yuTjL5ZqqpXJP8eiRMONNBJnptIu44ZuAk\n",
       "YyTuWN/VlAzkXVulDHFVYwvYPfxdYG4BWaKuUQaKYi4/T83Ep7bJojWVmyau2TI6fvpe3JRFxIP3\n",
       "98r2JFP+sCDdk7PS+95XO1poUDrRCetK4WhxWzncNIh5r7dtHtUkxptx7DGLx8dUifU7PuCawhYe\n",
       "4VDfNlXNL78fQDnSorlDOHkV0aUBbdlaytbbFljmbO826+Z1plZd0tB6EacD8+YBFBCy5jXnY7zP\n",
       "fFr6sQj3n2KUU8BZDsDM8F8lQ/4zMG4SPnD+SCQ2LjKNh2KJOZSBOcUV8MbF+Vc8kPuba72AE7r/\n",
       "KAhp6KDfjpKaU3Y7GyUgx8a6pebkE616y32wS/aUfsy1yjVmhugSYnjg544IUu+QRTCNZMAsJBbt\n",
       "UQaYVwim64Y/rh7pFYpgsrmOADFitgfZdG+t/P/ZgrWPNJ87k42uJSiWj+uFe0on1sWVgqET7CM5\n",
       "oPrWdzPmY9n95LwK254ZINmCcmy2NF2NuypZOohSgFdo/r03UYF4Uh4zJIrQGXNloHgVnQUIS/dc\n",
       "0V/ljF+6fITSXwMJS+kVT5MZpyZG7BmwPJcFZl8RN7c0feV530l81JtD1ZUkAHpGDILWzPlL8Bfm\n",
       "RTNW3UX/jhxeTIRf7veqcsHWeg04x5hnJZVQLVQebWZ76uclOq7l8sULZqA7UCiFsQYI/m5Lys4P\n",
       "mz7ANay/cjYqKwS78itD9JLKm4mfICnDqMfQ6anY8zsroJtLHUfXFok78jCgW96gs8v8rwR7fwGI\n",
       "I51P7JCCRqAJNiRbO0fd4TiAEc77QdMIEaG6XBiBzL+A0S4+2Y88Vhf/5EEb5Y265ijFM2RG3/zs\n",
       "BxsF2o0iSBRRlzdHjoYxrkvEei3jhAKhZrf2lJ9A32g87QUQKLj7mQC1l9xTYiqR0e+6aByiw2Mt\n",
       "6cRRZ/rzlCxBsPN7UTuN9sXCkAKXgEuMrmd8wTtSPycEyyKnoJUPfWlST3X+5KDZVLRu3a4MIeKR\n",
       "BhK2m48OHIfqbYlHhz6KiPTsU7KzZxUcUsrOdCkz655ZrH0yPZNYOtaBtGGlILtiiJzHKn6tZToE\n",
       "93CNLvh/8n/Ae+f8Z8d/4IADdLPEqoMuWEgtEGOA1t8EqlEmjSHPc0xMkfhDAmmcHYAS25MRCkVu\n",
       "OZ9HTezss45LFDgT9YfjaE95MMfWjd+hvRTH81B8DGmW+u7BK75GdedEOvC+ROnuGapTIxWnsFok\n",
       "kZC6PsxKU/+9rfMlL2QZeWjL+zz0Ha14w73vt02BG+Ju3oDDa6y6OcSCl4mUdK2j+5gw4IfkIIuq\n",
       "V0chRbDfk1O5Fr+3SECuY3DF/z+wVOyViPfg6OnSvrPI8VcI60KIgq32PqQH5z+DO+9QalCYjFi9\n",
       "EjpPAOMAiUl5XeN2hYoo7TzgDDKrcy70C0/RwnMAAAKiQZokbEFP/taMsDbUdh+ADj7xWKkGG1ON\n",
       "6hlcuOraGM8QfBfBnFwU5TJK33WbEk64M/GPheTDE07I9hdMaluFTZb/Nuf5XfIbIWMoUqRbCgxr\n",
       "X3xRxjOsf82H0PEsspQuyuBlzWmEJHVhJerCCAbQnyB0PYd+++2LqYIYgr24jiQnanf8h8+3p8gO\n",
       "qyvY3Mo3rEen3magfVQmtEgPALwV/kUipwJBu9NA8Y3/aaNauyZtQM+C3JMsUClT0eRE8uQM71E1\n",
       "nujy7SJ6LA9m0lQ81VYlDTRUw+SXVs3Rx/nk5e190KPK0W+IBCxZT+21a64CoA4/4UzoWI7t/1FD\n",
       "K2ZqUoQyG/uSQZHxgNKT6nQnwBZGeyXXXLSEIUIRZ+ZFbB7iI70kVsoV2O+Oq6O5w1N+tTL3qqYq\n",
       "eiGoJzJbaCn328HXGBGKYMOhxAMgOcf4HiDcp5+kNweSLQ9ZWG5PzICB0WmIOhdF7bEls9XFI95L\n",
       "bg92yR6DKLfFGCpQ9+pHqY1IklcbRRBT02pKfYvT3d4yRj5FRZlOFa6V8DUDtjnvcT3BgTTZWYpA\n",
       "1IygA7SIwlwsE5FML+wFxGh1coSg4sJgUIPuitSV/nFkzZp6w0KMY8566aDvRZBzGXYBG0Aj46bc\n",
       "1UIIXrbPlQ0aKUcPjCnZwYWS/7MZ/X/WVEvQfYGY0SktRdFHwawy7CK7NQ9y3XoI+RdXvUgSguS2\n",
       "uMgDru8X0nzacB++95IkgG2L1wTy9y9n9VZNeUHzYPuV8qcLf3zdVlXQmNwDSowcMhwHg/IHS8B9\n",
       "m4qdAgf3uddSFlCcOpW7KqWUKLt6x3Es8BbajZ2kmu0eT6hcq16LcwE49Ss9ZzPRM8WovSUNtAfX\n",
       "L7LzMKJWi89sloOKw6kg1TwNSn4VsPUAAADeQZ5CeIIfAEZHoqp0WE/AC2k1UKqNOlW3p5nNwpZ3\n",
       "C6N+wvFeDHi3DsRweXbc9sLu+LP0xlRgEabINFRUuyT8/YrgmXXTFJd10W9vF99/Ly0uHugoYrBR\n",
       "4lt1lK3fRCkH2WZZ8Yo1+KhBS6PJCd0bui3qPTihlb2whgtWippmSVQt6ltNvaUv3ZqNZH+MxdAL\n",
       "jr6nMcoCGRuyJbkKe0d/tnUWoyrC9BWNLmCOU3R5TrxW/A6D8CjeLDnt4kPDmfA3qmzmWiyc9cGt\n",
       "E0OApkZXWT5a2uncWG/oyRhoMCpBAAAA3QGeYXRD/wCW3JitFfvhaommeKGzVnWkVgBCdqpjwUD/\n",
       "Etv0nkL5SsAtdlpudaIAlA4nsXGthc3nBEw/mo2XmPyHLzEvNkXQXqAVwivkhiN2tTuIcwyrgN/0\n",
       "w8BEVKjFBCY7JaZDU0vAkauJCh75ieMYj+0kUpiPvEC3M+ukNzFNgBJGFnShzdNTIFQeqLtxto44\n",
       "4CKkPn5lZkFowJmogPSJTU2qBj9Mjb0gCAsB7ydqQOM+XeRx5OMVLzVZ564pc4WfsoFiLnuZ+UcX\n",
       "S0QJELHjC7ySYLqPfnRytQSAAAAAlQGeY2pD/wCXA1u3nACFLpOtA/0SXzO/RZ9ivf2VuUvROgqp\n",
       "bYHarI8/JAWVq4SqjQH36pMkJUZ16Ivi7s/Ie8MUf+rmx7k3lTid8tR1x2Wq1MM/PwNIFj+VdceQ\n",
       "ySr70kmvFnQgQbngOKSBKqVOrvyabpSeNpiadDY8ZrcMVMLuZFNkL6+bWHa4J5giKpY1a7OlRGNB\n",
       "AAABgUGaaEmoQWiZTAgp//7WjLA25dpPwAcffg0qHFbhFb/eAHkdzP7Hc6GSdsJIdxqD0PBmlwX+\n",
       "7QO5cdjeg2lLCGg7supkHazJG9kqRMAFRxwq5yhhXRXHNb5gKtla7D+3bBafrqTR5YBQJ8rCwGiU\n",
       "UwTkK6f10dXunHIKxJNuc+e33GEgD3BXQdoFvdRRG64wZ3uRZNjlH4wCsHa6iycDDGptYTBWyp83\n",
       "nDFLXIrBNmKpdH4+U1+qVZ3qjYIXyOitxEGiSF45CgPv4V4H3FzjZEz58tvZR7tOGUGAxW9sLvkX\n",
       "EMLFLGGOn4dV8GRUhDPx3kZ4giB1qI3NfAlxIU5K4AZSOQI4RUylvbiiYFAR2enEvseyzg40p7bR\n",
       "f2PXeckjz4OHGbLkcpFvfWIfiYuMybw2PAEruxMfrX4mU2UxaxkoJfsZogtA9TCb9bGhuSk5l743\n",
       "IO0KPBFFoVL80d5jxBpO1esnXXiIizjypJacv9DoXtc3NUqjcET/6eafCCf4acUAAACsQZ6GRREs\n",
       "EP8ASD41wAXVKJp/DD6zIC4q+AG2/aelz5MBgg7h4b6GVbLtM1R5iZKrvH558UZ75cXSxAIG8tmO\n",
       "3iArO0zYRl/w91Ko0ZXM7aaKFLorctixpfSGJuvgPcDwhfQrD0QyEg6pwyBkMgsgrJCt3M5QW6zO\n",
       "PWxI0D1D+bXBY5tMMsM7ttlHc3TjZUhtwwPT8vuRLcYBu0D2kQzIKsjtx+wFhpK/JZQbcQAAAIMB\n",
       "nqV0Q/8AlvaMtABtUhRk3ub3DCJxcqHnne2GW5wJFflFxnF8GLUtfAA5Mnjnk3IJ1YLTbalqQcs3\n",
       "EdB6LJWsoK49bqVyVYTrqhjJiDTyxyb4V664CnJAkYvYvpX6RdiAa00JM0Wjfq2jwcn6I7kfCrpQ\n",
       "v6gdZkFWVR5WVna3wqxGQQAAAIgBnqdqQ/8Al8A+ADapCjDczm0ZaHqGjGS5zexKGExkp1ETRunr\n",
       "xdkMA1lN1VFjM+TZOcKlsNdKMXwQN6CTj0fVZbeklngHRs90D3zWdwASq9c58CQ9oEI0rcuyI1sV\n",
       "qY7w6tDZUcuh8caD1+FVrWEWTV++7aSLE31FAD370/feEb0qBepvwHbAAAABUkGarEmoQWyZTAgp\n",
       "//7WjLA27afABx7yhILSKWxEa20wMP0wCm+een1s3h+vwD0LH6ABJwh/vmAYmYFYGxTXD/asg0DN\n",
       "X+FCLnNhIunrVeOJllPhQZXj2tFWfcfGUGCW/GpomWh+W5Z4SEMRwLdQCAtcQLGv5Uxcra/rc3b9\n",
       "+uDeTzbSek2jYJ0Nsf50PrS4eiWN6ztED+g3JAuF+xjnqKLxWT5j4gR123WMpro2vntM26/4lTlo\n",
       "MoukbhvDnrqxSBq+ibMKZ0LwFVt3paF0kd+EseRKxCePL13X7g19zITo/KUr1EspCXRWFPcSa3we\n",
       "2MaeZPxrrVjheZPkC4wj6xPc/P1ezVrJJ7CmFNPtjXZIeMgDA9ur3lah0jeawQC0vwVxdV7WWsk7\n",
       "dlLv9Gt/TSvxXl7nnDU361MveqpipLixaDidtZ/EvwTxCfj+cpzsM8voAAAAkkGeykUVLBD/AEg8\n",
       "6csAAXSigQ1fo5OAPcrDrbi5kRiRi+Lx1r3RZlBDyhXv5gWS9HGCXjPOKMO16JwG04xVes2L9uHn\n",
       "JtY0kgrn8qwuE39hYFWjTPXOOwst+V0OSFFXj6/BLBxh4AtAz6Kh0FusMEezo2RMrp7ENN0aqZFZ\n",
       "ZSNL3Z46BwjXZrTLuJfYF6D/XgFlAAAAjwGe6XRD/wCW2SDLAycrsGJt5LjABEClXc0rrsM4bGmA\n",
       "oFmUs6AAMwPEsq+yaX1DeIhcVETojxnQp0N2KP+Se9LvSMp89eSQ0Sq0kHdULEBkeVj/9VqIW/Iz\n",
       "h/a9ZvwfBWsqVPkLob4/W99s/kzb+G7YDSKx49nhmWZC7BrI2eMwIDEM2NRBXUy9imYS7UPKAAAA\n",
       "oAGe62pD/wCMg2WN8BfZ0HUAG1WuBIL+ZKgn54+cya8Hk3f/RApgZRw1gB072l1WNd1aS6nh0ORG\n",
       "252ysvavTG6+FnPRqSE8lZyiNYuwZ/9+/IaZm+cVqdbb6j+s77jZDOCySGkjjb+POeWdZlStj/6b\n",
       "PgEDrqZHn8U5kud+XjJEaBMldzcGE1WA95om+5LVLLXhaDqKsdbwznXvPY/QCygAAAD5QZrwSahB\n",
       "bJlMCCn//taMsDbtwxQA49HJm1Z4DrxdvxSs8dFnvbxj9PqfCmzaYZWavzMVTiCZIyoQNR+wQJjJ\n",
       "c9hQGj6m5dJCv4LoyHg1eFhxAjSh82u3IIzK4pNg0rGEfqFsuJ2uAsIOTQccurbyPY0+cNOH20I4\n",
       "+4k/R0U/AfcIAzZxfnTfF7Yrm5FQ1m8uu50mkUa1ehGc8C4ugqw5CFn17UzGCOZA2T4A3ObWJyO1\n",
       "/JNbSmNANBU/ypL11ohPKcsecjEPnM8MJ+cHfDnZCAeWR6yJhvcV0dzhqb9amXvVUxUlxYtBxOmg\n",
       "YUoht+8+IQHGbylQMF6RAAAAokGfDkUVLBD/AEhKAiQXw7Z90kCVbwACdpHJ/yi6Dj/lwuzpspHx\n",
       "CvAKFChNxTZr9+0prBVIlH1RF0g7OIsqxaNW+v7cwdLsWKHKcy+Clr7Mya0EVP0WmSJaH3cDseeZ\n",
       "LhUyN4TmNVoxyxCpyDMr5ygFvHYw2q4+J+qqwn0D+0DC0mX3YZwX+k6NSsEPKaIksvoH0noxdA4R\n",
       "rEb7B9NoqllTlQAAAJgBny10Q/8Alwylj1912zWkx7EIt1ABtV2VV47kblbe3QxD9UEIXmix0e8t\n",
       "YKInhMXuC6e9s6L78pweizz1jTq+MnYool3E4VjrVWr5lyj+nTcjCwKLUUWdP0AiqIJGN/S6PP7G\n",
       "bdsPQ0T8hdg3bz1oXEYFy5DT8w1bP6ymvUDHEOy/pLMt6uPDe7vMuMzfun/0OdS5TRBqgQAAAH4B\n",
       "ny9qQ/8AlxWAOk+yq9PKgA2q65hwfQdBMiAKcPONtD6e6OYAyfwJa2BiansizJOFgGdwRpy3ICkx\n",
       "ZBG+veBpr9rRm0kxiUw8AD87PSwv9gahgdIXvk9L5WVgnOIavEFShCDmmo9nycY32/ju2Dcqs8QJ\n",
       "4aBmQuwayQ76rfgAAAE/QZs0SahBbJlMCCn//taMsDbLltYAImo5M2rO4tbKNS/FK4RZbyDsFKDa\n",
       "4dRdZfA4//JR1B89kY/ifkbFbA1feNr3TUmDOVyekJ/SllADYtjY/IMdVQ3i1VeQHAJBfYITol7/\n",
       "Wu6f+bzQwtV+C7fpNJOfyVLHG/fzmvRqqpJIcjOTeCPQ20DLvivCU/E3isX8loDkJj4dV3Hu9emy\n",
       "uveDG1zPBIleGlHrlRHnOJqRs8RY0Q4DxOWgVsttwO1AX6j4zxflSb0Blt0EyKR+OjzcvYd+XZ1f\n",
       "ROSVLP4paO0//YpslH69+8PgoHHJfK11XlWiT7NpC6a0wYxw2CN5uXWFSG/rtr4qgHAhRQBNzCyQ\n",
       "zZcJSOy0K87Kt7C8FXeRXrZqDQ9B9RKBMW2brbMiBcWLQcUlyVEU0rHUUHZJb1RUzgAAALJBn1JF\n",
       "FSwQ/wBIUZFbiKin2diy6wACIPnvKWUygWANycqV+I+xYpZsGDcB9MgDi6YuRNPhw8J3u712TJTe\n",
       "31K5SUE8/xELdkBN9y42i2aPC3qlr8ue/eXvnQtfOeLX+4ps1OB6VDzWmD8la+LyE11x58fFnXry\n",
       "o7F7CZ/GuoZrrPrL3xyJMngxC+swpcS0KmpPQes8w29PCi0/BjzIi6EqYx8t0cGxfBan3OGOQ+2M\n",
       "MZTBAAAAoAGfcXRD/wCP3LvC7sAG1XYwQto9/xBCdM2kJokUC/dsKevHmUG3y76aWeDsHS/zhUth\n",
       "rpOtNkHGHTwSBlmy/BW/7jJ7AIzgg71sy/1ByDv4J/ez/yccCdbKEAxWOVhgaP75bDKaPdNTu8Zn\n",
       "acx3ILu94SCSiBV8jAWb+MCEvuquZ1z4lkJfzWCZ+gGpjCz3nyJm5dJBUQQQmGQe8SlAgUAAAACO\n",
       "AZ9zakP/AJcAwKW3jyecGpYI8WAEKIE6yg67sIVT2EtbtthBz55tUNqbOhzE13085uD+viIMQ4BI\n",
       "9BRWGkE7ahIigireYd/suY/RWOTm3toVAjfsdNFuHoimIb/t6mvr+3D3fjEDTLOSzPRA3MVVCytM\n",
       "Lbm93UIIZBmQuxffKxh4OmYVUuRKGcTYkqddgAAAAJpBm3hJqEFsmUwIJ//+tSqAvD6FQAK4N7sf\n",
       "HSrWOTZE/M3VofXzQCqoBXQkMayc6cE1aHzuoUAIJpa0UOgVE1dqnKu8/eRIk8Y6OKTtjEVwNz2Z\n",
       "NMGgzR25RPTyC/mYBqmA6/afuKD5ORa2xchmu/Vbr8v1YFgsh2BFWvLxnSBVKgLiDVr95Ifsc84U\n",
       "He76mX/TqqubY7ZfJj6hAAAAw0GflkUVLBD/AEhWl4A3ZA8AG1XatVlzLBmvgVViaC4inTrLO3F+\n",
       "W9gGyAHIyx3YVfJGYJX8064on92Kj04YJRFJQVecryaxoOkQFfj9jBRSU2GS2DN3l/lduk3SSBiN\n",
       "AuiikKanC376aviZU0AxeMtDvQi6awk9N9e08CoB5fTBBTZZodWoDzLUbBk6Ei5F/BsDYBPpuUOw\n",
       "oM5sLU0Voo8Y8gK5d6s395DIUkFXzC8W8jieg1BNPviAnzgLoke2ImHEfAAAAI4Bn7V0Q/8Aj9y6\n",
       "ZnKgoSwAbVdcw4IFk9Hx41H691yV0PMZxVi9uuYjOQ+7zqw2uSAu0p3ECyqvf+kg+kqyQw9L4XCq\n",
       "gzjrpDFzczEQDNPHKHdp4ppiGTOf0a4kyOZahCK3CoeZ5zO8mDcos5LC2r1Oimw0WwbhZC6jbUfF\n",
       "+RM5xSQf19i9MkMC4PdY8+ohAAAAWQGft2pD/wCQA3TJW6SR9YAQp8cGw7UhLNgvBewivA/AiyCH\n",
       "abeowBVPntnysbt9oIow4o6TzGL4nUMsxm+/cni+mXXw+PdPVeXWYBqkIgOuPtQIg96+RCXPAAAB\n",
       "HEGbvEmoQWyZTAgn//61KoC8PoVAArg3ux8dKtY5NkT8igLYLUSf+GfMlF4j7sNfQ8jCBcC5TUFR\n",
       "CT6pqQ7jVJy7tEwz/zUc4FonqkNi8+Ypv7MzW3o4K62QHHgswspxL7FiRquAsue00YwKdMNsg8A+\n",
       "emF4lj9Sth/I9a02RSCY4KrSEugWn2fdSzpiCQnWC44EwwLjyJgZH8pCXX0TPHQs2DkSB9WVgXGa\n",
       "7D2Mtzvb9ahMLqYe1U9hLwr6hlZ0YgnNJecXtrdpbhK7JrQ0b2mDxdxXhMWvIUAfOaiTOVq0Y0Bk\n",
       "3vh9pj8b2Fpaj8CVoTYER8t9cu0fzl2Ibni4b5jh1+YO8P+0gz7wHQF5bEar5vMohcWLQcRvAsDc\n",
       "AAAAzEGf2kUVLBD/AEhWl3+ZD7n5NRnlgAGz4P8OS2SuBSPV3M7BAG5HwVsL5ROr/1mKDg/YMe9C\n",
       "iVd+Xwvcry5DnEunZ6aHiQGM0CT5vcuuXtKocBECeRp46i/pb5MUiOXDFMdauy/27HW/2w2z4QJP\n",
       "ogMsWs7tEdBAmi1+O3B8udLV6LpnME6xCFpylPU1jr8mXm9mWyUr8yevesf9Vf/4zb7ETI7mOe57\n",
       "MHbiHHCO5l8f1OWTcL0GjYZnQXEYfGW4tYmAmtvjeiNRSjMw0QAAAIIBn/l0Q/8Aj9yTCOqI9+ub\n",
       "QAbQZcv/nuy7U4CjhykiMmCWb6a8s4hELOHYGN25fTnDxgxh4TxwD1abGc9cfu28pBOboHDJ3mGu\n",
       "vcAy/Ra20uXryMaNCjZ40FhrNZ8BqovkeI3Cotf4a09y8euS6oEkOHb2KLjN/2YXf4u0KiHDVnRr\n",
       "AAAAmwGf+2pD/wCQA3X2BoAIg+RH4S3rBlzKglRQo3l27kmFisWKdwZNwDFn3QM9CAJgjft3byvh\n",
       "hoze7iAFADW74+LX5Tdn7Fu5/qC/TvIC/ZGWZTG1PHTfrVSp/hoGkechV2qJciM5NHJeW46D+fcP\n",
       "ED0kV5Ep8g7b0KY8eGZK3EM9jmtRoL4Vofv90TOJvo760/AtdLRNnbGijGVBAAAAtkGb4EmoQWyZ\n",
       "TAgn//61KoC8PAm5cACs1vo1c6G1xQ9+Snc8ZIL51ZOLz0cn9z7SeCMPH6sneb3LMnyMEUPjuSpV\n",
       "Q6FlUHec2Mw5eIlWcJo5M7Ci9RLT/u+thx/t/5ReGhf27GD1wsIw0XWI//JN21a0m9YASLCP/iNo\n",
       "2uSoj359cc9fSvev6lsHFe9QBj7s32PwlH+zbLfP1RkO346Ilo0TxfeA6AvLYf9e95KHi084UHe7\n",
       "2VSBAAAAckGeHkUVLBD/AEg87vJuKJgAG0AopKZhAiU9XZFca8N6+lk+jeIeYPIMqJhNhJoEbg8j\n",
       "e1eKRIS2k/adVlvV5FtGb8jSg6Au/b7xZgWMX2a1GZMXDtJqot8BOpucFOVGpD4pZoYV8gt6dA4R\n",
       "qcz+K79X5QAAAI8Bnj10Q/8Aj9yZhAJP8WaoAIU+QzlqtwmlNWcT/9vE1XvkOBeLHX31EGgWRvKW\n",
       "kDEONVypcAG8a1C64JMbDtj8FMuMKhOBp8c0Wnqwm41jdMMsX/GYnPs+PRSSI09uQKJwJyGiCfFG\n",
       "1PKFlevfWlo6odA9aPUOpjvwQxKhGEGCHoznoduCz/RV8XmNsZpSQAAAAJMBnj9qQ/8AkAN2VqwA\n",
       "hT5EFSPhzWFs3kfQ0+bWIakw2HmA5AriffdlNQPECiZ37RfbnGQG+f494rTN/jPW5U5SHknmH794\n",
       "ftHB4Sb085+1T/uM9osrYcIlth8Lb+30f+xhLpo11KWDFI91caEnOU1tPb9DnlYSM6XxU7dbGUBc\n",
       "qqEAnWI+vMNETg8J2wYbwd4IqZUAAADBQZohSahBbJlMCCf//rUqgKPZhQAKzW+jVz2xCvcSbvXi\n",
       "CcmJUusPU2nxJuJJOcxcbybQzXWrK8CKOqs11abAASaPVxD93nKXF4C80ZmW5OFxBthqb+6tfue1\n",
       "1MR52sNjF6scRGAIXJ6W9BrR5EU/+85PUMHKw8AJ605sYcLjbIBi8VVt29Otj0b6XrVhYovaA3A2\n",
       "bxQ5kuBwovCKmxG4WRrRxOvQ3d/5fF969aetv09aRgOgPzNromUIcL/afJp1YAAAAJZBmkVJ4QpS\n",
       "ZTAgn//+tSqAj4UuQAcdSzOcsX7vbcr0INlDjLHIAObMriUGtPKeUKI0gQ39oxuU++JtPa9SxMUU\n",
       "PPo6kw0sz30LPZ2iaaqcvFViQlfRgXYJA1Gk+CY4tQhv0Ns6hv2Ni2xMU/xJZa8gfNd45Aobupl3\n",
       "j4QLJoCz/LnaJKTnRKOoB0lembMlz8AYvEPqQb0AAABJQZ5jRTRMEP8AQGud6joAABtV5VFFS2bV\n",
       "MsBCCnDnyZWh7viVYMYvgrNAgzvoDFonS2clsPlMjWfioQDA4Alv29CBYLXO+X8CqgAAAKoBnoJ0\n",
       "Q/8AlweBuoZWInaMyC9cYAIgUq7mlddhnL9IFwPW7RuHDcVuJo7LK4N+a+EHVHa5zfxO5p3nckwB\n",
       "XXC1kM1cTSvYc1lOW15/HS28AgCBfp8BB7pMVF8UExg6El6T8tKgROXA1u0LxOttiGbX4eX7+urX\n",
       "KvYLX6BA4hbs7KRlReNc1avPDO1udIKHpuh8oeOIrJGZ/9ktdombd7+HhM+GIGm5ke5awQAAAHAB\n",
       "noRqQ/8Ag9ngAhT5EFSIkpjxOkIoafOhu/tLIaxZXkCuJZ8d/d0UhckRyIr8A13r13yeBU3fqUzu\n",
       "mPFqKDOT4wPll37GAPn3F/LrmBZaM5Le69CVYbHAxRk4IVQkTDRqBUWxjkLiLFhYsa8+wietAAAA\n",
       "qkGaiEmoQWiZTAgn//61KoCPY9iwAtnoBL7yU5iS81z0BhvAZ9qCUazOs+X+2hzPIXGn2uEihqLD\n",
       "PgGOZWAajU6mJl+XgrvvQV+x+Xs9UlznObVH4IMiVNvh8Ce2whaxtLlg2nXvoV3Rr2IQeL6pnLLK\n",
       "0yf3PM9/7Q7pEC1j93dubxK8tjsgmExxxJHLYj9bFekvxhXArd85Fc5PwAdJXpmzJc/AGMtT48G9\n",
       "AAAAREGepkURLBD/AEC2xUy5AAADAbVcKeSlC26Xjd0oZx/8zjKMC1y4FbTsYWsT/Hubfpl/Ber4\n",
       "yuWv7ehArqRwvmhbIKL9AAAAiQGex2pD/wCW4aGmQpgUtI0C9KADaeOdZIVNhnL8LJQVTJursRF1\n",
       "oQ5AGweJF1T34W9dp7lMrYtvk3oBztOolRco4l+qfkPXoR0Real3yRAG4fWqwSYzYUCvRhC5fbST\n",
       "CVARTdn9zREztpcXYutrlhABO2YFMxl/PYOEPcmFKiD7+YKivE1r6PfcAAAAzEGazEmoQWyZTAgl\n",
       "//61KoC8t5IIS4XgdanAAQp30bg+kWvg7k1derP3Z5B96uXw+aWTrqTUnLAMtXwFmzeSvHkEUf5B\n",
       "df+FBdG8sVCiQQ81sh9yM37CGdL88/4qjAdFLFK07V0ujOINN+Haqnc6kyZMFmwymHcNE0T6eSk3\n",
       "u5AHzuqHtJyPEiajbzX05d1EqKPUxW4w0xgoQXkEyMBV8YIlAzkajKZUu9Gqa8PY0P2jIaq7csW3\n",
       "GCnz2h5gRasf+fCh/Yw5v9kqrj2OUAAAAGhBnupFFSwQ/wBIS9Y0PYHagc4huEAA2q8zoBHoRFvD\n",
       "njNfsbsCH0h0X2lrr65zHFRdI02wCPaemEo+yqvXRDQesWuLuFJxIdEvxg9g9awMy6K9olJj/4UV\n",
       "lDfng0qIPup+bq75zqIxIQAAAMkBnwl0Q/8AlvXqQ5NCXpumACIPkSu3Jiy7bL9zxp2c4knQ//17\n",
       "VBcTNwhTalEc4G/UIp9W2Kn/s6x4zXWwTKqDpwAAxefbypbMk9g5E8B3BWm1OYThmiZky30Nr6A6\n",
       "suR8aLKjj4Jjxkxz/mDe76/wNwbXb8F1aaaVGwHSyDoSpGqEG4VWe3hqVUrmP8PU+LXZC9Vg+owE\n",
       "Sn5FgZrOBf78SrE7tJAEXLEk1k7udHhoFMduVWuOe3wJvjsJN5XhBApaTYuFlG6owekAAABvAZ8L\n",
       "akP/AJbo0g3bZxh0gAhRSrzwfqeSC7Lj99poz6IDihMLVB33pQFJBbSUa4+vBO80QbbNUaYxH70C\n",
       "/InaRVt8adNKwEJdTDY4q1JmM2WHziER4oUZQhW3pf271Sog+8Ww4bx9HnGdJygIbyZIAAAAnkGb\n",
       "EEmoQWyZTAh///6plgUgziIjC8AE1fHl4ZD93rNFKHjD1M0rC97v+WMpK2BAmt5g+TxxjctcFh0I\n",
       "KUsMKyDdvzXPQYGjhgaYS5pxxs8WZUTG0zUDPYG67OdQfFY9U7pnH7Y5VABM6IN+pm1cbH5xyPb/\n",
       "8uzPAcWXa4LFfUNiGqFJDvbL1RSxb46S8zwUYgKhK7WuLtng7eI8rxuBAAAAy0GfLkUVLBD/AEg8\n",
       "6ZOxyQyVPPQR5gBCnz3lEU2Ja/BvYC/G6txmmNV9eeae6mXUGmC+j7r6fbou6ArZ18ug7JkWKKBz\n",
       "vQeJeI3M0WJex6BCw82YpJ3SyVHPOeHlylZXOy/rTWgICmX9MDbZuaeESQpw19J8buhu4l4uif1I\n",
       "QfbmIxorIqEGVmOe5U9e2W7X/uyzTDat7PBPYt/QALigCWU2yeOKjVnXF0tRk6HuunKaksACCN6G\n",
       "ikQdlwktVC71ZfLO+HbLcguWbBWJAAAAhAGfTXRD/wCW3JMZ4U6raJFQ1gBCnyJOtRHi0Fi49Z0n\n",
       "bogeAQCO8ZfquW34UuqdiAqt2PZMuM0wVEMf5G8s1HR40HmVH7PILNPWzi8OdeC6mMdyk6Fw41NJ\n",
       "2eIPU5i8bJmzC6Ac0UADvA/4pt/LHNTn8ilkI9+36NtikQh0pCzS0RzpQQAAAL4Bn09qQ/8Ag9ng\n",
       "AhT48R8LI8DR4osSF6ejus6d3i250uycYtbZNLgqWZh1UlGvnhwnHOT3vWPD7xxkIbrX29llAEOw\n",
       "JEvxh//XkcRemRX5XKC+TRPjOWedZdQoIP1NpB7NF2MCpT1HUuf+txoLRHd2lX5vz5hKwAYZ5xcv\n",
       "4ZdpP8pQdu1XPxla2sCzcS5OJ/aUNiT1VPDsz+4JnTFNLzc+j+3u/3vgGtXOZwo8JIjKkTIr3SMK\n",
       "XQHWTK0JB6eAAAAFcm1vb3YAAABsbXZoZAAAAAAAAAAAAAAAAAAAA+gAACZIAAEAAAEAAAAAAAAA\n",
       "AAAAAAABAAAAAAAAAAAAAAAAAAAAAQAAAAAAAAAAAAAAAAAAQAAAAAAAAAAAAAAAAAAAAAAAAAAA\n",
       "AAAAAAAAAAAAAAIAAAScdHJhawAAAFx0a2hkAAAAAwAAAAAAAAAAAAAAAQAAAAAAACZIAAAAAAAA\n",
       "AAAAAAAAAAAAAAABAAAAAAAAAAAAAAAAAAAAAQAAAAAAAAAAAAAAAAAAQAAAAAGwAAABIAAAAAAA\n",
       "JGVkdHMAAAAcZWxzdAAAAAAAAAABAAAmSAAAEAAAAQAAAAAEFG1kaWEAAAAgbWRoZAAAAAAAAAAA\n",
       "AAAAAAAAKAAAAYgAVcQAAAAAAC1oZGxyAAAAAAAAAAB2aWRlAAAAAAAAAAAAAAAAVmlkZW9IYW5k\n",
       "bGVyAAAAA79taW5mAAAAFHZtaGQAAAABAAAAAAAAAAAAAAAkZGluZgAAABxkcmVmAAAAAAAAAAEA\n",
       "AAAMdXJsIAAAAAEAAAN/c3RibAAAALNzdHNkAAAAAAAAAAEAAACjYXZjMQAAAAAAAAABAAAAAAAA\n",
       "AAAAAAAAAAAAAAGwASAASAAAAEgAAAAAAAAAAQAAAAAAAAAAAAAAAAAAAAAAAAAAAAAAAAAAAAAA\n",
       "AAAAABj//wAAADFhdmNDAWQAFf/hABhnZAAVrNlBsJaEAAADAAQAAAMAKDxYtlgBAAZo6+PLIsAA\n",
       "AAAcdXVpZGtoQPJfJE/FujmlG88DI/MAAAAAAAAAGHN0dHMAAAAAAAAAAQAAADEAAAgAAAAAFHN0\n",
       "c3MAAAAAAAAAAQAAAAEAAAGQY3R0cwAAAAAAAAAwAAAAAQAAEAAAAAABAAAoAAAAAAEAABAAAAAA\n",
       "AQAAAAAAAAABAAAIAAAAAAEAACgAAAAAAQAAEAAAAAABAAAAAAAAAAEAAAgAAAAAAQAAKAAAAAAB\n",
       "AAAQAAAAAAEAAAAAAAAAAQAACAAAAAABAAAoAAAAAAEAABAAAAAAAQAAAAAAAAABAAAIAAAAAAEA\n",
       "ACgAAAAAAQAAEAAAAAABAAAAAAAAAAEAAAgAAAAAAQAAKAAAAAABAAAQAAAAAAEAAAAAAAAAAQAA\n",
       "CAAAAAABAAAoAAAAAAEAABAAAAAAAQAAAAAAAAABAAAIAAAAAAEAACgAAAAAAQAAEAAAAAABAAAA\n",
       "AAAAAAEAAAgAAAAAAQAAEAAAAAABAAAoAAAAAAEAABAAAAAAAQAAAAAAAAABAAAIAAAAAAEAACAA\n",
       "AAAAAgAACAAAAAABAAAoAAAAAAEAABAAAAAAAQAAAAAAAAABAAAIAAAAAAEAACgAAAAAAQAAEAAA\n",
       "AAABAAAAAAAAAAEAAAgAAAAAHHN0c2MAAAAAAAAAAQAAAAEAAAAxAAAAAQAAANhzdHN6AAAAAAAA\n",
       "AAAAAAAxAAAU3wAAAqYAAADiAAAA4QAAAJkAAAGFAAAAsAAAAIcAAACMAAABVgAAAJYAAACTAAAA\n",
       "pAAAAP0AAACmAAAAnAAAAIIAAAFDAAAAtgAAAKQAAACSAAAAngAAAMcAAACSAAAAXQAAASAAAADQ\n",
       "AAAAhgAAAJ8AAAC6AAAAdgAAAJMAAACXAAAAxQAAAJoAAABNAAAArgAAAHQAAACuAAAASAAAAI0A\n",
       "AADQAAAAbAAAAM0AAABzAAAAogAAAM8AAACIAAAAwgAAABRzdGNvAAAAAAAAAAEAAAAsAAAAYnVk\n",
       "dGEAAABabWV0YQAAAAAAAAAhaGRscgAAAAAAAAAAbWRpcmFwcGwAAAAAAAAAAAAAAAAtaWxzdAAA\n",
       "ACWpdG9vAAAAHWRhdGEAAAABAAAAAExhdmY1Ny44My4xMDA=\n",
       "\">\n",
       "  Your browser does not support the video tag.\n",
       "</video>"
      ],
      "text/plain": [
       "<IPython.core.display.HTML object>"
      ]
     },
     "execution_count": 19,
     "metadata": {},
     "output_type": "execute_result"
    }
   ],
   "source": [
    "from IPython.display import HTML\n",
    "anim, ax = filtered_spikes.firing_animation()\n",
    "plt.close() # need this to avoid the first frame to appear in a notebook\n",
    "HTML(anim.to_html5_video())"
   ]
  },
  {
   "cell_type": "markdown",
   "metadata": {},
   "source": [
    "### Voltage traces"
   ]
  },
  {
   "cell_type": "markdown",
   "metadata": {},
   "source": [
    "Show the different available reports for this simulation"
   ]
  },
  {
   "cell_type": "code",
   "execution_count": 20,
   "metadata": {},
   "outputs": [
    {
     "name": "stdout",
     "output_type": "stream",
     "text": [
      "{'soma': <bluepysnap.frame_report.SomaReport object at 0x7fab12c15358>}\n"
     ]
    }
   ],
   "source": [
    "print(sim.reports)"
   ]
  },
  {
   "cell_type": "markdown",
   "metadata": {},
   "source": [
    "Reports can be massive we select just few node_ids"
   ]
  },
  {
   "cell_type": "code",
   "execution_count": 21,
   "metadata": {},
   "outputs": [],
   "source": [
    "hippocampus_soma_report = sim.reports[\"soma\"][\"hippocampus_neurons\"]\n",
    "node_ids = hippocampus_soma_report.nodes.ids(group={Cell.MTYPE: 'SP_PC', 'region': {'$regex': \"mc2.*\"}}, sample=15)"
   ]
  },
  {
   "cell_type": "code",
   "execution_count": 22,
   "metadata": {},
   "outputs": [
    {
     "data": {
      "text/html": [
       "<div>\n",
       "<style scoped>\n",
       "    .dataframe tbody tr th:only-of-type {\n",
       "        vertical-align: middle;\n",
       "    }\n",
       "\n",
       "    .dataframe tbody tr th {\n",
       "        vertical-align: top;\n",
       "    }\n",
       "\n",
       "    .dataframe thead tr th {\n",
       "        text-align: left;\n",
       "    }\n",
       "</style>\n",
       "<table border=\"1\" class=\"dataframe\">\n",
       "  <thead>\n",
       "    <tr>\n",
       "      <th></th>\n",
       "      <th colspan=\"15\" halign=\"left\">hippocampus_neurons</th>\n",
       "    </tr>\n",
       "    <tr>\n",
       "      <th></th>\n",
       "      <th>1425</th>\n",
       "      <th>2018</th>\n",
       "      <th>2651</th>\n",
       "      <th>2691</th>\n",
       "      <th>2792</th>\n",
       "      <th>3246</th>\n",
       "      <th>7226</th>\n",
       "      <th>7832</th>\n",
       "      <th>8842</th>\n",
       "      <th>9703</th>\n",
       "      <th>11723</th>\n",
       "      <th>12603</th>\n",
       "      <th>14199</th>\n",
       "      <th>15433</th>\n",
       "      <th>15876</th>\n",
       "    </tr>\n",
       "  </thead>\n",
       "  <tbody>\n",
       "    <tr>\n",
       "      <th>0.0</th>\n",
       "      <td>-62.779068</td>\n",
       "      <td>-66.994247</td>\n",
       "      <td>-54.382168</td>\n",
       "      <td>-77.222092</td>\n",
       "      <td>-61.451450</td>\n",
       "      <td>-65.128777</td>\n",
       "      <td>-61.962456</td>\n",
       "      <td>-62.602131</td>\n",
       "      <td>-60.831055</td>\n",
       "      <td>-73.720428</td>\n",
       "      <td>-66.861290</td>\n",
       "      <td>-77.354637</td>\n",
       "      <td>-59.354317</td>\n",
       "      <td>-60.937431</td>\n",
       "      <td>-60.641525</td>\n",
       "    </tr>\n",
       "    <tr>\n",
       "      <th>0.1</th>\n",
       "      <td>-63.035767</td>\n",
       "      <td>-67.061569</td>\n",
       "      <td>-55.633877</td>\n",
       "      <td>-77.050896</td>\n",
       "      <td>-62.075581</td>\n",
       "      <td>-65.488297</td>\n",
       "      <td>-62.301598</td>\n",
       "      <td>-62.939449</td>\n",
       "      <td>-61.289509</td>\n",
       "      <td>-73.643250</td>\n",
       "      <td>-66.933029</td>\n",
       "      <td>-77.147064</td>\n",
       "      <td>-60.148502</td>\n",
       "      <td>-61.321819</td>\n",
       "      <td>-60.882359</td>\n",
       "    </tr>\n",
       "    <tr>\n",
       "      <th>0.2</th>\n",
       "      <td>-63.216911</td>\n",
       "      <td>-67.110435</td>\n",
       "      <td>-56.412426</td>\n",
       "      <td>-76.906517</td>\n",
       "      <td>-62.453476</td>\n",
       "      <td>-65.718880</td>\n",
       "      <td>-62.530136</td>\n",
       "      <td>-63.174847</td>\n",
       "      <td>-61.594269</td>\n",
       "      <td>-73.579086</td>\n",
       "      <td>-66.985886</td>\n",
       "      <td>-76.979980</td>\n",
       "      <td>-60.690041</td>\n",
       "      <td>-61.594395</td>\n",
       "      <td>-61.047054</td>\n",
       "    </tr>\n",
       "    <tr>\n",
       "      <th>0.3</th>\n",
       "      <td>-63.362251</td>\n",
       "      <td>-67.151474</td>\n",
       "      <td>-56.968491</td>\n",
       "      <td>-76.773468</td>\n",
       "      <td>-62.745979</td>\n",
       "      <td>-65.899834</td>\n",
       "      <td>-62.712723</td>\n",
       "      <td>-63.360405</td>\n",
       "      <td>-61.837425</td>\n",
       "      <td>-73.521553</td>\n",
       "      <td>-67.030502</td>\n",
       "      <td>-76.831261</td>\n",
       "      <td>-61.101376</td>\n",
       "      <td>-61.812958</td>\n",
       "      <td>-61.186375</td>\n",
       "    </tr>\n",
       "    <tr>\n",
       "      <th>0.4</th>\n",
       "      <td>-63.489216</td>\n",
       "      <td>-67.188530</td>\n",
       "      <td>-57.403088</td>\n",
       "      <td>-76.644501</td>\n",
       "      <td>-62.996056</td>\n",
       "      <td>-66.054138</td>\n",
       "      <td>-62.874226</td>\n",
       "      <td>-63.520721</td>\n",
       "      <td>-62.046902</td>\n",
       "      <td>-73.467102</td>\n",
       "      <td>-67.070824</td>\n",
       "      <td>-76.690369</td>\n",
       "      <td>-61.442505</td>\n",
       "      <td>-62.003178</td>\n",
       "      <td>-61.315132</td>\n",
       "    </tr>\n",
       "  </tbody>\n",
       "</table>\n",
       "</div>"
      ],
      "text/plain": [
       "    hippocampus_neurons                                              \\\n",
       "                  1425       2018       2651       2691       2792    \n",
       "0.0          -62.779068 -66.994247 -54.382168 -77.222092 -61.451450   \n",
       "0.1          -63.035767 -67.061569 -55.633877 -77.050896 -62.075581   \n",
       "0.2          -63.216911 -67.110435 -56.412426 -76.906517 -62.453476   \n",
       "0.3          -63.362251 -67.151474 -56.968491 -76.773468 -62.745979   \n",
       "0.4          -63.489216 -67.188530 -57.403088 -76.644501 -62.996056   \n",
       "\n",
       "                                                                       \\\n",
       "         3246       7226       7832       8842       9703       11723   \n",
       "0.0 -65.128777 -61.962456 -62.602131 -60.831055 -73.720428 -66.861290   \n",
       "0.1 -65.488297 -62.301598 -62.939449 -61.289509 -73.643250 -66.933029   \n",
       "0.2 -65.718880 -62.530136 -63.174847 -61.594269 -73.579086 -66.985886   \n",
       "0.3 -65.899834 -62.712723 -63.360405 -61.837425 -73.521553 -67.030502   \n",
       "0.4 -66.054138 -62.874226 -63.520721 -62.046902 -73.467102 -67.070824   \n",
       "\n",
       "                                                 \n",
       "         12603      14199      15433      15876  \n",
       "0.0 -77.354637 -59.354317 -60.937431 -60.641525  \n",
       "0.1 -77.147064 -60.148502 -61.321819 -60.882359  \n",
       "0.2 -76.979980 -60.690041 -61.594395 -61.047054  \n",
       "0.3 -76.831261 -61.101376 -61.812958 -61.186375  \n",
       "0.4 -76.690369 -61.442505 -62.003178 -61.315132  "
      ]
     },
     "execution_count": 22,
     "metadata": {},
     "output_type": "execute_result"
    }
   ],
   "source": [
    "filtered_report_soma = sim.reports[\"soma\"].filter(group=node_ids)\n",
    "filtered_report_soma.report.head()"
   ]
  },
  {
   "cell_type": "markdown",
   "metadata": {},
   "source": [
    "Plot traces from selected cells"
   ]
  },
  {
   "cell_type": "code",
   "execution_count": 23,
   "metadata": {},
   "outputs": [],
   "source": [
    "def multi_traces(nids):\n",
    "    '''\n",
    "    Function to plot multiple voltage traces given the ids of the nodes\n",
    "    '''\n",
    "    etypes = hippocampus_soma_report.nodes.get(node_ids, Cell.ETYPE)\n",
    "    fig, axs = plt.subplots(nrows=len(nids), sharex=True, sharey=False, figsize=(6, 1.5 * len(nids)))\n",
    "    for ax, node_id, etype in zip(axs, nids, etypes):\n",
    "        ax.ticklabel_format(useOffset=False, style='plain')\n",
    "        ax.set_ylabel(\"%d\\n%s\" % (node_id, etype))\n",
    "        cdata = filtered_report_soma.report.loc[:, (\"hippocampus_neurons\", node_id)]\n",
    "        ax.plot(np.array(cdata.index), cdata.values)\n",
    "        ax.yaxis.set_label_position(\"right\")\n",
    "        ax.set_ylabel(\"a%d\\n%s\" % (node_id, etype))\n",
    "        ax.grid()\n",
    "    axs[-1].set_xlabel('Time [ms]')\n",
    "    fig.text(0.02, 0.5, 'Voltage [mV]', va='center', rotation='vertical')"
   ]
  },
  {
   "cell_type": "code",
   "execution_count": 24,
   "metadata": {},
   "outputs": [
    {
     "data": {
      "image/png": "[encoded data removed]",
      "text/plain": [
       "<Figure size 432x540 with 5 Axes>"
      ]
     },
     "metadata": {
      "needs_background": "light"
     },
     "output_type": "display_data"
    }
   ],
   "source": [
    "multi_traces(node_ids[:5])"
   ]
  },
  {
   "cell_type": "markdown",
   "metadata": {},
   "source": [
    "Plot all traces"
   ]
  },
  {
   "cell_type": "code",
   "execution_count": 25,
   "metadata": {},
   "outputs": [
    {
     "data": {
      "image/png": "[encoded data removed]",
      "text/plain": [
       "<Figure size 432x288 with 1 Axes>"
      ]
     },
     "metadata": {
      "needs_background": "light"
     },
     "output_type": "display_data"
    }
   ],
   "source": [
    "filtered_report_soma.trace(plot_type=\"all\") ;"
   ]
  },
  {
   "cell_type": "markdown",
   "metadata": {},
   "source": [
    "Plot an average trace"
   ]
  },
  {
   "cell_type": "code",
   "execution_count": 26,
   "metadata": {},
   "outputs": [
    {
     "data": {
      "image/png": "[encoded data removed]",
      "text/plain": [
       "<Figure size 432x288 with 1 Axes>"
      ]
     },
     "metadata": {
      "needs_background": "light"
     },
     "output_type": "display_data"
    }
   ],
   "source": [
    "# sample traces mean\n",
    "filtered_report_soma.trace(plot_type=\"mean\") ;"
   ]
  },
  {
   "cell_type": "markdown",
   "metadata": {},
   "source": [
    "### Exercise #1\n",
    "\n",
    "The analyses and plots before include the initial transient, an artifact of the simulation that is due to initial default values of the variables. The initial transient appears as an initial burst of activity at the network level. Replicate all the analyses and plots above excluding the initial transient, that we can consider to last for the first 200 ms. Calculate the mean and std of the mean firing frequency distributions of the cells of the central column. Put the answer in a list called _ans_1_."
   ]
  },
  {
   "cell_type": "code",
   "execution_count": null,
   "metadata": {},
   "outputs": [],
   "source": [
    "# This is to generate the answers to paste in the submission box below.\n",
    "# After you defined the variables with your answers, run this cell and the next cell, and copy-paste the output into the box below\n",
    "print(json.dumps(dict([(\"ans_1\", ans_1)])))"
   ]
  },
  {
   "cell_type": "code",
   "execution_count": null,
   "metadata": {},
   "outputs": [],
   "source": [
    "!pip -q install -i https://bbpteam.epfl.ch/repository/devpi/simple/ single-cell-mooc-client==0.0.5 \n",
    "import single_cell_mooc_client as sc_mc\n",
    "s = sc_mc.Submission(hideToken=True)"
   ]
  },
  {
   "cell_type": "code",
   "execution_count": null,
   "metadata": {},
   "outputs": [],
   "source": [
    "s.show_submission(ROLLBACK, TOKEN)"
   ]
  }
 ],
 "metadata": {
  "kernelspec": {
   "display_name": "Python 3",
   "language": "python",
   "name": "python3"
  },
  "language_info": {
   "codemirror_mode": {
    "name": "ipython",
    "version": 3
   },
   "file_extension": ".py",
   "mimetype": "text/x-python",
   "name": "python",
   "nbconvert_exporter": "python",
   "pygments_lexer": "ipython3",
   "version": "3.6.9"
  }
 },
 "nbformat": 4,
 "nbformat_minor": 4
}
