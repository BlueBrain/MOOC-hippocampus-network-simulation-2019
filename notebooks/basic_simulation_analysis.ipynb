{
 "cells": [
  {
   "cell_type": "code",
   "execution_count": null,
   "metadata": {},
   "outputs": [],
   "source": [
    "from bluepy.v2.simulation import Simulation"
   ]
  },
  {
   "cell_type": "code",
   "execution_count": null,
   "metadata": {},
   "outputs": [],
   "source": [
    "path = '/home/data-bbp/20191017/simulations/activate_minis/BlueConfig'"
   ]
  },
  {
   "cell_type": "code",
   "execution_count": null,
   "metadata": {},
   "outputs": [],
   "source": [
    "sim = Simulation(path)"
   ]
  },
  {
   "cell_type": "code",
   "execution_count": null,
   "metadata": {},
   "outputs": [],
   "source": [
    "gids = sim.circuit.cells.ids(group={Cell.MTYPE: 'SP_BS', '$target': 'mc2_Column'})"
   ]
  },
  {
   "cell_type": "code",
   "execution_count": null,
   "metadata": {},
   "outputs": [],
   "source": [
    "# raster\n",
    "sim.plot.raster(gids, t_start=sim.t_start, t_end=sim.t_end, sample=None)"
   ]
  },
  {
   "cell_type": "code",
   "execution_count": null,
   "metadata": {},
   "outputs": [],
   "source": [
    "# PSTH\n",
    "sim.plot.firing_rate_histogram(gids, t_start=sim.t_start, t_end=sim.t_end, sample=None)"
   ]
  },
  {
   "cell_type": "code",
   "execution_count": null,
   "metadata": {},
   "outputs": [],
   "source": [
    "# ISI distribution\n",
    "sim.plot.isi(gids, t_start=sim.t_start, t_end=sim.t_end, sample=None)"
   ]
  },
  {
   "cell_type": "code",
   "execution_count": null,
   "metadata": {},
   "outputs": [],
   "source": [
    "# mean frequency distribution"
   ]
  },
  {
   "cell_type": "code",
   "execution_count": null,
   "metadata": {},
   "outputs": [],
   "source": [
    "def get_spike_frequency(gid, t_start, t_end):\n",
    "    table = sim.spikes.get(gids=[gid], t_start=t_start, t_end=t_end)\n",
    "    if (t_end-t_start) == 0:\n",
    "        return 0\n",
    "    return len(table)*1000.0/(t_end-t_start)\n",
    "\n",
    "def plot_spike_frequency(gids, t_start, t_end, ax=None):\n",
    "    \n",
    "    freqs = np.array([get_spike_frequency(gid, t_start, t_end) for gid in gids])\n",
    "    \n",
    "    if ax is None:\n",
    "        ax = _plt.gca()\n",
    "        ax.set_xlabel('Frequency [Hz]')\n",
    "        ax.set_ylabel('# neurons')\n",
    "\n",
    "    fig = plt.gcf()\n",
    "    \n",
    "    ax.hist(freqs)\n",
    "    ax.axvline(x=freqs.mean(), color='red')\n",
    "    text = str(freqs.mean())\n",
    "    fig.text(0.5,0.15, text, color='red', fontsize=12)\n",
    "    \n",
    "    return ax"
   ]
  },
  {
   "cell_type": "code",
   "execution_count": null,
   "metadata": {},
   "outputs": [],
   "source": [
    "plot_spike_frequency(gids, t_start=t_start, t_end=t_end)"
   ]
  },
  {
   "cell_type": "code",
   "execution_count": null,
   "metadata": {},
   "outputs": [],
   "source": [
    "# sample traces\n",
    "fig, ax = sim.plot.voltage_collage('soma', gids[:5])"
   ]
  },
  {
   "cell_type": "code",
   "execution_count": null,
   "metadata": {},
   "outputs": [],
   "source": [
    "# video\n",
    "anim, ax = sim.plot.firing_animation(x_axis=Cell.X, y_axis=Cell.Z, sample=None,\n",
    "                                     t_start=sim.t_start, t_end=sim.t_end, dt=1)\n",
    "HTML(anim.to_html5_video())\n",
    "# to save the animation : do not plt.show() and just anim.save('my_movie.mp4')\n",
    "# anim.save('video.mp4')"
   ]
  },
  {
   "cell_type": "code",
   "execution_count": null,
   "metadata": {},
   "outputs": [],
   "source": []
  }
 ],
 "metadata": {
  "kernelspec": {
   "display_name": "Python 3",
   "language": "python",
   "name": "python3"
  },
  "language_info": {
   "codemirror_mode": {
    "name": "ipython",
    "version": 3
   },
   "file_extension": ".py",
   "mimetype": "text/x-python",
   "name": "python",
   "nbconvert_exporter": "python",
   "pygments_lexer": "ipython3",
   "version": "3.6.9"
  }
 },
 "nbformat": 4,
 "nbformat_minor": 4
}
