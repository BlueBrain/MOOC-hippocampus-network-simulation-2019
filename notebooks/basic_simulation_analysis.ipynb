{
 "cells": [
  {
   "cell_type": "code",
   "execution_count": null,
   "metadata": {},
   "outputs": [],
   "source": [
    "import matplotlib.pyplot as plt\n",
    "import numpy as np\n",
    "\n",
    "from bluepysnap import Simulation\n",
    "from bluepysnap.bbp import Cell"
   ]
  },
  {
   "cell_type": "code",
   "execution_count": null,
   "metadata": {},
   "outputs": [],
   "source": [
    "# Get the simulation\n",
    "sim = Simulation(\"/gpfs/bbp.cscs.ch/project/proj42/circuits/CA1.O1/mooc-circuit/simulation_config.json\")"
   ]
  },
  {
   "cell_type": "code",
   "execution_count": null,
   "metadata": {},
   "outputs": [],
   "source": [
    "# Get the global spikes report and the specific hippocampus one\n",
    "spikes = sim.spikes\n",
    "hippocampus_spikes = spikes[\"hippocampus_neurons\"]"
   ]
  },
  {
   "cell_type": "code",
   "execution_count": null,
   "metadata": {},
   "outputs": [],
   "source": [
    "# get the hippocampus neurons which spiked and check the properties of the spiking neurons\n",
    "hippocampus_spikes.nodes.get(group=hippocampus_spikes.node_ids).head()"
   ]
  },
  {
   "cell_type": "code",
   "execution_count": null,
   "metadata": {},
   "outputs": [],
   "source": [
    "# filter the report on SP_PC cells from the mc2 column only\n",
    "# @armando I changed SP_BS to SP_PC because there were no SP_BS spiking\n",
    "filtered_spikes = spikes.filter(group={Cell.MTYPE: 'SP_PC', 'region': {'$regex': \"mc2.*\"}})"
   ]
  },
  {
   "cell_type": "code",
   "execution_count": null,
   "metadata": {},
   "outputs": [],
   "source": [
    "filtered_spikes.report.head()"
   ]
  },
  {
   "cell_type": "code",
   "execution_count": null,
   "metadata": {},
   "outputs": [],
   "source": [
    "# Hack to remove with a better simulation\n",
    "times = filtered_spikes.report.index.values\n",
    "filtered_spikes.report.loc[times.max() + 0.15] = [3311, \"hippocampus_neurons\"]\n",
    "times = filtered_spikes.report.index.values\n",
    "filtered_spikes.report.loc[times.max() + 0.15] = [602, \"hippocampus_neurons\"]"
   ]
  },
  {
   "cell_type": "code",
   "execution_count": null,
   "metadata": {},
   "outputs": [],
   "source": [
    "# Spiking neurons and number of spikes per neurons during the simulation for the filtered cells\n",
    "node_ids, nb_spikes = np.unique(filtered_spikes.report[\"ids\"], return_counts=True)"
   ]
  },
  {
   "cell_type": "code",
   "execution_count": null,
   "metadata": {},
   "outputs": [],
   "source": [
    "# get full set of properties for neurons which spikes more than once \n",
    "hippocampus_spikes.nodes.get(group=node_ids[nb_spikes > 1])"
   ]
  },
  {
   "cell_type": "code",
   "execution_count": null,
   "metadata": {},
   "outputs": [],
   "source": [
    "# get full set of  properties for neurons which spikes only once\n",
    "hippocampus_spikes.nodes.get(group=node_ids[nb_spikes == 1]).head()"
   ]
  },
  {
   "cell_type": "code",
   "execution_count": null,
   "metadata": {},
   "outputs": [],
   "source": [
    "# raster\n",
    "filtered_spikes.raster()"
   ]
  },
  {
   "cell_type": "code",
   "execution_count": null,
   "metadata": {},
   "outputs": [],
   "source": [
    "# PSTH\n",
    "filtered_spikes.firing_rate_histogram()"
   ]
  },
  {
   "cell_type": "code",
   "execution_count": null,
   "metadata": {},
   "outputs": [],
   "source": [
    "# ISI distribution\n",
    "filtered_spikes.isi()"
   ]
  },
  {
   "cell_type": "code",
   "execution_count": null,
   "metadata": {},
   "outputs": [],
   "source": [
    "# ISI frequency distribution \n",
    "filtered_spikes.isi(use_frequency=True)"
   ]
  },
  {
   "cell_type": "code",
   "execution_count": null,
   "metadata": {},
   "outputs": [],
   "source": [
    "# get mean frequencies for each neuron from the report\n",
    "def get_mean_frequencies():\n",
    "    gb = filtered_spikes.report.groupby([\"ids\", \"population\"])\n",
    "    res = []\n",
    "    for _, node_spikes in gb:\n",
    "        time_differences = np.diff(node_spikes.index.to_numpy())\n",
    "        if len(time_differences) != 0:\n",
    "            res.append(1000/time_differences.mean())\n",
    "    return np.asarray(res)"
   ]
  },
  {
   "cell_type": "code",
   "execution_count": null,
   "metadata": {},
   "outputs": [],
   "source": [
    "def plot_spike_frequency(mean_frequencies, ax=None):\n",
    "    \n",
    "    if ax is None:\n",
    "        ax = plt.gca()\n",
    "        ax.set_xlabel('Frequency [Hz]')\n",
    "        ax.set_ylabel('# neurons')\n",
    "\n",
    "    fig = plt.gcf()\n",
    "    \n",
    "    mean = mean_frequencies.mean()\n",
    "    ax.hist(mean_frequencies)\n",
    "    ax.axvline(x=mean, color='red')\n",
    "    \n",
    "    text = f'{mean:2.8f}'\n",
    "    limits =  ax.get_xlim()\n",
    "    mean_text_pos = (limits[1] - mean)/(limits[1] - limits[0]) + 0.05\n",
    "    \n",
    "    fig.text(mean_text_pos, 0.80, text, color='red', fontsize=12)\n",
    "    \n",
    "    return ax"
   ]
  },
  {
   "cell_type": "code",
   "execution_count": null,
   "metadata": {},
   "outputs": [],
   "source": [
    "plot_spike_frequency(get_mean_frequencies())"
   ]
  },
  {
   "cell_type": "code",
   "execution_count": null,
   "metadata": {},
   "outputs": [],
   "source": [
    "from IPython.display import HTML\n",
    "anim = filtered_spikes.firing_animation()\n",
    "HTML(anim.to_html5_video())"
   ]
  },
  {
   "cell_type": "code",
   "execution_count": null,
   "metadata": {},
   "outputs": [],
   "source": [
    "# sample traces\n",
    "#fig, ax = sim.plot.voltage_collage('soma', gids[:5])"
   ]
  },
  {
   "cell_type": "code",
   "execution_count": null,
   "metadata": {},
   "outputs": [],
   "source": []
  },
  {
   "cell_type": "code",
   "execution_count": null,
   "metadata": {},
   "outputs": [],
   "source": []
  }
 ],
 "metadata": {
  "kernelspec": {
   "display_name": "Python 3",
   "language": "python",
   "name": "python3"
  },
  "language_info": {
   "codemirror_mode": {
    "name": "ipython",
    "version": 3
   },
   "file_extension": ".py",
   "mimetype": "text/x-python",
   "name": "python",
   "nbconvert_exporter": "python",
   "pygments_lexer": "ipython3",
   "version": "3.6.9"
  }
 },
 "nbformat": 4,
 "nbformat_minor": 4
}
