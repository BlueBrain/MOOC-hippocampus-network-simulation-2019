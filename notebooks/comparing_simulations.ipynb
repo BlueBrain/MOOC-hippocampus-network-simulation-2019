{
 "cells": [
  {
   "cell_type": "markdown",
   "metadata": {},
   "source": [
    "# Comparing simulations"
   ]
  },
  {
   "cell_type": "markdown",
   "metadata": {},
   "source": [
    "In this notebook you will compare different simulations, to understand how a manipulation impacts the network activity.\n",
    "\n",
    "In particular, ...\n",
    "\n",
    "---\n",
    "\n",
    "Import some python packages"
   ]
  },
  {
   "cell_type": "code",
   "execution_count": null,
   "metadata": {},
   "outputs": [],
   "source": [
    "import matplotlib.pyplot as plt\n",
    "import numpy as np\n",
    "\n",
    "# package to work with the circuit\n",
    "from bluepysnap import Simulation\n",
    "from bluepysnap.bbp import Cell"
   ]
  },
  {
   "cell_type": "code",
   "execution_count": null,
   "metadata": {},
   "outputs": [],
   "source": [
    "root = '/gpfs/bbp.cscs.ch/project/proj42/simulations/CA1.20190306/20190910s/v3/'\n",
    "\n",
    "paths = {'minis': root + 'analysis/mtype_frequency.txt',\n",
    "         'no_internal_minis': root + 'no_internal_minis/analysis/mtype_frequency.txt',\n",
    "         'no_proj_minis': root + 'no_proj_minis/analysis/mtype_frequency.txt',\n",
    "         'no_minis': root + 'no_minis/analysis/mtype_frequency.txt'}\n",
    "\n",
    "seq = ('minis', 'no_internal_minis', 'no_proj_minis', 'no_minis')"
   ]
  },
  {
   "cell_type": "code",
   "execution_count": null,
   "metadata": {},
   "outputs": [],
   "source": [
    "df = pd.DataFrame()"
   ]
  },
  {
   "cell_type": "code",
   "execution_count": null,
   "metadata": {},
   "outputs": [],
   "source": [
    "for s, i in zip(seq, range(len(seq))):\n",
    "    if i==0:\n",
    "        df = pd.read_csv(paths[s], index_col=0, usecols=[0,1], skiprows=[0], names=['', s], delimiter='\\t')\n",
    "    else:\n",
    "        _df = pd.read_csv(paths[s], index_col=0, usecols=[0,1], skiprows=[0], names=['', s], delimiter='\\t')\n",
    "        df = df.merge(_df, left_index=True, right_index=True)\n",
    "df"
   ]
  },
  {
   "cell_type": "code",
   "execution_count": null,
   "metadata": {},
   "outputs": [],
   "source": [
    "fig, ax = plt.subplots(figsize=(11.69, 8.27))\n",
    "data = df.values.T\n",
    "ax.plot(data)\n",
    "\n",
    "ax.legend(df.index.values, fontsize=16, frameon=False)\n",
    "# ax.set_xlabel('mtype')\n",
    "ax.set_ylabel('frequency (Hz)')\n",
    "# ax.set_title('Frequency')\n",
    "ax.set_xticks(range(len(seq)))\n",
    "ax.set_xticklabels(seq, rotation='vertical')\n",
    "\n",
    "ax.spines['top'].set_visible(False)\n",
    "ax.spines['right'].set_visible(False)\n",
    "\n",
    "filename = root + 'testing_minis_population.pdf'\n",
    "\n",
    "plt.savefig(filename, bbox_inches='tight')"
   ]
  },
  {
   "cell_type": "markdown",
   "metadata": {},
   "source": [
    "### Exercise #1\n",
    "\n",
    "Description."
   ]
  },
  {
   "cell_type": "code",
   "execution_count": null,
   "metadata": {},
   "outputs": [],
   "source": [
    "# This is to generate the answers to paste in the submission box below.\n",
    "# After you defined the variables with your answers, run this cell and the next cell, and copy-paste the output into the box below\n",
    "print(json.dumps(dict([(\"ans_1\", ans_1)])))"
   ]
  },
  {
   "cell_type": "code",
   "execution_count": null,
   "metadata": {},
   "outputs": [],
   "source": [
    "!pip -q install -i https://bbpteam.epfl.ch/repository/devpi/simple/ single-cell-mooc-client==0.0.5 \n",
    "import single_cell_mooc_client as sc_mc\n",
    "s = sc_mc.Submission(hideToken=True)"
   ]
  },
  {
   "cell_type": "code",
   "execution_count": null,
   "metadata": {},
   "outputs": [],
   "source": [
    "s.show_submission(ROLLBACK, TOKEN)"
   ]
  }
 ],
 "metadata": {
  "kernelspec": {
   "display_name": "Python 3",
   "language": "python",
   "name": "python3"
  },
  "language_info": {
   "codemirror_mode": {
    "name": "ipython",
    "version": 3
   },
   "file_extension": ".py",
   "mimetype": "text/x-python",
   "name": "python",
   "nbconvert_exporter": "python",
   "pygments_lexer": "ipython3",
   "version": "3.6.9"
  }
 },
 "nbformat": 4,
 "nbformat_minor": 4
}
