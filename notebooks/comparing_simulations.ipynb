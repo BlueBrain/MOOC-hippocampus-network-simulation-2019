{
 "cells": [
  {
   "cell_type": "markdown",
   "metadata": {},
   "source": [
    "# Comparing simulations"
   ]
  },
  {
   "cell_type": "markdown",
   "metadata": {},
   "source": [
    "In this notebook you will compare different simulations, to understand how a manipulation impacts the network activity.\n",
    "\n",
    "In particular, we compare 4 different simulations:\n",
    "1. all minis activated (\"minis\")\n",
    "2. disable minis from internal synapses and leave only minis from Schaffer collaterals synapses (\"proj_minis\")\n",
    "3. disable minis from Schaffer collaterals synapses and leave minis from internal synapses (\"internal_minis\")\n",
    "4. disable all the minis (\"no_minis\")\n",
    "\n",
    "We expect that firing rates decrease on average from simulation 1 to 4.\n",
    "If this is not the case, it means there is some problems in the network or in the simulation we have to fix.\n",
    "\n",
    "---\n",
    "\n",
    "Import some python packages"
   ]
  },
  {
   "cell_type": "code",
   "execution_count": null,
   "metadata": {},
   "outputs": [],
   "source": [
    "import matplotlib.pyplot as plt\n",
    "import numpy as np\n",
    "import pandas as pd\n",
    "\n",
    "# package to work with the circuit\n",
    "from bluepysnap import Simulation\n",
    "from bluepysnap.bbp import Cell"
   ]
  },
  {
   "cell_type": "markdown",
   "metadata": {},
   "source": [
    "Specify where we have the simulations (we create the simulation objects later) and set parameters for the analysis"
   ]
  },
  {
   "cell_type": "code",
   "execution_count": null,
   "metadata": {},
   "outputs": [],
   "source": [
    "root = '/home/data-bbp/20191017/simulations/activate_minis/'\n",
    "\n",
    "folders = ('minis', 'proj_minis', 'internal_minis', 'no_minis')\n",
    "\n",
    "target = 'CA1' # group of cells to be analised\n",
    "sample = 4000 # number of cells to be analised\n",
    "t_start, t_end = 200, 1000 # exclude initial transient"
   ]
  },
  {
   "cell_type": "markdown",
   "metadata": {},
   "source": [
    "Define an helper function to compute the mean frequency of a give gid"
   ]
  },
  {
   "cell_type": "code",
   "execution_count": null,
   "metadata": {},
   "outputs": [],
   "source": [
    "def get_spike_frequency(sim, gid, t_start, t_end):\n",
    "    table = sim.spikes.filter([gid], t_start=t_start, t_stop=t_end).report\n",
    "    if (t_end-t_start) == 0:\n",
    "        return 0\n",
    "    return len(table)*1000.0/(t_end-t_start)"
   ]
  },
  {
   "cell_type": "markdown",
   "metadata": {},
   "source": [
    "List the morphological types (m-types) that will be analised"
   ]
  },
  {
   "cell_type": "code",
   "execution_count": null,
   "metadata": {},
   "outputs": [],
   "source": [
    "sim = Simulation(root + folders[0] + '/simulation_config.json')\n",
    "mtypes = sim.circuit.nodes[\"hippocampus_neurons\"].property_values(Cell.MTYPE)\n",
    "mtypes = sorted(mtypes)"
   ]
  },
  {
   "cell_type": "markdown",
   "metadata": {},
   "source": [
    "Initialise table to host the results"
   ]
  },
  {
   "cell_type": "code",
   "execution_count": null,
   "metadata": {},
   "outputs": [],
   "source": [
    "df = pd.DataFrame(index=mtypes,columns=folders)\n",
    "df"
   ]
  },
  {
   "cell_type": "markdown",
   "metadata": {},
   "source": [
    "Analise the four simulations and store the results in the table"
   ]
  },
  {
   "cell_type": "code",
   "execution_count": null,
   "metadata": {},
   "outputs": [],
   "source": [
    "for folder in folders:\n",
    "    path = root + folder + '/simulation_config.json'\n",
    "    sim = Simulation(path)\n",
    "    for mtype in mtypes:\n",
    "        print(folder,mtype)\n",
    "        gids = sim.circuit.nodes[\"hippocampus_neurons\"].ids(group={Cell.MTYPE: mtype, \"$node_set\": target},limit=sample)\n",
    "        freqs = np.array([get_spike_frequency(sim, gid, t_start, t_end) for gid in gids])\n",
    "        df.loc[mtype,folder] = freqs.mean()\n",
    "df"
   ]
  },
  {
   "cell_type": "markdown",
   "metadata": {},
   "source": [
    "Plot the results"
   ]
  },
  {
   "cell_type": "code",
   "execution_count": null,
   "metadata": {},
   "outputs": [],
   "source": [
    "fig, ax = plt.subplots(figsize=(11.69, 8.27))\n",
    "data = df.values.T\n",
    "ax.plot(data)\n",
    "ax.legend(df.index.values, fontsize=16, frameon=False)\n",
    "# ax.set_xlabel('mtype')\n",
    "ax.set_ylabel('frequency (Hz)')\n",
    "# ax.set_title('Frequency')\n",
    "ax.set_xticks(range(len(folders)))\n",
    "ax.set_xticklabels(folders, rotation='vertical')\n",
    "\n",
    "ax.spines['top'].set_visible(False)\n",
    "ax.spines['right'].set_visible(False)"
   ]
  },
  {
   "cell_type": "markdown",
   "metadata": {},
   "source": [
    "### Exercise #1\n",
    "\n",
    "Another test we presented in the lecture is to disable inhibition. Launch a simulation with the same parameters of the simulation \"minis\" of above but without inhibition. To recapitulate, the new simulation should be:\n",
    "- all neurons are simulated\n",
    "- duration of 1000 ms\n",
    "- projections (Schaffer collaterals) included\n",
    "- spontaneous synaptic activity (minis) at 0.01 Hz\n",
    "- set weights=0 for connections from interneurons to pyramidal cells\n",
    "\n",
    "Compute the distributions of mean frequencies from all the cells in \"minis\" and \"minis without inhibition\" (remember to exclude the first 200 ms from the analysis). Store means and standand deviations of the two distributions in a list called ans_1."
   ]
  },
  {
   "cell_type": "code",
   "execution_count": null,
   "metadata": {},
   "outputs": [],
   "source": [
    "# This is to generate the answers to paste in the submission box below.\n",
    "# After you defined the variables with your answers, run this cell and the next cell, and copy-paste the output into the box below\n",
    "print(json.dumps(dict([(\"ans_1\", ans_1)])))"
   ]
  },
  {
   "cell_type": "code",
   "execution_count": null,
   "metadata": {},
   "outputs": [],
   "source": [
    "!pip -q install -i https://bbpteam.epfl.ch/repository/devpi/simple/ single-cell-mooc-client==0.0.5 \n",
    "import single_cell_mooc_client as sc_mc\n",
    "s = sc_mc.Submission(hideToken=True)"
   ]
  },
  {
   "cell_type": "code",
   "execution_count": null,
   "metadata": {},
   "outputs": [],
   "source": [
    "s.show_submission(ROLLBACK, TOKEN)"
   ]
  }
 ],
 "metadata": {
  "kernelspec": {
   "display_name": "Python 3",
   "language": "python",
   "name": "python3"
  },
  "language_info": {
   "codemirror_mode": {
    "name": "ipython",
    "version": 3
   },
   "file_extension": ".py",
   "mimetype": "text/x-python",
   "name": "python",
   "nbconvert_exporter": "python",
   "pygments_lexer": "ipython3",
   "version": "3.6.9"
  }
 },
 "nbformat": 4,
 "nbformat_minor": 4
}
