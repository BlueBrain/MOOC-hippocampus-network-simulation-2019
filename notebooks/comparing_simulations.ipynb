{
 "cells": [
  {
   "cell_type": "markdown",
   "metadata": {},
   "source": [
    "# Comparing simulations"
   ]
  },
  {
   "cell_type": "markdown",
   "metadata": {},
   "source": [
    "In this notebook you will compare different simulations, to understand how a manipulation impacts the network activity.\n",
    "\n",
    "In particular, ...\n",
    "\n",
    "---\n",
    "\n",
    "Import some python packages"
   ]
  },
  {
   "cell_type": "code",
   "execution_count": null,
   "metadata": {},
   "outputs": [],
   "source": [
    "import matplotlib.pyplot as plt\n",
    "import numpy as np\n",
    "import pandas as pd\n",
    "\n",
    "# package to work with the circuit\n",
    "from bluepysnap import Simulation\n",
    "from bluepysnap.bbp import Cell"
   ]
  },
  {
   "cell_type": "code",
   "execution_count": null,
   "metadata": {},
   "outputs": [],
   "source": [
    "root = '/home/data-bbp/20191017/simulations/'\n",
    "\n",
    "folders = ('minis', 'no_internal_minis', 'no_proj_minis', 'no_minis')\n",
    "\n",
    "target = 'Mosaic'\n",
    "t_start, t_end = 200, 1000"
   ]
  },
  {
   "cell_type": "code",
   "execution_count": null,
   "metadata": {},
   "outputs": [],
   "source": [
    "def get_spike_frequency(gid, t_start, t_end):\n",
    "    table = sim.spikes.filter([gid], t_start=t_start, t_stop=t_stop)\n",
    "    if (t_end-t_start) == 0:\n",
    "        return 0\n",
    "    return len(table)*1000.0/(t_end-t_start)"
   ]
  },
  {
   "cell_type": "code",
   "execution_count": null,
   "metadata": {},
   "outputs": [],
   "source": [
    "sim = Simulation(root + folders[0] + '/simulation_config.json')\n",
    "mtypes = sim.circuit.cells.get(properties=Cell.MTYPE).unique()\n",
    "mtypes = sorted(mtypes)"
   ]
  },
  {
   "cell_type": "code",
   "execution_count": null,
   "metadata": {},
   "outputs": [],
   "source": [
    "df = pd.DataFrame(index=mtypes,columns=folders)\n",
    "df"
   ]
  },
  {
   "cell_type": "code",
   "execution_count": null,
   "metadata": {},
   "outputs": [],
   "source": [
    "for folder in folders:\n",
    "    path = root + folder + '/simulation_config.json'\n",
    "    sim = Simulation(path)\n",
    "    for mtype in mtypes:\n",
    "        print(folder,mtype)\n",
    "        gids = sim.circuit.nodes[\"hippocampus_neurons\"].ids(group={Cell.MTYPE: mtype, '$target': target})\n",
    "        freqs = np.array([get_spike_frequency(gid, t_start, t_end) for gid in gids])\n",
    "        df.loc[mtype,folder] = freqs.mean()\n",
    "df"
   ]
  },
  {
   "cell_type": "code",
   "execution_count": null,
   "metadata": {},
   "outputs": [],
   "source": [
    "fig, ax = plt.subplots(figsize=(11.69, 8.27))\n",
    "data = df.values.T\n",
    "ax.plot(data)\n",
    "ax.legend(df.index.values, fontsize=16, frameon=False)\n",
    "# ax.set_xlabel('mtype')\n",
    "ax.set_ylabel('frequency (Hz)')\n",
    "# ax.set_title('Frequency')\n",
    "ax.set_xticks(range(len(folders)))\n",
    "ax.set_xticklabels(folders, rotation='vertical')\n",
    "\n",
    "ax.spines['top'].set_visible(False)\n",
    "ax.spines['right'].set_visible(False)"
   ]
  },
  {
   "cell_type": "markdown",
   "metadata": {},
   "source": [
    "### Exercise #1\n",
    "\n",
    "Description."
   ]
  },
  {
   "cell_type": "code",
   "execution_count": null,
   "metadata": {},
   "outputs": [],
   "source": [
    "# This is to generate the answers to paste in the submission box below.\n",
    "# After you defined the variables with your answers, run this cell and the next cell, and copy-paste the output into the box below\n",
    "print(json.dumps(dict([(\"ans_1\", ans_1)])))"
   ]
  },
  {
   "cell_type": "code",
   "execution_count": null,
   "metadata": {},
   "outputs": [],
   "source": [
    "!pip -q install -i https://bbpteam.epfl.ch/repository/devpi/simple/ single-cell-mooc-client==0.0.5 \n",
    "import single_cell_mooc_client as sc_mc\n",
    "s = sc_mc.Submission(hideToken=True)"
   ]
  },
  {
   "cell_type": "code",
   "execution_count": null,
   "metadata": {},
   "outputs": [],
   "source": [
    "s.show_submission(ROLLBACK, TOKEN)"
   ]
  }
 ],
 "metadata": {
  "kernelspec": {
   "display_name": "Python 3",
   "language": "python",
   "name": "python3"
  },
  "language_info": {
   "codemirror_mode": {
    "name": "ipython",
    "version": 3
   },
   "file_extension": ".py",
   "mimetype": "text/x-python",
   "name": "python",
   "nbconvert_exporter": "python",
   "pygments_lexer": "ipython3",
   "version": "3.6.9"
  }
 },
 "nbformat": 4,
 "nbformat_minor": 4
}
